{
 "cells": [
  {
   "cell_type": "code",
   "execution_count": 1,
   "metadata": {},
   "outputs": [
    {
     "name": "stdout",
     "output_type": "stream",
     "text": [
      "1.13.1\n"
     ]
    }
   ],
   "source": [
    "from Config import *\n",
    "from Dataset import *\n",
    "from Experiments import *\n",
    "from Metric import *\n",
    "from Model import *\n",
    "from Utils import *\n",
    "from FID import *\n",
    "from Train import *\n",
    "\n",
    "import gc\n"
   ]
  },
  {
   "cell_type": "code",
   "execution_count": null,
   "metadata": {},
   "outputs": [
    {
     "name": "stdout",
     "output_type": "stream",
     "text": [
      "Config : MNIST\n",
      "Config : haha\n",
      "loading model : 0_ckpt_30_.pt ......\n"
     ]
    },
    {
     "name": "stderr",
     "output_type": "stream",
     "text": [
      "c:\\Users\\user\\Desktop\\DDPM_XAI\\Utils.py:799: FutureWarning: You are using `torch.load` with `weights_only=False` (the current default value), which uses the default pickle module implicitly. It is possible to construct malicious pickle data which will execute arbitrary code during unpickling (See https://github.com/pytorch/pytorch/blob/main/SECURITY.md#untrusted-models for more details). In a future release, the default value for `weights_only` will be flipped to `True`. This limits the functions that could be executed during unpickling. Arbitrary objects will no longer be allowed to be loaded via this mode unless they are explicitly allowlisted by the user via `torch.serialization.add_safe_globals`. We recommend you start setting `weights_only=True` for any use case where you don't have full control of the loaded file. Please open an issue on GitHub for any issues related to this experimental feature.\n",
      "  ckpt = torch.load(os.path.join(\n"
     ]
    },
    {
     "name": "stdout",
     "output_type": "stream",
     "text": [
      "model load weight done.\n",
      "update Sampler ...... done\n",
      "update Trainer ...... done\n",
      "Creating anchor dataframe ......\n",
      "Timestep 999 add to h space information and xt information.\n",
      "Timestep 998 add to h space information and xt information.\n",
      "Timestep 997 add to h space information and xt information.\n",
      "Timestep 996 add to h space information and xt information.\n",
      "Timestep 995 add to h space information and xt information.\n",
      "Timestep 994 add to h space information and xt information.\n",
      "Timestep 993 add to h space information and xt information.\n",
      "Timestep 992 add to h space information and xt information.\n",
      "Timestep 991 add to h space information and xt information.\n",
      "Timestep 990 add to h space information and xt information.\n",
      "Timestep 989 add to h space information and xt information.\n",
      "Timestep 988 add to h space information and xt information.\n",
      "Timestep 987 add to h space information and xt information.\n",
      "Timestep 986 add to h space information and xt information.\n",
      "Timestep 985 add to h space information and xt information.\n",
      "Timestep 984 add to h space information and xt information.\n",
      "Timestep 983 add to h space information and xt information.\n",
      "Timestep 982 add to h space information and xt information.\n",
      "Timestep 981 add to h space information and xt information.\n",
      "Timestep 980 add to h space information and xt information.\n",
      "Timestep 979 add to h space information and xt information.\n",
      "Timestep 978 add to h space information and xt information.\n",
      "Timestep 977 add to h space information and xt information.\n",
      "Timestep 976 add to h space information and xt information.\n",
      "Timestep 975 add to h space information and xt information.\n",
      "Timestep 974 add to h space information and xt information.\n",
      "Timestep 973 add to h space information and xt information.\n",
      "Timestep 972 add to h space information and xt information.\n",
      "Timestep 971 add to h space information and xt information.\n",
      "Timestep 970 add to h space information and xt information.\n",
      "Timestep 969 add to h space information and xt information.\n",
      "Timestep 968 add to h space information and xt information.\n",
      "Timestep 967 add to h space information and xt information.\n",
      "Timestep 966 add to h space information and xt information.\n",
      "Timestep 965 add to h space information and xt information.\n",
      "Timestep 964 add to h space information and xt information.\n",
      "Timestep 963 add to h space information and xt information.\n",
      "Timestep 962 add to h space information and xt information.\n",
      "Timestep 961 add to h space information and xt information.\n",
      "Timestep 960 add to h space information and xt information.\n",
      "Timestep 959 add to h space information and xt information.\n",
      "Timestep 958 add to h space information and xt information.\n",
      "Timestep 957 add to h space information and xt information.\n",
      "Timestep 956 add to h space information and xt information.\n",
      "Timestep 955 add to h space information and xt information.\n",
      "Timestep 954 add to h space information and xt information.\n",
      "Timestep 953 add to h space information and xt information.\n",
      "Timestep 952 add to h space information and xt information.\n",
      "Timestep 951 add to h space information and xt information.\n",
      "Timestep 950 add to h space information and xt information.\n",
      "Timestep 949 add to h space information and xt information.\n",
      "Timestep 948 add to h space information and xt information.\n",
      "Timestep 947 add to h space information and xt information.\n",
      "Timestep 946 add to h space information and xt information.\n",
      "Timestep 945 add to h space information and xt information.\n",
      "Timestep 944 add to h space information and xt information.\n",
      "Timestep 943 add to h space information and xt information.\n",
      "Timestep 942 add to h space information and xt information.\n",
      "Timestep 941 add to h space information and xt information.\n",
      "Timestep 940 add to h space information and xt information.\n",
      "Timestep 939 add to h space information and xt information.\n",
      "Timestep 938 add to h space information and xt information.\n",
      "Timestep 937 add to h space information and xt information.\n",
      "Timestep 936 add to h space information and xt information.\n",
      "Timestep 935 add to h space information and xt information.\n",
      "Timestep 934 add to h space information and xt information.\n",
      "Timestep 933 add to h space information and xt information.\n",
      "Timestep 932 add to h space information and xt information.\n",
      "Timestep 931 add to h space information and xt information.\n",
      "Timestep 930 add to h space information and xt information.\n",
      "Timestep 929 add to h space information and xt information.\n",
      "Timestep 928 add to h space information and xt information.\n",
      "Timestep 927 add to h space information and xt information.\n",
      "Timestep 926 add to h space information and xt information.\n",
      "Timestep 925 add to h space information and xt information.\n",
      "Timestep 924 add to h space information and xt information.\n",
      "Timestep 923 add to h space information and xt information.\n",
      "Timestep 922 add to h space information and xt information.\n",
      "Timestep 921 add to h space information and xt information.\n",
      "Timestep 920 add to h space information and xt information.\n",
      "Timestep 919 add to h space information and xt information.\n",
      "Timestep 918 add to h space information and xt information.\n",
      "Timestep 917 add to h space information and xt information.\n",
      "Timestep 916 add to h space information and xt information.\n",
      "Timestep 915 add to h space information and xt information.\n",
      "Timestep 914 add to h space information and xt information.\n",
      "Timestep 913 add to h space information and xt information.\n",
      "Timestep 912 add to h space information and xt information.\n",
      "Timestep 911 add to h space information and xt information.\n",
      "Timestep 910 add to h space information and xt information.\n",
      "Timestep 909 add to h space information and xt information.\n",
      "Timestep 908 add to h space information and xt information.\n",
      "Timestep 907 add to h space information and xt information.\n",
      "Timestep 906 add to h space information and xt information.\n",
      "Timestep 905 add to h space information and xt information.\n",
      "Timestep 904 add to h space information and xt information.\n",
      "Timestep 903 add to h space information and xt information.\n",
      "Timestep 902 add to h space information and xt information.\n",
      "Timestep 901 add to h space information and xt information.\n",
      "Timestep 900 add to h space information and xt information.\n",
      "Timestep 899 add to h space information and xt information.\n",
      "Timestep 898 add to h space information and xt information.\n",
      "Timestep 897 add to h space information and xt information.\n",
      "Timestep 896 add to h space information and xt information.\n",
      "Timestep 895 add to h space information and xt information.\n",
      "Timestep 894 add to h space information and xt information.\n",
      "Timestep 893 add to h space information and xt information.\n",
      "Timestep 892 add to h space information and xt information.\n",
      "Timestep 891 add to h space information and xt information.\n",
      "Timestep 890 add to h space information and xt information.\n",
      "Timestep 889 add to h space information and xt information.\n",
      "Timestep 888 add to h space information and xt information.\n",
      "Timestep 887 add to h space information and xt information.\n",
      "Timestep 886 add to h space information and xt information.\n",
      "Timestep 885 add to h space information and xt information.\n",
      "Timestep 884 add to h space information and xt information.\n",
      "Timestep 883 add to h space information and xt information.\n",
      "Timestep 882 add to h space information and xt information.\n",
      "Timestep 881 add to h space information and xt information.\n",
      "Timestep 880 add to h space information and xt information.\n",
      "Timestep 879 add to h space information and xt information.\n",
      "Timestep 878 add to h space information and xt information.\n",
      "Timestep 877 add to h space information and xt information.\n",
      "Timestep 876 add to h space information and xt information.\n",
      "Timestep 875 add to h space information and xt information.\n",
      "Timestep 874 add to h space information and xt information.\n",
      "Timestep 873 add to h space information and xt information.\n",
      "Timestep 872 add to h space information and xt information.\n",
      "Timestep 871 add to h space information and xt information.\n",
      "Timestep 870 add to h space information and xt information.\n",
      "Timestep 869 add to h space information and xt information.\n",
      "Timestep 868 add to h space information and xt information.\n",
      "Timestep 867 add to h space information and xt information.\n",
      "Timestep 866 add to h space information and xt information.\n",
      "Timestep 865 add to h space information and xt information.\n",
      "Timestep 864 add to h space information and xt information.\n",
      "Timestep 863 add to h space information and xt information.\n",
      "Timestep 862 add to h space information and xt information.\n",
      "Timestep 861 add to h space information and xt information.\n",
      "Timestep 860 add to h space information and xt information.\n",
      "Timestep 859 add to h space information and xt information.\n",
      "Timestep 858 add to h space information and xt information.\n",
      "Timestep 857 add to h space information and xt information.\n",
      "Timestep 856 add to h space information and xt information.\n",
      "Timestep 855 add to h space information and xt information.\n",
      "Timestep 854 add to h space information and xt information.\n",
      "Timestep 853 add to h space information and xt information.\n",
      "Timestep 852 add to h space information and xt information.\n",
      "Timestep 851 add to h space information and xt information.\n",
      "Timestep 850 add to h space information and xt information.\n",
      "Timestep 849 add to h space information and xt information.\n",
      "Timestep 848 add to h space information and xt information.\n",
      "Timestep 847 add to h space information and xt information.\n",
      "Timestep 846 add to h space information and xt information.\n",
      "Timestep 845 add to h space information and xt information.\n",
      "Timestep 844 add to h space information and xt information.\n",
      "Timestep 843 add to h space information and xt information.\n",
      "Timestep 842 add to h space information and xt information.\n",
      "Timestep 841 add to h space information and xt information.\n",
      "Timestep 840 add to h space information and xt information.\n",
      "Timestep 839 add to h space information and xt information.\n",
      "Timestep 838 add to h space information and xt information.\n",
      "Timestep 837 add to h space information and xt information.\n",
      "Timestep 836 add to h space information and xt information.\n",
      "Timestep 835 add to h space information and xt information.\n",
      "Timestep 834 add to h space information and xt information.\n",
      "Timestep 833 add to h space information and xt information.\n",
      "Timestep 832 add to h space information and xt information.\n",
      "Timestep 831 add to h space information and xt information.\n",
      "Timestep 830 add to h space information and xt information.\n",
      "Timestep 829 add to h space information and xt information.\n",
      "Timestep 828 add to h space information and xt information.\n",
      "Timestep 827 add to h space information and xt information.\n",
      "Timestep 826 add to h space information and xt information.\n",
      "Timestep 825 add to h space information and xt information.\n",
      "Timestep 824 add to h space information and xt information.\n",
      "Timestep 823 add to h space information and xt information.\n",
      "Timestep 822 add to h space information and xt information.\n",
      "Timestep 821 add to h space information and xt information.\n",
      "Timestep 820 add to h space information and xt information.\n",
      "Timestep 819 add to h space information and xt information.\n",
      "Timestep 818 add to h space information and xt information.\n",
      "Timestep 817 add to h space information and xt information.\n",
      "Timestep 816 add to h space information and xt information.\n",
      "Timestep 815 add to h space information and xt information.\n",
      "Timestep 814 add to h space information and xt information.\n",
      "Timestep 813 add to h space information and xt information.\n",
      "Timestep 812 add to h space information and xt information.\n",
      "Timestep 811 add to h space information and xt information.\n",
      "Timestep 810 add to h space information and xt information.\n",
      "Timestep 809 add to h space information and xt information.\n",
      "Timestep 808 add to h space information and xt information.\n",
      "Timestep 807 add to h space information and xt information.\n",
      "Timestep 806 add to h space information and xt information.\n",
      "Timestep 805 add to h space information and xt information.\n",
      "Timestep 804 add to h space information and xt information.\n",
      "Timestep 803 add to h space information and xt information.\n",
      "Timestep 802 add to h space information and xt information.\n",
      "Timestep 801 add to h space information and xt information.\n",
      "Timestep 800 add to h space information and xt information.\n",
      "Timestep 799 add to h space information and xt information.\n",
      "Timestep 798 add to h space information and xt information.\n",
      "Timestep 797 add to h space information and xt information.\n",
      "Timestep 796 add to h space information and xt information.\n",
      "Timestep 795 add to h space information and xt information.\n",
      "Timestep 794 add to h space information and xt information.\n",
      "Timestep 793 add to h space information and xt information.\n",
      "Timestep 792 add to h space information and xt information.\n",
      "Timestep 791 add to h space information and xt information.\n",
      "Timestep 790 add to h space information and xt information.\n",
      "Timestep 789 add to h space information and xt information.\n",
      "Timestep 788 add to h space information and xt information.\n",
      "Timestep 787 add to h space information and xt information.\n",
      "Timestep 786 add to h space information and xt information.\n",
      "Timestep 785 add to h space information and xt information.\n",
      "Timestep 784 add to h space information and xt information.\n",
      "Timestep 783 add to h space information and xt information.\n",
      "Timestep 782 add to h space information and xt information.\n",
      "Timestep 781 add to h space information and xt information.\n",
      "Timestep 780 add to h space information and xt information.\n",
      "Timestep 779 add to h space information and xt information.\n",
      "Timestep 778 add to h space information and xt information.\n",
      "Timestep 777 add to h space information and xt information.\n",
      "Timestep 776 add to h space information and xt information.\n",
      "Timestep 775 add to h space information and xt information.\n",
      "Timestep 774 add to h space information and xt information.\n",
      "Timestep 773 add to h space information and xt information.\n",
      "Timestep 772 add to h space information and xt information.\n",
      "Timestep 771 add to h space information and xt information.\n",
      "Timestep 770 add to h space information and xt information.\n",
      "Timestep 769 add to h space information and xt information.\n",
      "Timestep 768 add to h space information and xt information.\n",
      "Timestep 767 add to h space information and xt information.\n",
      "Timestep 766 add to h space information and xt information.\n",
      "Timestep 765 add to h space information and xt information.\n",
      "Timestep 764 add to h space information and xt information.\n",
      "Timestep 763 add to h space information and xt information.\n",
      "Timestep 762 add to h space information and xt information.\n",
      "Timestep 761 add to h space information and xt information.\n",
      "Timestep 760 add to h space information and xt information.\n",
      "Timestep 759 add to h space information and xt information.\n",
      "Timestep 758 add to h space information and xt information.\n",
      "Timestep 757 add to h space information and xt information.\n",
      "Timestep 756 add to h space information and xt information.\n",
      "Timestep 755 add to h space information and xt information.\n",
      "Timestep 754 add to h space information and xt information.\n",
      "Timestep 753 add to h space information and xt information.\n",
      "Timestep 752 add to h space information and xt information.\n",
      "Timestep 751 add to h space information and xt information.\n",
      "Timestep 750 add to h space information and xt information.\n",
      "Timestep 749 add to h space information and xt information.\n",
      "Timestep 748 add to h space information and xt information.\n",
      "Timestep 747 add to h space information and xt information.\n",
      "Timestep 746 add to h space information and xt information.\n",
      "Timestep 745 add to h space information and xt information.\n",
      "Timestep 744 add to h space information and xt information.\n",
      "Timestep 743 add to h space information and xt information.\n",
      "Timestep 742 add to h space information and xt information.\n",
      "Timestep 741 add to h space information and xt information.\n",
      "Timestep 740 add to h space information and xt information.\n",
      "Timestep 739 add to h space information and xt information.\n",
      "Timestep 738 add to h space information and xt information.\n",
      "Timestep 737 add to h space information and xt information.\n",
      "Timestep 736 add to h space information and xt information.\n",
      "Timestep 735 add to h space information and xt information.\n",
      "Timestep 734 add to h space information and xt information.\n",
      "Timestep 733 add to h space information and xt information.\n",
      "Timestep 732 add to h space information and xt information.\n",
      "Timestep 731 add to h space information and xt information.\n",
      "Timestep 730 add to h space information and xt information.\n",
      "Timestep 729 add to h space information and xt information.\n",
      "Timestep 728 add to h space information and xt information.\n",
      "Timestep 727 add to h space information and xt information.\n",
      "Timestep 726 add to h space information and xt information.\n",
      "Timestep 725 add to h space information and xt information.\n",
      "Timestep 724 add to h space information and xt information.\n",
      "Timestep 723 add to h space information and xt information.\n",
      "Timestep 722 add to h space information and xt information.\n",
      "Timestep 721 add to h space information and xt information.\n",
      "Timestep 720 add to h space information and xt information.\n",
      "Timestep 719 add to h space information and xt information.\n",
      "Timestep 718 add to h space information and xt information.\n",
      "Timestep 717 add to h space information and xt information.\n",
      "Timestep 716 add to h space information and xt information.\n",
      "Timestep 715 add to h space information and xt information.\n",
      "Timestep 714 add to h space information and xt information.\n",
      "Timestep 713 add to h space information and xt information.\n",
      "Timestep 712 add to h space information and xt information.\n",
      "Timestep 711 add to h space information and xt information.\n",
      "Timestep 710 add to h space information and xt information.\n",
      "Timestep 709 add to h space information and xt information.\n",
      "Timestep 708 add to h space information and xt information.\n",
      "Timestep 707 add to h space information and xt information.\n",
      "Timestep 706 add to h space information and xt information.\n",
      "Timestep 705 add to h space information and xt information.\n",
      "Timestep 704 add to h space information and xt information.\n",
      "Timestep 703 add to h space information and xt information.\n",
      "Timestep 702 add to h space information and xt information.\n",
      "Timestep 701 add to h space information and xt information.\n",
      "Timestep 700 add to h space information and xt information.\n",
      "Timestep 699 add to h space information and xt information.\n",
      "Timestep 698 add to h space information and xt information.\n",
      "Timestep 697 add to h space information and xt information.\n",
      "Timestep 696 add to h space information and xt information.\n",
      "Timestep 695 add to h space information and xt information.\n",
      "Timestep 694 add to h space information and xt information.\n",
      "Timestep 693 add to h space information and xt information.\n",
      "Timestep 692 add to h space information and xt information.\n",
      "Timestep 691 add to h space information and xt information.\n",
      "Timestep 690 add to h space information and xt information.\n",
      "Timestep 689 add to h space information and xt information.\n",
      "Timestep 688 add to h space information and xt information.\n",
      "Timestep 687 add to h space information and xt information.\n",
      "Timestep 686 add to h space information and xt information.\n",
      "Timestep 685 add to h space information and xt information.\n",
      "Timestep 684 add to h space information and xt information.\n",
      "Timestep 683 add to h space information and xt information.\n",
      "Timestep 682 add to h space information and xt information.\n",
      "Timestep 681 add to h space information and xt information.\n",
      "Timestep 680 add to h space information and xt information.\n",
      "Timestep 679 add to h space information and xt information.\n",
      "Timestep 678 add to h space information and xt information.\n",
      "Timestep 677 add to h space information and xt information.\n",
      "Timestep 676 add to h space information and xt information.\n",
      "Timestep 675 add to h space information and xt information.\n",
      "Timestep 674 add to h space information and xt information.\n",
      "Timestep 673 add to h space information and xt information.\n",
      "Timestep 672 add to h space information and xt information.\n",
      "Timestep 671 add to h space information and xt information.\n",
      "Timestep 670 add to h space information and xt information.\n",
      "Timestep 669 add to h space information and xt information.\n",
      "Timestep 668 add to h space information and xt information.\n",
      "Timestep 667 add to h space information and xt information.\n",
      "Timestep 666 add to h space information and xt information.\n",
      "Timestep 665 add to h space information and xt information.\n",
      "Timestep 664 add to h space information and xt information.\n",
      "Timestep 663 add to h space information and xt information.\n",
      "Timestep 662 add to h space information and xt information.\n",
      "Timestep 661 add to h space information and xt information.\n",
      "Timestep 660 add to h space information and xt information.\n",
      "Timestep 659 add to h space information and xt information.\n",
      "Timestep 658 add to h space information and xt information.\n",
      "Timestep 657 add to h space information and xt information.\n",
      "Timestep 656 add to h space information and xt information.\n",
      "Timestep 655 add to h space information and xt information.\n",
      "Timestep 654 add to h space information and xt information.\n",
      "Timestep 653 add to h space information and xt information.\n",
      "Timestep 652 add to h space information and xt information.\n",
      "Timestep 651 add to h space information and xt information.\n",
      "Timestep 650 add to h space information and xt information.\n",
      "Timestep 649 add to h space information and xt information.\n",
      "Timestep 648 add to h space information and xt information.\n",
      "Timestep 647 add to h space information and xt information.\n",
      "Timestep 646 add to h space information and xt information.\n",
      "Timestep 645 add to h space information and xt information.\n",
      "Timestep 644 add to h space information and xt information.\n",
      "Timestep 643 add to h space information and xt information.\n",
      "Timestep 642 add to h space information and xt information.\n",
      "Timestep 641 add to h space information and xt information.\n",
      "Timestep 640 add to h space information and xt information.\n",
      "Timestep 639 add to h space information and xt information.\n",
      "Timestep 638 add to h space information and xt information.\n",
      "Timestep 637 add to h space information and xt information.\n",
      "Timestep 636 add to h space information and xt information.\n",
      "Timestep 635 add to h space information and xt information.\n",
      "Timestep 634 add to h space information and xt information.\n",
      "Timestep 633 add to h space information and xt information.\n",
      "Timestep 632 add to h space information and xt information.\n",
      "Timestep 631 add to h space information and xt information.\n",
      "Timestep 630 add to h space information and xt information.\n",
      "Timestep 629 add to h space information and xt information.\n",
      "Timestep 628 add to h space information and xt information.\n",
      "Timestep 627 add to h space information and xt information.\n",
      "Timestep 626 add to h space information and xt information.\n",
      "Timestep 625 add to h space information and xt information.\n",
      "Timestep 624 add to h space information and xt information.\n",
      "Timestep 623 add to h space information and xt information.\n",
      "Timestep 622 add to h space information and xt information.\n",
      "Timestep 621 add to h space information and xt information.\n",
      "Timestep 620 add to h space information and xt information.\n",
      "Timestep 619 add to h space information and xt information.\n",
      "Timestep 618 add to h space information and xt information.\n",
      "Timestep 617 add to h space information and xt information.\n",
      "Timestep 616 add to h space information and xt information.\n",
      "Timestep 615 add to h space information and xt information.\n",
      "Timestep 614 add to h space information and xt information.\n",
      "Timestep 613 add to h space information and xt information.\n",
      "Timestep 612 add to h space information and xt information.\n",
      "Timestep 611 add to h space information and xt information.\n",
      "Timestep 610 add to h space information and xt information.\n",
      "Timestep 609 add to h space information and xt information.\n",
      "Timestep 608 add to h space information and xt information.\n",
      "Timestep 607 add to h space information and xt information.\n",
      "Timestep 606 add to h space information and xt information.\n",
      "Timestep 605 add to h space information and xt information.\n",
      "Timestep 604 add to h space information and xt information.\n",
      "Timestep 603 add to h space information and xt information.\n",
      "Timestep 602 add to h space information and xt information.\n",
      "Timestep 601 add to h space information and xt information.\n",
      "Timestep 600 add to h space information and xt information.\n",
      "Timestep 599 add to h space information and xt information.\n",
      "Timestep 598 add to h space information and xt information.\n",
      "Timestep 597 add to h space information and xt information.\n",
      "Timestep 596 add to h space information and xt information.\n",
      "Timestep 595 add to h space information and xt information.\n",
      "Timestep 594 add to h space information and xt information.\n",
      "Timestep 593 add to h space information and xt information.\n",
      "Timestep 592 add to h space information and xt information.\n",
      "Timestep 591 add to h space information and xt information.\n",
      "Timestep 590 add to h space information and xt information.\n",
      "Timestep 589 add to h space information and xt information.\n",
      "Timestep 588 add to h space information and xt information.\n",
      "Timestep 587 add to h space information and xt information.\n",
      "Timestep 586 add to h space information and xt information.\n",
      "Timestep 585 add to h space information and xt information.\n",
      "Timestep 584 add to h space information and xt information.\n",
      "Timestep 583 add to h space information and xt information.\n",
      "Timestep 582 add to h space information and xt information.\n",
      "Timestep 581 add to h space information and xt information.\n",
      "Timestep 580 add to h space information and xt information.\n",
      "Timestep 579 add to h space information and xt information.\n",
      "Timestep 578 add to h space information and xt information.\n",
      "Timestep 577 add to h space information and xt information.\n",
      "Timestep 576 add to h space information and xt information.\n",
      "Timestep 575 add to h space information and xt information.\n",
      "Timestep 574 add to h space information and xt information.\n",
      "Timestep 573 add to h space information and xt information.\n",
      "Timestep 572 add to h space information and xt information.\n",
      "Timestep 571 add to h space information and xt information.\n",
      "Timestep 570 add to h space information and xt information.\n",
      "Timestep 569 add to h space information and xt information.\n",
      "Timestep 568 add to h space information and xt information.\n",
      "Timestep 567 add to h space information and xt information.\n",
      "Timestep 566 add to h space information and xt information.\n",
      "Timestep 565 add to h space information and xt information.\n",
      "Timestep 564 add to h space information and xt information.\n",
      "Timestep 563 add to h space information and xt information.\n",
      "Timestep 562 add to h space information and xt information.\n",
      "Timestep 561 add to h space information and xt information.\n",
      "Timestep 560 add to h space information and xt information.\n",
      "Timestep 559 add to h space information and xt information.\n",
      "Timestep 558 add to h space information and xt information.\n",
      "Timestep 557 add to h space information and xt information.\n",
      "Timestep 556 add to h space information and xt information.\n",
      "Timestep 555 add to h space information and xt information.\n",
      "Timestep 554 add to h space information and xt information.\n",
      "Timestep 553 add to h space information and xt information.\n",
      "Timestep 552 add to h space information and xt information.\n",
      "Timestep 551 add to h space information and xt information.\n",
      "Timestep 550 add to h space information and xt information.\n",
      "Timestep 549 add to h space information and xt information.\n",
      "Timestep 548 add to h space information and xt information.\n",
      "Timestep 547 add to h space information and xt information.\n",
      "Timestep 546 add to h space information and xt information.\n",
      "Timestep 545 add to h space information and xt information.\n",
      "Timestep 544 add to h space information and xt information.\n",
      "Timestep 543 add to h space information and xt information.\n",
      "Timestep 542 add to h space information and xt information.\n",
      "Timestep 541 add to h space information and xt information.\n",
      "Timestep 540 add to h space information and xt information.\n",
      "Timestep 539 add to h space information and xt information.\n",
      "Timestep 538 add to h space information and xt information.\n",
      "Timestep 537 add to h space information and xt information.\n",
      "Timestep 536 add to h space information and xt information.\n",
      "Timestep 535 add to h space information and xt information.\n",
      "Timestep 534 add to h space information and xt information.\n",
      "Timestep 533 add to h space information and xt information.\n",
      "Timestep 532 add to h space information and xt information.\n",
      "Timestep 531 add to h space information and xt information.\n",
      "Timestep 530 add to h space information and xt information.\n",
      "Timestep 529 add to h space information and xt information.\n",
      "Timestep 528 add to h space information and xt information.\n",
      "Timestep 527 add to h space information and xt information.\n",
      "Timestep 526 add to h space information and xt information.\n",
      "Timestep 525 add to h space information and xt information.\n",
      "Timestep 524 add to h space information and xt information.\n",
      "Timestep 523 add to h space information and xt information.\n",
      "Timestep 522 add to h space information and xt information.\n",
      "Timestep 521 add to h space information and xt information.\n",
      "Timestep 520 add to h space information and xt information.\n",
      "Timestep 519 add to h space information and xt information.\n",
      "Timestep 518 add to h space information and xt information.\n",
      "Timestep 517 add to h space information and xt information.\n",
      "Timestep 516 add to h space information and xt information.\n",
      "Timestep 515 add to h space information and xt information.\n",
      "Timestep 514 add to h space information and xt information.\n",
      "Timestep 513 add to h space information and xt information.\n",
      "Timestep 512 add to h space information and xt information.\n",
      "Timestep 511 add to h space information and xt information.\n",
      "Timestep 510 add to h space information and xt information.\n",
      "Timestep 509 add to h space information and xt information.\n",
      "Timestep 508 add to h space information and xt information.\n",
      "Timestep 507 add to h space information and xt information.\n",
      "Timestep 506 add to h space information and xt information.\n",
      "Timestep 505 add to h space information and xt information.\n",
      "Timestep 504 add to h space information and xt information.\n",
      "Timestep 503 add to h space information and xt information.\n",
      "Timestep 502 add to h space information and xt information.\n",
      "Timestep 501 add to h space information and xt information.\n",
      "Timestep 500 add to h space information and xt information.\n",
      "Timestep 499 add to h space information and xt information.\n",
      "Timestep 498 add to h space information and xt information.\n",
      "Timestep 497 add to h space information and xt information.\n",
      "Timestep 496 add to h space information and xt information.\n",
      "Timestep 495 add to h space information and xt information.\n",
      "Timestep 494 add to h space information and xt information.\n",
      "Timestep 493 add to h space information and xt information.\n",
      "Timestep 492 add to h space information and xt information.\n",
      "Timestep 491 add to h space information and xt information.\n",
      "Timestep 490 add to h space information and xt information.\n",
      "Timestep 489 add to h space information and xt information.\n",
      "Timestep 488 add to h space information and xt information.\n",
      "Timestep 487 add to h space information and xt information.\n",
      "Timestep 486 add to h space information and xt information.\n",
      "Timestep 485 add to h space information and xt information.\n",
      "Timestep 484 add to h space information and xt information.\n",
      "Timestep 483 add to h space information and xt information.\n",
      "Timestep 482 add to h space information and xt information.\n",
      "Timestep 481 add to h space information and xt information.\n",
      "Timestep 480 add to h space information and xt information.\n",
      "Timestep 479 add to h space information and xt information.\n",
      "Timestep 478 add to h space information and xt information.\n",
      "Timestep 477 add to h space information and xt information.\n",
      "Timestep 476 add to h space information and xt information.\n",
      "Timestep 475 add to h space information and xt information.\n",
      "Timestep 474 add to h space information and xt information.\n",
      "Timestep 473 add to h space information and xt information.\n",
      "Timestep 472 add to h space information and xt information.\n",
      "Timestep 471 add to h space information and xt information.\n",
      "Timestep 470 add to h space information and xt information.\n",
      "Timestep 469 add to h space information and xt information.\n",
      "Timestep 468 add to h space information and xt information.\n",
      "Timestep 467 add to h space information and xt information.\n",
      "Timestep 466 add to h space information and xt information.\n",
      "Timestep 465 add to h space information and xt information.\n",
      "Timestep 464 add to h space information and xt information.\n",
      "Timestep 463 add to h space information and xt information.\n",
      "Timestep 462 add to h space information and xt information.\n",
      "Timestep 461 add to h space information and xt information.\n",
      "Timestep 460 add to h space information and xt information.\n",
      "Timestep 459 add to h space information and xt information.\n",
      "Timestep 458 add to h space information and xt information.\n",
      "Timestep 457 add to h space information and xt information.\n",
      "Timestep 456 add to h space information and xt information.\n",
      "Timestep 455 add to h space information and xt information.\n",
      "Timestep 454 add to h space information and xt information.\n",
      "Timestep 453 add to h space information and xt information.\n",
      "Timestep 452 add to h space information and xt information.\n",
      "Timestep 451 add to h space information and xt information.\n",
      "Timestep 450 add to h space information and xt information.\n",
      "Timestep 449 add to h space information and xt information.\n",
      "Timestep 448 add to h space information and xt information.\n",
      "Timestep 447 add to h space information and xt information.\n",
      "Timestep 446 add to h space information and xt information.\n",
      "Timestep 445 add to h space information and xt information.\n",
      "Timestep 444 add to h space information and xt information.\n",
      "Timestep 443 add to h space information and xt information.\n",
      "Timestep 442 add to h space information and xt information.\n",
      "Timestep 441 add to h space information and xt information.\n",
      "Timestep 440 add to h space information and xt information.\n",
      "Timestep 439 add to h space information and xt information.\n",
      "Timestep 438 add to h space information and xt information.\n",
      "Timestep 437 add to h space information and xt information.\n",
      "Timestep 436 add to h space information and xt information.\n",
      "Timestep 435 add to h space information and xt information.\n",
      "Timestep 434 add to h space information and xt information.\n",
      "Timestep 433 add to h space information and xt information.\n",
      "Timestep 432 add to h space information and xt information.\n",
      "Timestep 431 add to h space information and xt information.\n",
      "Timestep 430 add to h space information and xt information.\n",
      "Timestep 429 add to h space information and xt information.\n",
      "Timestep 428 add to h space information and xt information.\n",
      "Timestep 427 add to h space information and xt information.\n",
      "Timestep 426 add to h space information and xt information.\n",
      "Timestep 425 add to h space information and xt information.\n",
      "Timestep 424 add to h space information and xt information.\n",
      "Timestep 423 add to h space information and xt information.\n",
      "Timestep 422 add to h space information and xt information.\n",
      "Timestep 421 add to h space information and xt information.\n",
      "Timestep 420 add to h space information and xt information.\n",
      "Timestep 419 add to h space information and xt information.\n",
      "Timestep 418 add to h space information and xt information.\n",
      "Timestep 417 add to h space information and xt information.\n",
      "Timestep 416 add to h space information and xt information.\n",
      "Timestep 415 add to h space information and xt information.\n",
      "Timestep 414 add to h space information and xt information.\n",
      "Timestep 413 add to h space information and xt information.\n",
      "Timestep 412 add to h space information and xt information.\n",
      "Timestep 411 add to h space information and xt information.\n",
      "Timestep 410 add to h space information and xt information.\n",
      "Timestep 409 add to h space information and xt information.\n",
      "Timestep 408 add to h space information and xt information.\n",
      "Timestep 407 add to h space information and xt information.\n",
      "Timestep 406 add to h space information and xt information.\n",
      "Timestep 405 add to h space information and xt information.\n",
      "Timestep 404 add to h space information and xt information.\n",
      "Timestep 403 add to h space information and xt information.\n",
      "Timestep 402 add to h space information and xt information.\n",
      "Timestep 401 add to h space information and xt information.\n",
      "Timestep 400 add to h space information and xt information.\n",
      "Timestep 399 add to h space information and xt information.\n",
      "Timestep 398 add to h space information and xt information.\n",
      "Timestep 397 add to h space information and xt information.\n",
      "Timestep 396 add to h space information and xt information.\n",
      "Timestep 395 add to h space information and xt information.\n",
      "Timestep 394 add to h space information and xt information.\n",
      "Timestep 393 add to h space information and xt information.\n",
      "Timestep 392 add to h space information and xt information.\n",
      "Timestep 391 add to h space information and xt information.\n",
      "Timestep 390 add to h space information and xt information.\n",
      "Timestep 389 add to h space information and xt information.\n",
      "Timestep 388 add to h space information and xt information.\n",
      "Timestep 387 add to h space information and xt information.\n",
      "Timestep 386 add to h space information and xt information.\n",
      "Timestep 385 add to h space information and xt information.\n",
      "Timestep 384 add to h space information and xt information.\n",
      "Timestep 383 add to h space information and xt information.\n",
      "Timestep 382 add to h space information and xt information.\n",
      "Timestep 381 add to h space information and xt information.\n",
      "Timestep 380 add to h space information and xt information.\n",
      "Timestep 379 add to h space information and xt information.\n",
      "Timestep 378 add to h space information and xt information.\n",
      "Timestep 377 add to h space information and xt information.\n",
      "Timestep 376 add to h space information and xt information.\n",
      "Timestep 375 add to h space information and xt information.\n",
      "Timestep 374 add to h space information and xt information.\n",
      "Timestep 373 add to h space information and xt information.\n",
      "Timestep 372 add to h space information and xt information.\n",
      "Timestep 371 add to h space information and xt information.\n",
      "Timestep 370 add to h space information and xt information.\n",
      "Timestep 369 add to h space information and xt information.\n",
      "Timestep 368 add to h space information and xt information.\n",
      "Timestep 367 add to h space information and xt information.\n",
      "Timestep 366 add to h space information and xt information.\n",
      "Timestep 365 add to h space information and xt information.\n",
      "Timestep 364 add to h space information and xt information.\n",
      "Timestep 363 add to h space information and xt information.\n",
      "Timestep 362 add to h space information and xt information.\n",
      "Timestep 361 add to h space information and xt information.\n",
      "Timestep 360 add to h space information and xt information.\n",
      "Timestep 359 add to h space information and xt information.\n",
      "Timestep 358 add to h space information and xt information.\n",
      "Timestep 357 add to h space information and xt information.\n",
      "Timestep 356 add to h space information and xt information.\n",
      "Timestep 355 add to h space information and xt information.\n",
      "Timestep 354 add to h space information and xt information.\n",
      "Timestep 353 add to h space information and xt information.\n",
      "Timestep 352 add to h space information and xt information.\n",
      "Timestep 351 add to h space information and xt information.\n",
      "Timestep 350 add to h space information and xt information.\n",
      "Timestep 349 add to h space information and xt information.\n",
      "Timestep 348 add to h space information and xt information.\n",
      "Timestep 347 add to h space information and xt information.\n",
      "Timestep 346 add to h space information and xt information.\n",
      "Timestep 345 add to h space information and xt information.\n",
      "Timestep 344 add to h space information and xt information.\n",
      "Timestep 343 add to h space information and xt information.\n",
      "Timestep 342 add to h space information and xt information.\n",
      "Timestep 341 add to h space information and xt information.\n",
      "Timestep 340 add to h space information and xt information.\n",
      "Timestep 339 add to h space information and xt information.\n",
      "Timestep 338 add to h space information and xt information.\n",
      "Timestep 337 add to h space information and xt information.\n",
      "Timestep 336 add to h space information and xt information.\n",
      "Timestep 335 add to h space information and xt information.\n",
      "Timestep 334 add to h space information and xt information.\n",
      "Timestep 333 add to h space information and xt information.\n",
      "Timestep 332 add to h space information and xt information.\n",
      "Timestep 331 add to h space information and xt information.\n",
      "Timestep 330 add to h space information and xt information.\n",
      "Timestep 329 add to h space information and xt information.\n",
      "Timestep 328 add to h space information and xt information.\n",
      "Timestep 327 add to h space information and xt information.\n",
      "Timestep 326 add to h space information and xt information.\n",
      "Timestep 325 add to h space information and xt information.\n",
      "Timestep 324 add to h space information and xt information.\n",
      "Timestep 323 add to h space information and xt information.\n",
      "Timestep 322 add to h space information and xt information.\n",
      "Timestep 321 add to h space information and xt information.\n",
      "Timestep 320 add to h space information and xt information.\n",
      "Timestep 319 add to h space information and xt information.\n",
      "Timestep 318 add to h space information and xt information.\n",
      "Timestep 317 add to h space information and xt information.\n",
      "Timestep 316 add to h space information and xt information.\n",
      "Timestep 315 add to h space information and xt information.\n",
      "Timestep 314 add to h space information and xt information.\n",
      "Timestep 313 add to h space information and xt information.\n",
      "Timestep 312 add to h space information and xt information.\n",
      "Timestep 311 add to h space information and xt information.\n",
      "Timestep 310 add to h space information and xt information.\n",
      "Timestep 309 add to h space information and xt information.\n",
      "Timestep 308 add to h space information and xt information.\n",
      "Timestep 307 add to h space information and xt information.\n",
      "Timestep 306 add to h space information and xt information.\n",
      "Timestep 305 add to h space information and xt information.\n",
      "Timestep 304 add to h space information and xt information.\n",
      "Timestep 303 add to h space information and xt information.\n",
      "Timestep 302 add to h space information and xt information.\n",
      "Timestep 301 add to h space information and xt information.\n",
      "Timestep 300 add to h space information and xt information.\n",
      "Timestep 299 add to h space information and xt information.\n",
      "Timestep 298 add to h space information and xt information.\n",
      "Timestep 297 add to h space information and xt information.\n",
      "Timestep 296 add to h space information and xt information.\n",
      "Timestep 295 add to h space information and xt information.\n",
      "Timestep 294 add to h space information and xt information.\n",
      "Timestep 293 add to h space information and xt information.\n",
      "Timestep 292 add to h space information and xt information.\n",
      "Timestep 291 add to h space information and xt information.\n",
      "Timestep 290 add to h space information and xt information.\n",
      "Timestep 289 add to h space information and xt information.\n",
      "Timestep 288 add to h space information and xt information.\n",
      "Timestep 287 add to h space information and xt information.\n",
      "Timestep 286 add to h space information and xt information.\n",
      "Timestep 285 add to h space information and xt information.\n",
      "Timestep 284 add to h space information and xt information.\n",
      "Timestep 283 add to h space information and xt information.\n",
      "Timestep 282 add to h space information and xt information.\n",
      "Timestep 281 add to h space information and xt information.\n",
      "Timestep 280 add to h space information and xt information.\n",
      "Timestep 279 add to h space information and xt information.\n",
      "Timestep 278 add to h space information and xt information.\n",
      "Timestep 277 add to h space information and xt information.\n",
      "Timestep 276 add to h space information and xt information.\n",
      "Timestep 275 add to h space information and xt information.\n",
      "Timestep 274 add to h space information and xt information.\n",
      "Timestep 273 add to h space information and xt information.\n",
      "Timestep 272 add to h space information and xt information.\n",
      "Timestep 271 add to h space information and xt information.\n",
      "Timestep 270 add to h space information and xt information.\n",
      "Timestep 269 add to h space information and xt information.\n",
      "Timestep 268 add to h space information and xt information.\n",
      "Timestep 267 add to h space information and xt information.\n",
      "Timestep 266 add to h space information and xt information.\n",
      "Timestep 265 add to h space information and xt information.\n",
      "Timestep 264 add to h space information and xt information.\n",
      "Timestep 263 add to h space information and xt information.\n",
      "Timestep 262 add to h space information and xt information.\n",
      "Timestep 261 add to h space information and xt information.\n",
      "Timestep 260 add to h space information and xt information.\n",
      "Timestep 259 add to h space information and xt information.\n",
      "Timestep 258 add to h space information and xt information.\n",
      "Timestep 257 add to h space information and xt information.\n",
      "Timestep 256 add to h space information and xt information.\n",
      "Timestep 255 add to h space information and xt information.\n",
      "Timestep 254 add to h space information and xt information.\n",
      "Timestep 253 add to h space information and xt information.\n",
      "Timestep 252 add to h space information and xt information.\n",
      "Timestep 251 add to h space information and xt information.\n",
      "Timestep 250 add to h space information and xt information.\n",
      "Timestep 249 add to h space information and xt information.\n",
      "Timestep 248 add to h space information and xt information.\n",
      "Timestep 247 add to h space information and xt information.\n",
      "Timestep 246 add to h space information and xt information.\n",
      "Timestep 245 add to h space information and xt information.\n",
      "Timestep 244 add to h space information and xt information.\n",
      "Timestep 243 add to h space information and xt information.\n",
      "Timestep 242 add to h space information and xt information.\n",
      "Timestep 241 add to h space information and xt information.\n",
      "Timestep 240 add to h space information and xt information.\n",
      "Timestep 239 add to h space information and xt information.\n",
      "Timestep 238 add to h space information and xt information.\n",
      "Timestep 237 add to h space information and xt information.\n",
      "Timestep 236 add to h space information and xt information.\n",
      "Timestep 235 add to h space information and xt information.\n",
      "Timestep 234 add to h space information and xt information.\n",
      "Timestep 233 add to h space information and xt information.\n",
      "Timestep 232 add to h space information and xt information.\n",
      "Timestep 231 add to h space information and xt information.\n",
      "Timestep 230 add to h space information and xt information.\n",
      "Timestep 229 add to h space information and xt information.\n",
      "Timestep 228 add to h space information and xt information.\n",
      "Timestep 227 add to h space information and xt information.\n",
      "Timestep 226 add to h space information and xt information.\n",
      "Timestep 225 add to h space information and xt information.\n",
      "Timestep 224 add to h space information and xt information.\n",
      "Timestep 223 add to h space information and xt information.\n",
      "Timestep 222 add to h space information and xt information.\n",
      "Timestep 221 add to h space information and xt information.\n",
      "Timestep 220 add to h space information and xt information.\n",
      "Timestep 219 add to h space information and xt information.\n",
      "Timestep 218 add to h space information and xt information.\n",
      "Timestep 217 add to h space information and xt information.\n",
      "Timestep 216 add to h space information and xt information.\n",
      "Timestep 215 add to h space information and xt information.\n",
      "Timestep 214 add to h space information and xt information.\n",
      "Timestep 213 add to h space information and xt information.\n",
      "Timestep 212 add to h space information and xt information.\n",
      "Timestep 211 add to h space information and xt information.\n",
      "Timestep 210 add to h space information and xt information.\n",
      "Timestep 209 add to h space information and xt information.\n",
      "Timestep 208 add to h space information and xt information.\n",
      "Timestep 207 add to h space information and xt information.\n",
      "Timestep 206 add to h space information and xt information.\n",
      "Timestep 205 add to h space information and xt information.\n",
      "Timestep 204 add to h space information and xt information.\n",
      "Timestep 203 add to h space information and xt information.\n",
      "Timestep 202 add to h space information and xt information.\n",
      "Timestep 201 add to h space information and xt information.\n",
      "Timestep 200 add to h space information and xt information.\n",
      "Timestep 199 add to h space information and xt information.\n",
      "Timestep 198 add to h space information and xt information.\n",
      "Timestep 197 add to h space information and xt information.\n",
      "Timestep 196 add to h space information and xt information.\n",
      "Timestep 195 add to h space information and xt information.\n",
      "Timestep 194 add to h space information and xt information.\n",
      "Timestep 193 add to h space information and xt information.\n",
      "Timestep 192 add to h space information and xt information.\n",
      "Timestep 191 add to h space information and xt information.\n",
      "Timestep 190 add to h space information and xt information.\n",
      "Timestep 189 add to h space information and xt information.\n",
      "Timestep 188 add to h space information and xt information.\n",
      "Timestep 187 add to h space information and xt information.\n",
      "Timestep 186 add to h space information and xt information.\n",
      "Timestep 185 add to h space information and xt information.\n",
      "Timestep 184 add to h space information and xt information.\n",
      "Timestep 183 add to h space information and xt information.\n",
      "Timestep 182 add to h space information and xt information.\n",
      "Timestep 181 add to h space information and xt information.\n",
      "Timestep 180 add to h space information and xt information.\n",
      "Timestep 179 add to h space information and xt information.\n",
      "Timestep 178 add to h space information and xt information.\n",
      "Timestep 177 add to h space information and xt information.\n",
      "Timestep 176 add to h space information and xt information.\n",
      "Timestep 175 add to h space information and xt information.\n",
      "Timestep 174 add to h space information and xt information.\n",
      "Timestep 173 add to h space information and xt information.\n",
      "Timestep 172 add to h space information and xt information.\n",
      "Timestep 171 add to h space information and xt information.\n",
      "Timestep 170 add to h space information and xt information.\n",
      "Timestep 169 add to h space information and xt information.\n",
      "Timestep 168 add to h space information and xt information.\n",
      "Timestep 167 add to h space information and xt information.\n",
      "Timestep 166 add to h space information and xt information.\n",
      "Timestep 165 add to h space information and xt information.\n",
      "Timestep 164 add to h space information and xt information.\n",
      "Timestep 163 add to h space information and xt information.\n",
      "Timestep 162 add to h space information and xt information.\n",
      "Timestep 161 add to h space information and xt information.\n",
      "Timestep 160 add to h space information and xt information.\n",
      "Timestep 159 add to h space information and xt information.\n",
      "Timestep 158 add to h space information and xt information.\n",
      "Timestep 157 add to h space information and xt information.\n",
      "Timestep 156 add to h space information and xt information.\n",
      "Timestep 155 add to h space information and xt information.\n",
      "Timestep 154 add to h space information and xt information.\n",
      "Timestep 153 add to h space information and xt information.\n",
      "Timestep 152 add to h space information and xt information.\n",
      "Timestep 151 add to h space information and xt information.\n",
      "Timestep 150 add to h space information and xt information.\n",
      "Timestep 149 add to h space information and xt information.\n",
      "Timestep 148 add to h space information and xt information.\n",
      "Timestep 147 add to h space information and xt information.\n",
      "Timestep 146 add to h space information and xt information.\n",
      "Timestep 145 add to h space information and xt information.\n",
      "Timestep 144 add to h space information and xt information.\n",
      "Timestep 143 add to h space information and xt information.\n",
      "Timestep 142 add to h space information and xt information.\n",
      "Timestep 141 add to h space information and xt information.\n",
      "Timestep 140 add to h space information and xt information.\n",
      "Timestep 139 add to h space information and xt information.\n",
      "Timestep 138 add to h space information and xt information.\n",
      "Timestep 137 add to h space information and xt information.\n",
      "Timestep 136 add to h space information and xt information.\n",
      "Timestep 135 add to h space information and xt information.\n",
      "Timestep 134 add to h space information and xt information.\n",
      "Timestep 133 add to h space information and xt information.\n",
      "Timestep 132 add to h space information and xt information.\n",
      "Timestep 131 add to h space information and xt information.\n",
      "Timestep 130 add to h space information and xt information.\n",
      "Timestep 129 add to h space information and xt information.\n",
      "Timestep 128 add to h space information and xt information.\n",
      "Timestep 127 add to h space information and xt information.\n",
      "Timestep 126 add to h space information and xt information.\n",
      "Timestep 125 add to h space information and xt information.\n",
      "Timestep 124 add to h space information and xt information.\n",
      "Timestep 123 add to h space information and xt information.\n",
      "Timestep 122 add to h space information and xt information.\n",
      "Timestep 121 add to h space information and xt information.\n",
      "Timestep 120 add to h space information and xt information.\n",
      "Timestep 119 add to h space information and xt information.\n",
      "Timestep 118 add to h space information and xt information.\n",
      "Timestep 117 add to h space information and xt information.\n",
      "Timestep 116 add to h space information and xt information.\n",
      "Timestep 115 add to h space information and xt information.\n",
      "Timestep 114 add to h space information and xt information.\n",
      "Timestep 113 add to h space information and xt information.\n",
      "Timestep 112 add to h space information and xt information.\n",
      "Timestep 111 add to h space information and xt information.\n",
      "Timestep 110 add to h space information and xt information.\n",
      "Timestep 109 add to h space information and xt information.\n",
      "Timestep 108 add to h space information and xt information.\n",
      "Timestep 107 add to h space information and xt information.\n",
      "Timestep 106 add to h space information and xt information.\n",
      "Timestep 105 add to h space information and xt information.\n",
      "Timestep 104 add to h space information and xt information.\n",
      "Timestep 103 add to h space information and xt information.\n",
      "Timestep 102 add to h space information and xt information.\n",
      "Timestep 101 add to h space information and xt information.\n",
      "Timestep 100 add to h space information and xt information.\n",
      "Timestep 99 add to h space information and xt information.\n",
      "Timestep 98 add to h space information and xt information.\n",
      "Timestep 97 add to h space information and xt information.\n",
      "Timestep 96 add to h space information and xt information.\n",
      "Timestep 95 add to h space information and xt information.\n",
      "Timestep 94 add to h space information and xt information.\n",
      "Timestep 93 add to h space information and xt information.\n",
      "Timestep 92 add to h space information and xt information.\n",
      "Timestep 91 add to h space information and xt information.\n",
      "Timestep 90 add to h space information and xt information.\n",
      "Timestep 89 add to h space information and xt information.\n",
      "Timestep 88 add to h space information and xt information.\n",
      "Timestep 87 add to h space information and xt information.\n",
      "Timestep 86 add to h space information and xt information.\n",
      "Timestep 85 add to h space information and xt information.\n",
      "Timestep 84 add to h space information and xt information.\n",
      "Timestep 83 add to h space information and xt information.\n",
      "Timestep 82 add to h space information and xt information.\n",
      "Timestep 81 add to h space information and xt information.\n",
      "Timestep 80 add to h space information and xt information.\n",
      "Timestep 79 add to h space information and xt information.\n",
      "Timestep 78 add to h space information and xt information.\n",
      "Timestep 77 add to h space information and xt information.\n",
      "Timestep 76 add to h space information and xt information.\n",
      "Timestep 75 add to h space information and xt information.\n",
      "Timestep 74 add to h space information and xt information.\n",
      "Timestep 73 add to h space information and xt information.\n",
      "Timestep 72 add to h space information and xt information.\n",
      "Timestep 71 add to h space information and xt information.\n",
      "Timestep 70 add to h space information and xt information.\n",
      "Timestep 69 add to h space information and xt information.\n",
      "Timestep 68 add to h space information and xt information.\n",
      "Timestep 67 add to h space information and xt information.\n",
      "Timestep 66 add to h space information and xt information.\n",
      "Timestep 65 add to h space information and xt information.\n",
      "Timestep 64 add to h space information and xt information.\n",
      "Timestep 63 add to h space information and xt information.\n",
      "Timestep 62 add to h space information and xt information.\n",
      "Timestep 61 add to h space information and xt information.\n",
      "Timestep 60 add to h space information and xt information.\n",
      "Timestep 59 add to h space information and xt information.\n",
      "Timestep 58 add to h space information and xt information.\n",
      "Timestep 57 add to h space information and xt information.\n",
      "Timestep 56 add to h space information and xt information.\n",
      "Timestep 55 add to h space information and xt information.\n",
      "Timestep 54 add to h space information and xt information.\n",
      "Timestep 53 add to h space information and xt information.\n",
      "Timestep 52 add to h space information and xt information.\n",
      "Timestep 51 add to h space information and xt information.\n",
      "Timestep 50 add to h space information and xt information.\n",
      "Timestep 49 add to h space information and xt information.\n",
      "Timestep 48 add to h space information and xt information.\n",
      "Timestep 47 add to h space information and xt information.\n",
      "Timestep 46 add to h space information and xt information.\n",
      "Timestep 45 add to h space information and xt information.\n",
      "Timestep 44 add to h space information and xt information.\n",
      "Timestep 43 add to h space information and xt information.\n",
      "Timestep 42 add to h space information and xt information.\n",
      "Timestep 41 add to h space information and xt information.\n",
      "Timestep 40 add to h space information and xt information.\n",
      "Timestep 39 add to h space information and xt information.\n",
      "Timestep 38 add to h space information and xt information.\n",
      "Timestep 37 add to h space information and xt information.\n",
      "Timestep 36 add to h space information and xt information.\n",
      "Timestep 35 add to h space information and xt information.\n",
      "Timestep 34 add to h space information and xt information.\n",
      "Timestep 33 add to h space information and xt information.\n",
      "Timestep 32 add to h space information and xt information.\n",
      "Timestep 31 add to h space information and xt information.\n",
      "Timestep 30 add to h space information and xt information.\n",
      "Timestep 29 add to h space information and xt information.\n",
      "Timestep 28 add to h space information and xt information.\n",
      "Timestep 27 add to h space information and xt information.\n",
      "Timestep 26 add to h space information and xt information.\n",
      "Timestep 25 add to h space information and xt information.\n",
      "Timestep 24 add to h space information and xt information.\n",
      "Timestep 23 add to h space information and xt information.\n",
      "Timestep 22 add to h space information and xt information.\n",
      "Timestep 21 add to h space information and xt information.\n",
      "Timestep 20 add to h space information and xt information.\n",
      "Timestep 19 add to h space information and xt information.\n",
      "Timestep 18 add to h space information and xt information.\n",
      "Timestep 17 add to h space information and xt information.\n",
      "Timestep 16 add to h space information and xt information.\n",
      "Timestep 15 add to h space information and xt information.\n",
      "Timestep 14 add to h space information and xt information.\n",
      "Timestep 13 add to h space information and xt information.\n",
      "Timestep 12 add to h space information and xt information.\n",
      "Timestep 11 add to h space information and xt information.\n",
      "Timestep 10 add to h space information and xt information.\n",
      "Timestep 9 add to h space information and xt information.\n",
      "Timestep 8 add to h space information and xt information.\n",
      "Timestep 7 add to h space information and xt information.\n",
      "Timestep 6 add to h space information and xt information.\n",
      "Timestep 5 add to h space information and xt information.\n",
      "Timestep 4 add to h space information and xt information.\n",
      "Timestep 3 add to h space information and xt information.\n",
      "Timestep 2 add to h space information and xt information.\n",
      "Timestep 1 add to h space information and xt information.\n",
      "Timestep 0 add to h space information and xt information.\n",
      "Create anchor dataframe Done ......\n",
      "Experiment 1 Done ......\n"
     ]
    },
    {
     "name": "stderr",
     "output_type": "stream",
     "text": [
      "c:\\Users\\user\\Desktop\\DDPM_XAI\\Experiments.py:273: FutureWarning: \n",
      "\n",
      "Passing `palette` without assigning `hue` is deprecated and will be removed in v0.14.0. Assign the `x` variable to `hue` and set `legend=False` for the same effect.\n",
      "\n",
      "  sns.boxplot(ax=axes[0], data=concat_df, x='label',y='fd_h', hue_order=hue_order, palette=palette, order=hue_order)\n",
      "c:\\Users\\user\\Desktop\\DDPM_XAI\\Experiments.py:274: UserWarning: No artists with labels found to put in legend.  Note that artists whose label start with an underscore are ignored when legend() is called with no argument.\n",
      "  axes[0].legend(loc='upper left', bbox_to_anchor=(1, 1))  # Moves the legend to the right\n",
      "c:\\Users\\user\\Desktop\\DDPM_XAI\\Experiments.py:282: FutureWarning: \n",
      "\n",
      "Passing `palette` without assigning `hue` is deprecated and will be removed in v0.14.0. Assign the `x` variable to `hue` and set `legend=False` for the same effect.\n",
      "\n",
      "  sns.boxplot(ax=axes[1], data=concat_df, x='label',y='fd_ef', hue_order=hue_order, palette=palette, order=hue_order)\n",
      "c:\\Users\\user\\Desktop\\DDPM_XAI\\Experiments.py:283: UserWarning: No artists with labels found to put in legend.  Note that artists whose label start with an underscore are ignored when legend() is called with no argument.\n",
      "  axes[1].legend(loc='upper left', bbox_to_anchor=(1, 1))  # Moves the legend to the right\n"
     ]
    },
    {
     "name": "stdout",
     "output_type": "stream",
     "text": [
      "experiment 2 Done ......\n"
     ]
    },
    {
     "name": "stderr",
     "output_type": "stream",
     "text": [
      "c:\\Users\\user\\.conda\\envs\\FID\\lib\\site-packages\\torchvision\\models\\_utils.py:208: UserWarning: The parameter 'pretrained' is deprecated since 0.13 and may be removed in the future, please use 'weights' instead.\n",
      "  warnings.warn(\n",
      "c:\\Users\\user\\.conda\\envs\\FID\\lib\\site-packages\\torchvision\\models\\_utils.py:223: UserWarning: Arguments other than a weight enum or `None` for 'weights' are deprecated since 0.13 and may be removed in the future. The current behavior is equivalent to passing `weights=Inception_V3_Weights.IMAGENET1K_V1`. You can also use `weights=Inception_V3_Weights.DEFAULT` to get the most up-to-date weights.\n",
      "  warnings.warn(msg)\n"
     ]
    },
    {
     "name": "stdout",
     "output_type": "stream",
     "text": [
      "Training ...... Epoch : 1\n"
     ]
    },
    {
     "name": "stderr",
     "output_type": "stream",
     "text": [
      "0it [00:02, ?it/s]\n",
      "c:\\Users\\user\\.conda\\envs\\FID\\lib\\site-packages\\torch\\optim\\lr_scheduler.py:216: UserWarning: Detected call of `lr_scheduler.step()` before `optimizer.step()`. In PyTorch 1.1.0 and later, you should call them in the opposite order: `optimizer.step()` before `lr_scheduler.step()`.  Failure to do this will result in PyTorch skipping the first value of the learning rate schedule. See more details at https://pytorch.org/docs/stable/optim.html#how-to-adjust-learning-rate\n",
      "  warnings.warn(\n"
     ]
    },
    {
     "name": "stdout",
     "output_type": "stream",
     "text": [
      "Training ...... Epoch : 2\n"
     ]
    },
    {
     "name": "stderr",
     "output_type": "stream",
     "text": [
      "0it [00:02, ?it/s]\n",
      "c:\\Users\\user\\.conda\\envs\\FID\\lib\\site-packages\\torch\\optim\\lr_scheduler.py:1063: UserWarning: To get the last learning rate computed by the scheduler, please use `get_last_lr()`.\n",
      "  _warn_get_lr_called_within_step(self)\n"
     ]
    },
    {
     "name": "stdout",
     "output_type": "stream",
     "text": [
      "Training ...... Epoch : 3\n"
     ]
    },
    {
     "name": "stderr",
     "output_type": "stream",
     "text": [
      "0it [00:02, ?it/s]\n"
     ]
    },
    {
     "name": "stdout",
     "output_type": "stream",
     "text": [
      "Training ...... Epoch : 4\n"
     ]
    },
    {
     "name": "stderr",
     "output_type": "stream",
     "text": [
      "0it [00:02, ?it/s]\n"
     ]
    },
    {
     "name": "stdout",
     "output_type": "stream",
     "text": [
      "Training ...... Epoch : 5\n"
     ]
    },
    {
     "name": "stderr",
     "output_type": "stream",
     "text": [
      "0it [00:02, ?it/s]\n"
     ]
    },
    {
     "name": "stdout",
     "output_type": "stream",
     "text": [
      "Training ...... Epoch : 6\n"
     ]
    },
    {
     "name": "stderr",
     "output_type": "stream",
     "text": [
      "0it [00:02, ?it/s]\n"
     ]
    },
    {
     "name": "stdout",
     "output_type": "stream",
     "text": [
      "Training ...... Epoch : 7\n"
     ]
    },
    {
     "name": "stderr",
     "output_type": "stream",
     "text": [
      "0it [00:02, ?it/s]\n"
     ]
    },
    {
     "name": "stdout",
     "output_type": "stream",
     "text": [
      "Training ...... Epoch : 8\n"
     ]
    },
    {
     "name": "stderr",
     "output_type": "stream",
     "text": [
      "0it [00:02, ?it/s]\n"
     ]
    },
    {
     "name": "stdout",
     "output_type": "stream",
     "text": [
      "Training ...... Epoch : 9\n"
     ]
    },
    {
     "name": "stderr",
     "output_type": "stream",
     "text": [
      "0it [00:02, ?it/s]\n"
     ]
    },
    {
     "name": "stdout",
     "output_type": "stream",
     "text": [
      "Training ...... Epoch : 10\n"
     ]
    },
    {
     "name": "stderr",
     "output_type": "stream",
     "text": [
      "0it [00:02, ?it/s]\n"
     ]
    },
    {
     "name": "stdout",
     "output_type": "stream",
     "text": [
      "Training ...... Epoch : 1\n"
     ]
    },
    {
     "name": "stderr",
     "output_type": "stream",
     "text": [
      "0it [00:02, ?it/s]\n"
     ]
    },
    {
     "name": "stdout",
     "output_type": "stream",
     "text": [
      "Training ...... Epoch : 2\n"
     ]
    },
    {
     "name": "stderr",
     "output_type": "stream",
     "text": [
      "0it [00:02, ?it/s]\n"
     ]
    },
    {
     "name": "stdout",
     "output_type": "stream",
     "text": [
      "Training ...... Epoch : 3\n"
     ]
    },
    {
     "name": "stderr",
     "output_type": "stream",
     "text": [
      "0it [00:02, ?it/s]\n"
     ]
    },
    {
     "name": "stdout",
     "output_type": "stream",
     "text": [
      "Training ...... Epoch : 4\n"
     ]
    },
    {
     "name": "stderr",
     "output_type": "stream",
     "text": [
      "0it [00:02, ?it/s]\n"
     ]
    },
    {
     "name": "stdout",
     "output_type": "stream",
     "text": [
      "Training ...... Epoch : 5\n"
     ]
    },
    {
     "name": "stderr",
     "output_type": "stream",
     "text": [
      "0it [00:02, ?it/s]\n"
     ]
    },
    {
     "name": "stdout",
     "output_type": "stream",
     "text": [
      "Training ...... Epoch : 6\n"
     ]
    },
    {
     "name": "stderr",
     "output_type": "stream",
     "text": [
      "0it [00:02, ?it/s]\n"
     ]
    },
    {
     "name": "stdout",
     "output_type": "stream",
     "text": [
      "Training ...... Epoch : 7\n"
     ]
    },
    {
     "name": "stderr",
     "output_type": "stream",
     "text": [
      "0it [00:02, ?it/s]\n"
     ]
    },
    {
     "name": "stdout",
     "output_type": "stream",
     "text": [
      "Training ...... Epoch : 8\n"
     ]
    },
    {
     "name": "stderr",
     "output_type": "stream",
     "text": [
      "0it [00:02, ?it/s]\n"
     ]
    },
    {
     "name": "stdout",
     "output_type": "stream",
     "text": [
      "Training ...... Epoch : 9\n"
     ]
    },
    {
     "name": "stderr",
     "output_type": "stream",
     "text": [
      "0it [00:02, ?it/s]\n"
     ]
    },
    {
     "name": "stdout",
     "output_type": "stream",
     "text": [
      "Training ...... Epoch : 10\n"
     ]
    },
    {
     "name": "stderr",
     "output_type": "stream",
     "text": [
      "0it [00:02, ?it/s]\n"
     ]
    },
    {
     "name": "stdout",
     "output_type": "stream",
     "text": [
      "Training ...... Epoch : 1\n"
     ]
    },
    {
     "name": "stderr",
     "output_type": "stream",
     "text": [
      "0it [00:02, ?it/s]\n"
     ]
    },
    {
     "name": "stdout",
     "output_type": "stream",
     "text": [
      "Training ...... Epoch : 2\n"
     ]
    },
    {
     "name": "stderr",
     "output_type": "stream",
     "text": [
      "0it [00:02, ?it/s]\n"
     ]
    },
    {
     "name": "stdout",
     "output_type": "stream",
     "text": [
      "Training ...... Epoch : 3\n"
     ]
    },
    {
     "name": "stderr",
     "output_type": "stream",
     "text": [
      "0it [00:02, ?it/s]\n"
     ]
    },
    {
     "name": "stdout",
     "output_type": "stream",
     "text": [
      "Training ...... Epoch : 4\n"
     ]
    },
    {
     "name": "stderr",
     "output_type": "stream",
     "text": [
      "0it [00:02, ?it/s]\n"
     ]
    },
    {
     "name": "stdout",
     "output_type": "stream",
     "text": [
      "Training ...... Epoch : 5\n"
     ]
    },
    {
     "name": "stderr",
     "output_type": "stream",
     "text": [
      "0it [00:02, ?it/s]\n"
     ]
    },
    {
     "name": "stdout",
     "output_type": "stream",
     "text": [
      "Training ...... Epoch : 6\n"
     ]
    },
    {
     "name": "stderr",
     "output_type": "stream",
     "text": [
      "0it [00:02, ?it/s]\n"
     ]
    },
    {
     "name": "stdout",
     "output_type": "stream",
     "text": [
      "Training ...... Epoch : 7\n"
     ]
    },
    {
     "name": "stderr",
     "output_type": "stream",
     "text": [
      "0it [00:02, ?it/s]\n"
     ]
    },
    {
     "name": "stdout",
     "output_type": "stream",
     "text": [
      "Training ...... Epoch : 8\n"
     ]
    },
    {
     "name": "stderr",
     "output_type": "stream",
     "text": [
      "0it [00:02, ?it/s]\n"
     ]
    },
    {
     "name": "stdout",
     "output_type": "stream",
     "text": [
      "Training ...... Epoch : 9\n"
     ]
    },
    {
     "name": "stderr",
     "output_type": "stream",
     "text": [
      "0it [00:02, ?it/s]\n"
     ]
    },
    {
     "name": "stdout",
     "output_type": "stream",
     "text": [
      "Training ...... Epoch : 10\n"
     ]
    },
    {
     "name": "stderr",
     "output_type": "stream",
     "text": [
      "0it [00:02, ?it/s]\n"
     ]
    },
    {
     "name": "stdout",
     "output_type": "stream",
     "text": [
      "Training ...... Epoch : 1\n"
     ]
    },
    {
     "name": "stderr",
     "output_type": "stream",
     "text": [
      "0it [00:02, ?it/s]\n"
     ]
    },
    {
     "name": "stdout",
     "output_type": "stream",
     "text": [
      "Training ...... Epoch : 2\n"
     ]
    },
    {
     "name": "stderr",
     "output_type": "stream",
     "text": [
      "0it [00:02, ?it/s]\n"
     ]
    },
    {
     "name": "stdout",
     "output_type": "stream",
     "text": [
      "Training ...... Epoch : 3\n"
     ]
    },
    {
     "name": "stderr",
     "output_type": "stream",
     "text": [
      "0it [00:02, ?it/s]\n"
     ]
    },
    {
     "name": "stdout",
     "output_type": "stream",
     "text": [
      "Training ...... Epoch : 4\n"
     ]
    },
    {
     "name": "stderr",
     "output_type": "stream",
     "text": [
      "0it [00:02, ?it/s]\n"
     ]
    },
    {
     "name": "stdout",
     "output_type": "stream",
     "text": [
      "Training ...... Epoch : 5\n"
     ]
    },
    {
     "name": "stderr",
     "output_type": "stream",
     "text": [
      "0it [00:02, ?it/s]\n"
     ]
    },
    {
     "name": "stdout",
     "output_type": "stream",
     "text": [
      "Training ...... Epoch : 6\n"
     ]
    },
    {
     "name": "stderr",
     "output_type": "stream",
     "text": [
      "0it [00:02, ?it/s]\n"
     ]
    },
    {
     "name": "stdout",
     "output_type": "stream",
     "text": [
      "Training ...... Epoch : 7\n"
     ]
    },
    {
     "name": "stderr",
     "output_type": "stream",
     "text": [
      "0it [00:02, ?it/s]\n"
     ]
    },
    {
     "name": "stdout",
     "output_type": "stream",
     "text": [
      "Training ...... Epoch : 8\n"
     ]
    },
    {
     "name": "stderr",
     "output_type": "stream",
     "text": [
      "0it [00:02, ?it/s]\n"
     ]
    },
    {
     "name": "stdout",
     "output_type": "stream",
     "text": [
      "Training ...... Epoch : 9\n"
     ]
    },
    {
     "name": "stderr",
     "output_type": "stream",
     "text": [
      "0it [00:02, ?it/s]\n"
     ]
    },
    {
     "name": "stdout",
     "output_type": "stream",
     "text": [
      "Training ...... Epoch : 10\n"
     ]
    },
    {
     "name": "stderr",
     "output_type": "stream",
     "text": [
      "0it [00:02, ?it/s]\n"
     ]
    },
    {
     "name": "stdout",
     "output_type": "stream",
     "text": [
      "Training ...... Epoch : 1\n"
     ]
    },
    {
     "name": "stderr",
     "output_type": "stream",
     "text": [
      "0it [00:02, ?it/s]\n"
     ]
    },
    {
     "name": "stdout",
     "output_type": "stream",
     "text": [
      "Training ...... Epoch : 2\n"
     ]
    },
    {
     "name": "stderr",
     "output_type": "stream",
     "text": [
      "0it [00:02, ?it/s]\n"
     ]
    },
    {
     "name": "stdout",
     "output_type": "stream",
     "text": [
      "Training ...... Epoch : 3\n"
     ]
    },
    {
     "name": "stderr",
     "output_type": "stream",
     "text": [
      "0it [00:02, ?it/s]\n"
     ]
    },
    {
     "name": "stdout",
     "output_type": "stream",
     "text": [
      "Training ...... Epoch : 4\n"
     ]
    },
    {
     "name": "stderr",
     "output_type": "stream",
     "text": [
      "0it [00:02, ?it/s]\n"
     ]
    },
    {
     "name": "stdout",
     "output_type": "stream",
     "text": [
      "Training ...... Epoch : 5\n"
     ]
    },
    {
     "name": "stderr",
     "output_type": "stream",
     "text": [
      "0it [00:02, ?it/s]\n"
     ]
    },
    {
     "name": "stdout",
     "output_type": "stream",
     "text": [
      "Training ...... Epoch : 6\n"
     ]
    },
    {
     "name": "stderr",
     "output_type": "stream",
     "text": [
      "0it [00:02, ?it/s]\n"
     ]
    },
    {
     "name": "stdout",
     "output_type": "stream",
     "text": [
      "Training ...... Epoch : 7\n"
     ]
    },
    {
     "name": "stderr",
     "output_type": "stream",
     "text": [
      "0it [00:02, ?it/s]\n"
     ]
    },
    {
     "name": "stdout",
     "output_type": "stream",
     "text": [
      "Training ...... Epoch : 8\n"
     ]
    },
    {
     "name": "stderr",
     "output_type": "stream",
     "text": [
      "0it [00:02, ?it/s]\n"
     ]
    },
    {
     "name": "stdout",
     "output_type": "stream",
     "text": [
      "Training ...... Epoch : 9\n"
     ]
    },
    {
     "name": "stderr",
     "output_type": "stream",
     "text": [
      "0it [00:02, ?it/s]\n"
     ]
    },
    {
     "name": "stdout",
     "output_type": "stream",
     "text": [
      "Training ...... Epoch : 10\n"
     ]
    },
    {
     "name": "stderr",
     "output_type": "stream",
     "text": [
      "0it [00:02, ?it/s]\n"
     ]
    },
    {
     "name": "stdout",
     "output_type": "stream",
     "text": [
      "Training ...... Epoch : 1\n"
     ]
    },
    {
     "name": "stderr",
     "output_type": "stream",
     "text": [
      "0it [00:02, ?it/s]\n"
     ]
    },
    {
     "name": "stdout",
     "output_type": "stream",
     "text": [
      "Training ...... Epoch : 2\n"
     ]
    },
    {
     "name": "stderr",
     "output_type": "stream",
     "text": [
      "0it [00:02, ?it/s]\n"
     ]
    },
    {
     "name": "stdout",
     "output_type": "stream",
     "text": [
      "Training ...... Epoch : 3\n"
     ]
    },
    {
     "name": "stderr",
     "output_type": "stream",
     "text": [
      "0it [00:02, ?it/s]\n"
     ]
    },
    {
     "name": "stdout",
     "output_type": "stream",
     "text": [
      "Training ...... Epoch : 4\n"
     ]
    },
    {
     "name": "stderr",
     "output_type": "stream",
     "text": [
      "0it [00:02, ?it/s]\n"
     ]
    },
    {
     "name": "stdout",
     "output_type": "stream",
     "text": [
      "Training ...... Epoch : 5\n"
     ]
    },
    {
     "name": "stderr",
     "output_type": "stream",
     "text": [
      "0it [00:02, ?it/s]\n"
     ]
    },
    {
     "name": "stdout",
     "output_type": "stream",
     "text": [
      "Training ...... Epoch : 6\n"
     ]
    },
    {
     "name": "stderr",
     "output_type": "stream",
     "text": [
      "0it [00:02, ?it/s]\n"
     ]
    },
    {
     "name": "stdout",
     "output_type": "stream",
     "text": [
      "Training ...... Epoch : 7\n"
     ]
    },
    {
     "name": "stderr",
     "output_type": "stream",
     "text": [
      "0it [00:02, ?it/s]\n"
     ]
    },
    {
     "name": "stdout",
     "output_type": "stream",
     "text": [
      "Training ...... Epoch : 8\n"
     ]
    },
    {
     "name": "stderr",
     "output_type": "stream",
     "text": [
      "0it [00:02, ?it/s]\n"
     ]
    },
    {
     "name": "stdout",
     "output_type": "stream",
     "text": [
      "Training ...... Epoch : 9\n"
     ]
    },
    {
     "name": "stderr",
     "output_type": "stream",
     "text": [
      "0it [00:02, ?it/s]\n"
     ]
    },
    {
     "name": "stdout",
     "output_type": "stream",
     "text": [
      "Training ...... Epoch : 10\n"
     ]
    },
    {
     "name": "stderr",
     "output_type": "stream",
     "text": [
      "0it [00:02, ?it/s]\n"
     ]
    },
    {
     "name": "stdout",
     "output_type": "stream",
     "text": [
      "Training ...... Epoch : 1\n"
     ]
    },
    {
     "name": "stderr",
     "output_type": "stream",
     "text": [
      "0it [00:02, ?it/s]\n"
     ]
    },
    {
     "name": "stdout",
     "output_type": "stream",
     "text": [
      "Training ...... Epoch : 2\n"
     ]
    },
    {
     "name": "stderr",
     "output_type": "stream",
     "text": [
      "0it [00:02, ?it/s]\n"
     ]
    },
    {
     "name": "stdout",
     "output_type": "stream",
     "text": [
      "Training ...... Epoch : 3\n"
     ]
    },
    {
     "name": "stderr",
     "output_type": "stream",
     "text": [
      "0it [00:02, ?it/s]\n"
     ]
    },
    {
     "name": "stdout",
     "output_type": "stream",
     "text": [
      "Training ...... Epoch : 4\n"
     ]
    },
    {
     "name": "stderr",
     "output_type": "stream",
     "text": [
      "0it [00:02, ?it/s]\n"
     ]
    },
    {
     "name": "stdout",
     "output_type": "stream",
     "text": [
      "Training ...... Epoch : 5\n"
     ]
    },
    {
     "name": "stderr",
     "output_type": "stream",
     "text": [
      "0it [00:02, ?it/s]\n"
     ]
    },
    {
     "name": "stdout",
     "output_type": "stream",
     "text": [
      "Training ...... Epoch : 6\n"
     ]
    },
    {
     "name": "stderr",
     "output_type": "stream",
     "text": [
      "0it [00:02, ?it/s]\n"
     ]
    },
    {
     "name": "stdout",
     "output_type": "stream",
     "text": [
      "Training ...... Epoch : 7\n"
     ]
    },
    {
     "name": "stderr",
     "output_type": "stream",
     "text": [
      "0it [00:02, ?it/s]\n"
     ]
    },
    {
     "name": "stdout",
     "output_type": "stream",
     "text": [
      "Training ...... Epoch : 8\n"
     ]
    },
    {
     "name": "stderr",
     "output_type": "stream",
     "text": [
      "0it [00:02, ?it/s]\n"
     ]
    },
    {
     "name": "stdout",
     "output_type": "stream",
     "text": [
      "Training ...... Epoch : 9\n"
     ]
    },
    {
     "name": "stderr",
     "output_type": "stream",
     "text": [
      "0it [00:02, ?it/s]\n"
     ]
    },
    {
     "name": "stdout",
     "output_type": "stream",
     "text": [
      "Training ...... Epoch : 10\n"
     ]
    },
    {
     "name": "stderr",
     "output_type": "stream",
     "text": [
      "0it [00:02, ?it/s]\n"
     ]
    },
    {
     "name": "stdout",
     "output_type": "stream",
     "text": [
      "Training ...... Epoch : 1\n"
     ]
    },
    {
     "name": "stderr",
     "output_type": "stream",
     "text": [
      "0it [00:02, ?it/s]\n"
     ]
    },
    {
     "name": "stdout",
     "output_type": "stream",
     "text": [
      "Training ...... Epoch : 2\n"
     ]
    },
    {
     "name": "stderr",
     "output_type": "stream",
     "text": [
      "0it [00:02, ?it/s]\n"
     ]
    },
    {
     "name": "stdout",
     "output_type": "stream",
     "text": [
      "Training ...... Epoch : 3\n"
     ]
    },
    {
     "name": "stderr",
     "output_type": "stream",
     "text": [
      "0it [00:02, ?it/s]\n"
     ]
    },
    {
     "name": "stdout",
     "output_type": "stream",
     "text": [
      "Training ...... Epoch : 4\n"
     ]
    },
    {
     "name": "stderr",
     "output_type": "stream",
     "text": [
      "0it [00:02, ?it/s]\n"
     ]
    },
    {
     "name": "stdout",
     "output_type": "stream",
     "text": [
      "Training ...... Epoch : 5\n"
     ]
    },
    {
     "name": "stderr",
     "output_type": "stream",
     "text": [
      "0it [00:02, ?it/s]\n"
     ]
    },
    {
     "name": "stdout",
     "output_type": "stream",
     "text": [
      "Training ...... Epoch : 6\n"
     ]
    },
    {
     "name": "stderr",
     "output_type": "stream",
     "text": [
      "0it [00:02, ?it/s]\n"
     ]
    },
    {
     "name": "stdout",
     "output_type": "stream",
     "text": [
      "Training ...... Epoch : 7\n"
     ]
    },
    {
     "name": "stderr",
     "output_type": "stream",
     "text": [
      "0it [00:02, ?it/s]\n"
     ]
    },
    {
     "name": "stdout",
     "output_type": "stream",
     "text": [
      "Training ...... Epoch : 8\n"
     ]
    },
    {
     "name": "stderr",
     "output_type": "stream",
     "text": [
      "0it [00:02, ?it/s]\n"
     ]
    },
    {
     "name": "stdout",
     "output_type": "stream",
     "text": [
      "Training ...... Epoch : 9\n"
     ]
    },
    {
     "name": "stderr",
     "output_type": "stream",
     "text": [
      "0it [00:02, ?it/s]\n"
     ]
    },
    {
     "name": "stdout",
     "output_type": "stream",
     "text": [
      "Training ...... Epoch : 10\n"
     ]
    },
    {
     "name": "stderr",
     "output_type": "stream",
     "text": [
      "0it [00:02, ?it/s]\n"
     ]
    },
    {
     "name": "stdout",
     "output_type": "stream",
     "text": [
      "Training ...... Epoch : 1\n"
     ]
    },
    {
     "name": "stderr",
     "output_type": "stream",
     "text": [
      "0it [00:02, ?it/s]\n"
     ]
    },
    {
     "name": "stdout",
     "output_type": "stream",
     "text": [
      "Training ...... Epoch : 2\n"
     ]
    },
    {
     "name": "stderr",
     "output_type": "stream",
     "text": [
      "0it [00:02, ?it/s]\n"
     ]
    },
    {
     "name": "stdout",
     "output_type": "stream",
     "text": [
      "Training ...... Epoch : 3\n"
     ]
    },
    {
     "name": "stderr",
     "output_type": "stream",
     "text": [
      "0it [00:02, ?it/s]\n"
     ]
    },
    {
     "name": "stdout",
     "output_type": "stream",
     "text": [
      "Training ...... Epoch : 4\n"
     ]
    },
    {
     "name": "stderr",
     "output_type": "stream",
     "text": [
      "0it [00:02, ?it/s]\n"
     ]
    },
    {
     "name": "stdout",
     "output_type": "stream",
     "text": [
      "Training ...... Epoch : 5\n"
     ]
    },
    {
     "name": "stderr",
     "output_type": "stream",
     "text": [
      "0it [00:02, ?it/s]\n"
     ]
    },
    {
     "name": "stdout",
     "output_type": "stream",
     "text": [
      "Training ...... Epoch : 6\n"
     ]
    },
    {
     "name": "stderr",
     "output_type": "stream",
     "text": [
      "0it [00:02, ?it/s]\n"
     ]
    },
    {
     "name": "stdout",
     "output_type": "stream",
     "text": [
      "Training ...... Epoch : 7\n"
     ]
    },
    {
     "name": "stderr",
     "output_type": "stream",
     "text": [
      "0it [00:02, ?it/s]\n"
     ]
    },
    {
     "name": "stdout",
     "output_type": "stream",
     "text": [
      "Training ...... Epoch : 8\n"
     ]
    },
    {
     "name": "stderr",
     "output_type": "stream",
     "text": [
      "0it [00:02, ?it/s]\n"
     ]
    },
    {
     "name": "stdout",
     "output_type": "stream",
     "text": [
      "Training ...... Epoch : 9\n"
     ]
    },
    {
     "name": "stderr",
     "output_type": "stream",
     "text": [
      "0it [00:02, ?it/s]\n"
     ]
    },
    {
     "name": "stdout",
     "output_type": "stream",
     "text": [
      "Training ...... Epoch : 10\n"
     ]
    },
    {
     "name": "stderr",
     "output_type": "stream",
     "text": [
      "0it [00:02, ?it/s]\n"
     ]
    },
    {
     "name": "stdout",
     "output_type": "stream",
     "text": [
      "Training ...... Epoch : 1\n"
     ]
    },
    {
     "name": "stderr",
     "output_type": "stream",
     "text": [
      "0it [00:02, ?it/s]\n"
     ]
    },
    {
     "name": "stdout",
     "output_type": "stream",
     "text": [
      "Training ...... Epoch : 2\n"
     ]
    },
    {
     "name": "stderr",
     "output_type": "stream",
     "text": [
      "0it [00:02, ?it/s]\n"
     ]
    },
    {
     "name": "stdout",
     "output_type": "stream",
     "text": [
      "Training ...... Epoch : 3\n"
     ]
    },
    {
     "name": "stderr",
     "output_type": "stream",
     "text": [
      "0it [00:02, ?it/s]\n"
     ]
    },
    {
     "name": "stdout",
     "output_type": "stream",
     "text": [
      "Training ...... Epoch : 4\n"
     ]
    },
    {
     "name": "stderr",
     "output_type": "stream",
     "text": [
      "0it [00:02, ?it/s]\n"
     ]
    },
    {
     "name": "stdout",
     "output_type": "stream",
     "text": [
      "Training ...... Epoch : 5\n"
     ]
    },
    {
     "name": "stderr",
     "output_type": "stream",
     "text": [
      "0it [00:02, ?it/s]\n"
     ]
    },
    {
     "name": "stdout",
     "output_type": "stream",
     "text": [
      "Training ...... Epoch : 6\n"
     ]
    },
    {
     "name": "stderr",
     "output_type": "stream",
     "text": [
      "0it [00:02, ?it/s]\n"
     ]
    },
    {
     "name": "stdout",
     "output_type": "stream",
     "text": [
      "Training ...... Epoch : 7\n"
     ]
    },
    {
     "name": "stderr",
     "output_type": "stream",
     "text": [
      "0it [00:02, ?it/s]\n"
     ]
    },
    {
     "name": "stdout",
     "output_type": "stream",
     "text": [
      "Training ...... Epoch : 8\n"
     ]
    },
    {
     "name": "stderr",
     "output_type": "stream",
     "text": [
      "0it [00:02, ?it/s]\n"
     ]
    },
    {
     "name": "stdout",
     "output_type": "stream",
     "text": [
      "Training ...... Epoch : 9\n"
     ]
    },
    {
     "name": "stderr",
     "output_type": "stream",
     "text": [
      "0it [00:02, ?it/s]\n"
     ]
    },
    {
     "name": "stdout",
     "output_type": "stream",
     "text": [
      "Training ...... Epoch : 10\n"
     ]
    },
    {
     "name": "stderr",
     "output_type": "stream",
     "text": [
      "0it [00:02, ?it/s]\n"
     ]
    },
    {
     "name": "stdout",
     "output_type": "stream",
     "text": [
      "Training ...... Epoch : 1\n"
     ]
    },
    {
     "name": "stderr",
     "output_type": "stream",
     "text": [
      "0it [00:02, ?it/s]\n"
     ]
    },
    {
     "name": "stdout",
     "output_type": "stream",
     "text": [
      "Training ...... Epoch : 2\n"
     ]
    },
    {
     "name": "stderr",
     "output_type": "stream",
     "text": [
      "0it [00:02, ?it/s]\n"
     ]
    },
    {
     "name": "stdout",
     "output_type": "stream",
     "text": [
      "Training ...... Epoch : 3\n"
     ]
    },
    {
     "name": "stderr",
     "output_type": "stream",
     "text": [
      "0it [00:02, ?it/s]\n"
     ]
    },
    {
     "name": "stdout",
     "output_type": "stream",
     "text": [
      "Training ...... Epoch : 4\n"
     ]
    },
    {
     "name": "stderr",
     "output_type": "stream",
     "text": [
      "0it [00:02, ?it/s]\n"
     ]
    },
    {
     "name": "stdout",
     "output_type": "stream",
     "text": [
      "Training ...... Epoch : 5\n"
     ]
    },
    {
     "name": "stderr",
     "output_type": "stream",
     "text": [
      "0it [00:02, ?it/s]\n"
     ]
    },
    {
     "name": "stdout",
     "output_type": "stream",
     "text": [
      "Training ...... Epoch : 6\n"
     ]
    },
    {
     "name": "stderr",
     "output_type": "stream",
     "text": [
      "0it [00:02, ?it/s]\n"
     ]
    },
    {
     "name": "stdout",
     "output_type": "stream",
     "text": [
      "Training ...... Epoch : 7\n"
     ]
    },
    {
     "name": "stderr",
     "output_type": "stream",
     "text": [
      "0it [00:02, ?it/s]\n"
     ]
    },
    {
     "name": "stdout",
     "output_type": "stream",
     "text": [
      "Training ...... Epoch : 8\n"
     ]
    },
    {
     "name": "stderr",
     "output_type": "stream",
     "text": [
      "0it [00:02, ?it/s]\n"
     ]
    },
    {
     "name": "stdout",
     "output_type": "stream",
     "text": [
      "Training ...... Epoch : 9\n"
     ]
    },
    {
     "name": "stderr",
     "output_type": "stream",
     "text": [
      "0it [00:02, ?it/s]\n"
     ]
    },
    {
     "name": "stdout",
     "output_type": "stream",
     "text": [
      "Training ...... Epoch : 10\n"
     ]
    },
    {
     "name": "stderr",
     "output_type": "stream",
     "text": [
      "0it [00:02, ?it/s]\n"
     ]
    },
    {
     "name": "stdout",
     "output_type": "stream",
     "text": [
      "Training ...... Epoch : 1\n"
     ]
    },
    {
     "name": "stderr",
     "output_type": "stream",
     "text": [
      "0it [00:02, ?it/s]\n"
     ]
    },
    {
     "name": "stdout",
     "output_type": "stream",
     "text": [
      "Training ...... Epoch : 2\n"
     ]
    },
    {
     "name": "stderr",
     "output_type": "stream",
     "text": [
      "0it [00:02, ?it/s]\n"
     ]
    },
    {
     "name": "stdout",
     "output_type": "stream",
     "text": [
      "Training ...... Epoch : 3\n"
     ]
    },
    {
     "name": "stderr",
     "output_type": "stream",
     "text": [
      "0it [00:02, ?it/s]\n"
     ]
    },
    {
     "name": "stdout",
     "output_type": "stream",
     "text": [
      "Training ...... Epoch : 4\n"
     ]
    },
    {
     "name": "stderr",
     "output_type": "stream",
     "text": [
      "0it [00:02, ?it/s]\n"
     ]
    },
    {
     "name": "stdout",
     "output_type": "stream",
     "text": [
      "Training ...... Epoch : 5\n"
     ]
    },
    {
     "name": "stderr",
     "output_type": "stream",
     "text": [
      "0it [00:02, ?it/s]\n"
     ]
    },
    {
     "name": "stdout",
     "output_type": "stream",
     "text": [
      "Training ...... Epoch : 6\n"
     ]
    },
    {
     "name": "stderr",
     "output_type": "stream",
     "text": [
      "0it [00:02, ?it/s]\n"
     ]
    },
    {
     "name": "stdout",
     "output_type": "stream",
     "text": [
      "Training ...... Epoch : 7\n"
     ]
    },
    {
     "name": "stderr",
     "output_type": "stream",
     "text": [
      "0it [00:02, ?it/s]\n"
     ]
    },
    {
     "name": "stdout",
     "output_type": "stream",
     "text": [
      "Training ...... Epoch : 8\n"
     ]
    },
    {
     "name": "stderr",
     "output_type": "stream",
     "text": [
      "0it [00:02, ?it/s]\n"
     ]
    },
    {
     "name": "stdout",
     "output_type": "stream",
     "text": [
      "Training ...... Epoch : 9\n"
     ]
    },
    {
     "name": "stderr",
     "output_type": "stream",
     "text": [
      "0it [00:02, ?it/s]\n"
     ]
    },
    {
     "name": "stdout",
     "output_type": "stream",
     "text": [
      "Training ...... Epoch : 10\n"
     ]
    },
    {
     "name": "stderr",
     "output_type": "stream",
     "text": [
      "0it [00:02, ?it/s]\n"
     ]
    },
    {
     "name": "stdout",
     "output_type": "stream",
     "text": [
      "Training ...... Epoch : 1\n"
     ]
    },
    {
     "name": "stderr",
     "output_type": "stream",
     "text": [
      "0it [00:02, ?it/s]\n"
     ]
    },
    {
     "name": "stdout",
     "output_type": "stream",
     "text": [
      "Training ...... Epoch : 2\n"
     ]
    },
    {
     "name": "stderr",
     "output_type": "stream",
     "text": [
      "0it [00:02, ?it/s]\n"
     ]
    },
    {
     "name": "stdout",
     "output_type": "stream",
     "text": [
      "Training ...... Epoch : 3\n"
     ]
    },
    {
     "name": "stderr",
     "output_type": "stream",
     "text": [
      "0it [00:02, ?it/s]\n"
     ]
    },
    {
     "name": "stdout",
     "output_type": "stream",
     "text": [
      "Training ...... Epoch : 4\n"
     ]
    },
    {
     "name": "stderr",
     "output_type": "stream",
     "text": [
      "0it [00:02, ?it/s]\n"
     ]
    },
    {
     "name": "stdout",
     "output_type": "stream",
     "text": [
      "Training ...... Epoch : 5\n"
     ]
    },
    {
     "name": "stderr",
     "output_type": "stream",
     "text": [
      "0it [00:02, ?it/s]\n"
     ]
    },
    {
     "name": "stdout",
     "output_type": "stream",
     "text": [
      "Training ...... Epoch : 6\n"
     ]
    },
    {
     "name": "stderr",
     "output_type": "stream",
     "text": [
      "0it [00:02, ?it/s]\n"
     ]
    },
    {
     "name": "stdout",
     "output_type": "stream",
     "text": [
      "Training ...... Epoch : 7\n"
     ]
    },
    {
     "name": "stderr",
     "output_type": "stream",
     "text": [
      "0it [00:02, ?it/s]\n"
     ]
    },
    {
     "name": "stdout",
     "output_type": "stream",
     "text": [
      "Training ...... Epoch : 8\n"
     ]
    },
    {
     "name": "stderr",
     "output_type": "stream",
     "text": [
      "0it [00:02, ?it/s]\n"
     ]
    },
    {
     "name": "stdout",
     "output_type": "stream",
     "text": [
      "Training ...... Epoch : 9\n"
     ]
    },
    {
     "name": "stderr",
     "output_type": "stream",
     "text": [
      "0it [00:02, ?it/s]\n"
     ]
    },
    {
     "name": "stdout",
     "output_type": "stream",
     "text": [
      "Training ...... Epoch : 10\n"
     ]
    },
    {
     "name": "stderr",
     "output_type": "stream",
     "text": [
      "0it [00:02, ?it/s]\n"
     ]
    },
    {
     "name": "stdout",
     "output_type": "stream",
     "text": [
      "Training ...... Epoch : 1\n"
     ]
    },
    {
     "name": "stderr",
     "output_type": "stream",
     "text": [
      "0it [00:02, ?it/s]\n"
     ]
    },
    {
     "name": "stdout",
     "output_type": "stream",
     "text": [
      "Training ...... Epoch : 2\n"
     ]
    },
    {
     "name": "stderr",
     "output_type": "stream",
     "text": [
      "0it [00:02, ?it/s]\n"
     ]
    },
    {
     "name": "stdout",
     "output_type": "stream",
     "text": [
      "Training ...... Epoch : 3\n"
     ]
    },
    {
     "name": "stderr",
     "output_type": "stream",
     "text": [
      "0it [00:02, ?it/s]\n"
     ]
    },
    {
     "name": "stdout",
     "output_type": "stream",
     "text": [
      "Training ...... Epoch : 4\n"
     ]
    },
    {
     "name": "stderr",
     "output_type": "stream",
     "text": [
      "0it [00:02, ?it/s]\n"
     ]
    },
    {
     "name": "stdout",
     "output_type": "stream",
     "text": [
      "Training ...... Epoch : 5\n"
     ]
    },
    {
     "name": "stderr",
     "output_type": "stream",
     "text": [
      "0it [00:02, ?it/s]\n"
     ]
    },
    {
     "name": "stdout",
     "output_type": "stream",
     "text": [
      "Training ...... Epoch : 6\n"
     ]
    },
    {
     "name": "stderr",
     "output_type": "stream",
     "text": [
      "0it [00:02, ?it/s]\n"
     ]
    },
    {
     "name": "stdout",
     "output_type": "stream",
     "text": [
      "Training ...... Epoch : 7\n"
     ]
    },
    {
     "name": "stderr",
     "output_type": "stream",
     "text": [
      "0it [00:02, ?it/s]\n"
     ]
    },
    {
     "name": "stdout",
     "output_type": "stream",
     "text": [
      "Training ...... Epoch : 8\n"
     ]
    },
    {
     "name": "stderr",
     "output_type": "stream",
     "text": [
      "0it [00:02, ?it/s]\n"
     ]
    },
    {
     "name": "stdout",
     "output_type": "stream",
     "text": [
      "Training ...... Epoch : 9\n"
     ]
    },
    {
     "name": "stderr",
     "output_type": "stream",
     "text": [
      "0it [00:02, ?it/s]\n"
     ]
    },
    {
     "name": "stdout",
     "output_type": "stream",
     "text": [
      "Training ...... Epoch : 10\n"
     ]
    },
    {
     "name": "stderr",
     "output_type": "stream",
     "text": [
      "0it [00:02, ?it/s]\n"
     ]
    },
    {
     "name": "stdout",
     "output_type": "stream",
     "text": [
      "Training ...... Epoch : 1\n"
     ]
    },
    {
     "name": "stderr",
     "output_type": "stream",
     "text": [
      "0it [00:02, ?it/s]\n"
     ]
    },
    {
     "name": "stdout",
     "output_type": "stream",
     "text": [
      "Training ...... Epoch : 2\n"
     ]
    },
    {
     "name": "stderr",
     "output_type": "stream",
     "text": [
      "0it [00:02, ?it/s]\n"
     ]
    },
    {
     "name": "stdout",
     "output_type": "stream",
     "text": [
      "Training ...... Epoch : 3\n"
     ]
    },
    {
     "name": "stderr",
     "output_type": "stream",
     "text": [
      "0it [00:02, ?it/s]\n"
     ]
    },
    {
     "name": "stdout",
     "output_type": "stream",
     "text": [
      "Training ...... Epoch : 4\n"
     ]
    },
    {
     "name": "stderr",
     "output_type": "stream",
     "text": [
      "0it [00:02, ?it/s]\n"
     ]
    },
    {
     "name": "stdout",
     "output_type": "stream",
     "text": [
      "Training ...... Epoch : 5\n"
     ]
    },
    {
     "name": "stderr",
     "output_type": "stream",
     "text": [
      "0it [00:02, ?it/s]\n"
     ]
    },
    {
     "name": "stdout",
     "output_type": "stream",
     "text": [
      "Training ...... Epoch : 6\n"
     ]
    },
    {
     "name": "stderr",
     "output_type": "stream",
     "text": [
      "0it [00:02, ?it/s]\n"
     ]
    },
    {
     "name": "stdout",
     "output_type": "stream",
     "text": [
      "Training ...... Epoch : 7\n"
     ]
    },
    {
     "name": "stderr",
     "output_type": "stream",
     "text": [
      "0it [00:02, ?it/s]\n"
     ]
    },
    {
     "name": "stdout",
     "output_type": "stream",
     "text": [
      "Training ...... Epoch : 8\n"
     ]
    },
    {
     "name": "stderr",
     "output_type": "stream",
     "text": [
      "0it [00:02, ?it/s]\n"
     ]
    },
    {
     "name": "stdout",
     "output_type": "stream",
     "text": [
      "Training ...... Epoch : 9\n"
     ]
    },
    {
     "name": "stderr",
     "output_type": "stream",
     "text": [
      "0it [00:02, ?it/s]\n"
     ]
    },
    {
     "name": "stdout",
     "output_type": "stream",
     "text": [
      "Training ...... Epoch : 10\n"
     ]
    },
    {
     "name": "stderr",
     "output_type": "stream",
     "text": [
      "0it [00:02, ?it/s]\n"
     ]
    },
    {
     "name": "stdout",
     "output_type": "stream",
     "text": [
      "Training ...... Epoch : 1\n"
     ]
    },
    {
     "name": "stderr",
     "output_type": "stream",
     "text": [
      "0it [00:02, ?it/s]\n"
     ]
    },
    {
     "name": "stdout",
     "output_type": "stream",
     "text": [
      "Training ...... Epoch : 2\n"
     ]
    },
    {
     "name": "stderr",
     "output_type": "stream",
     "text": [
      "0it [00:02, ?it/s]\n"
     ]
    },
    {
     "name": "stdout",
     "output_type": "stream",
     "text": [
      "Training ...... Epoch : 3\n"
     ]
    },
    {
     "name": "stderr",
     "output_type": "stream",
     "text": [
      "0it [00:02, ?it/s]\n"
     ]
    },
    {
     "name": "stdout",
     "output_type": "stream",
     "text": [
      "Training ...... Epoch : 4\n"
     ]
    },
    {
     "name": "stderr",
     "output_type": "stream",
     "text": [
      "0it [00:02, ?it/s]\n"
     ]
    },
    {
     "name": "stdout",
     "output_type": "stream",
     "text": [
      "Training ...... Epoch : 5\n"
     ]
    },
    {
     "name": "stderr",
     "output_type": "stream",
     "text": [
      "0it [00:02, ?it/s]\n"
     ]
    },
    {
     "name": "stdout",
     "output_type": "stream",
     "text": [
      "Training ...... Epoch : 6\n"
     ]
    },
    {
     "name": "stderr",
     "output_type": "stream",
     "text": [
      "0it [00:02, ?it/s]\n"
     ]
    },
    {
     "name": "stdout",
     "output_type": "stream",
     "text": [
      "Training ...... Epoch : 7\n"
     ]
    },
    {
     "name": "stderr",
     "output_type": "stream",
     "text": [
      "0it [00:02, ?it/s]\n"
     ]
    },
    {
     "name": "stdout",
     "output_type": "stream",
     "text": [
      "Training ...... Epoch : 8\n"
     ]
    },
    {
     "name": "stderr",
     "output_type": "stream",
     "text": [
      "0it [00:02, ?it/s]\n"
     ]
    },
    {
     "name": "stdout",
     "output_type": "stream",
     "text": [
      "Training ...... Epoch : 9\n"
     ]
    },
    {
     "name": "stderr",
     "output_type": "stream",
     "text": [
      "0it [00:02, ?it/s]\n"
     ]
    },
    {
     "name": "stdout",
     "output_type": "stream",
     "text": [
      "Training ...... Epoch : 10\n"
     ]
    },
    {
     "name": "stderr",
     "output_type": "stream",
     "text": [
      "0it [00:02, ?it/s]\n"
     ]
    },
    {
     "name": "stdout",
     "output_type": "stream",
     "text": [
      "Training ...... Epoch : 1\n"
     ]
    },
    {
     "name": "stderr",
     "output_type": "stream",
     "text": [
      "0it [00:02, ?it/s]\n"
     ]
    },
    {
     "name": "stdout",
     "output_type": "stream",
     "text": [
      "Training ...... Epoch : 2\n"
     ]
    },
    {
     "name": "stderr",
     "output_type": "stream",
     "text": [
      "0it [00:02, ?it/s]\n"
     ]
    },
    {
     "name": "stdout",
     "output_type": "stream",
     "text": [
      "Training ...... Epoch : 3\n"
     ]
    },
    {
     "name": "stderr",
     "output_type": "stream",
     "text": [
      "0it [00:02, ?it/s]\n"
     ]
    },
    {
     "name": "stdout",
     "output_type": "stream",
     "text": [
      "Training ...... Epoch : 4\n"
     ]
    },
    {
     "name": "stderr",
     "output_type": "stream",
     "text": [
      "0it [00:02, ?it/s]\n"
     ]
    },
    {
     "name": "stdout",
     "output_type": "stream",
     "text": [
      "Training ...... Epoch : 5\n"
     ]
    },
    {
     "name": "stderr",
     "output_type": "stream",
     "text": [
      "0it [00:02, ?it/s]\n"
     ]
    },
    {
     "name": "stdout",
     "output_type": "stream",
     "text": [
      "Training ...... Epoch : 6\n"
     ]
    },
    {
     "name": "stderr",
     "output_type": "stream",
     "text": [
      "0it [00:02, ?it/s]\n"
     ]
    },
    {
     "name": "stdout",
     "output_type": "stream",
     "text": [
      "Training ...... Epoch : 7\n"
     ]
    },
    {
     "name": "stderr",
     "output_type": "stream",
     "text": [
      "0it [00:02, ?it/s]\n"
     ]
    },
    {
     "name": "stdout",
     "output_type": "stream",
     "text": [
      "Training ...... Epoch : 8\n"
     ]
    },
    {
     "name": "stderr",
     "output_type": "stream",
     "text": [
      "0it [00:02, ?it/s]\n"
     ]
    },
    {
     "name": "stdout",
     "output_type": "stream",
     "text": [
      "Training ...... Epoch : 9\n"
     ]
    },
    {
     "name": "stderr",
     "output_type": "stream",
     "text": [
      "0it [00:02, ?it/s]\n"
     ]
    },
    {
     "name": "stdout",
     "output_type": "stream",
     "text": [
      "Training ...... Epoch : 10\n"
     ]
    },
    {
     "name": "stderr",
     "output_type": "stream",
     "text": [
      "0it [00:02, ?it/s]\n"
     ]
    },
    {
     "name": "stdout",
     "output_type": "stream",
     "text": [
      "Training ...... Epoch : 1\n"
     ]
    },
    {
     "name": "stderr",
     "output_type": "stream",
     "text": [
      "0it [00:02, ?it/s]\n"
     ]
    },
    {
     "name": "stdout",
     "output_type": "stream",
     "text": [
      "Training ...... Epoch : 2\n"
     ]
    },
    {
     "name": "stderr",
     "output_type": "stream",
     "text": [
      "0it [00:02, ?it/s]\n"
     ]
    },
    {
     "name": "stdout",
     "output_type": "stream",
     "text": [
      "Training ...... Epoch : 3\n"
     ]
    },
    {
     "name": "stderr",
     "output_type": "stream",
     "text": [
      "0it [00:02, ?it/s]\n"
     ]
    },
    {
     "name": "stdout",
     "output_type": "stream",
     "text": [
      "Training ...... Epoch : 4\n"
     ]
    },
    {
     "name": "stderr",
     "output_type": "stream",
     "text": [
      "0it [00:02, ?it/s]\n"
     ]
    },
    {
     "name": "stdout",
     "output_type": "stream",
     "text": [
      "Training ...... Epoch : 5\n"
     ]
    },
    {
     "name": "stderr",
     "output_type": "stream",
     "text": [
      "0it [00:02, ?it/s]\n"
     ]
    },
    {
     "name": "stdout",
     "output_type": "stream",
     "text": [
      "Training ...... Epoch : 6\n"
     ]
    },
    {
     "name": "stderr",
     "output_type": "stream",
     "text": [
      "0it [00:02, ?it/s]\n"
     ]
    },
    {
     "name": "stdout",
     "output_type": "stream",
     "text": [
      "Training ...... Epoch : 7\n"
     ]
    },
    {
     "name": "stderr",
     "output_type": "stream",
     "text": [
      "0it [00:02, ?it/s]\n"
     ]
    },
    {
     "name": "stdout",
     "output_type": "stream",
     "text": [
      "Training ...... Epoch : 8\n"
     ]
    },
    {
     "name": "stderr",
     "output_type": "stream",
     "text": [
      "0it [00:02, ?it/s]\n"
     ]
    },
    {
     "name": "stdout",
     "output_type": "stream",
     "text": [
      "Training ...... Epoch : 9\n"
     ]
    },
    {
     "name": "stderr",
     "output_type": "stream",
     "text": [
      "0it [00:02, ?it/s]\n"
     ]
    },
    {
     "name": "stdout",
     "output_type": "stream",
     "text": [
      "Training ...... Epoch : 10\n"
     ]
    },
    {
     "name": "stderr",
     "output_type": "stream",
     "text": [
      "0it [00:02, ?it/s]\n"
     ]
    },
    {
     "name": "stdout",
     "output_type": "stream",
     "text": [
      "Training ...... Epoch : 1\n"
     ]
    },
    {
     "name": "stderr",
     "output_type": "stream",
     "text": [
      "0it [00:02, ?it/s]\n"
     ]
    },
    {
     "name": "stdout",
     "output_type": "stream",
     "text": [
      "Training ...... Epoch : 2\n"
     ]
    },
    {
     "name": "stderr",
     "output_type": "stream",
     "text": [
      "0it [00:02, ?it/s]\n"
     ]
    },
    {
     "name": "stdout",
     "output_type": "stream",
     "text": [
      "Training ...... Epoch : 3\n"
     ]
    },
    {
     "name": "stderr",
     "output_type": "stream",
     "text": [
      "0it [00:02, ?it/s]\n"
     ]
    },
    {
     "name": "stdout",
     "output_type": "stream",
     "text": [
      "Training ...... Epoch : 4\n"
     ]
    },
    {
     "name": "stderr",
     "output_type": "stream",
     "text": [
      "0it [00:02, ?it/s]\n"
     ]
    },
    {
     "name": "stdout",
     "output_type": "stream",
     "text": [
      "Training ...... Epoch : 5\n"
     ]
    },
    {
     "name": "stderr",
     "output_type": "stream",
     "text": [
      "0it [00:02, ?it/s]\n"
     ]
    },
    {
     "name": "stdout",
     "output_type": "stream",
     "text": [
      "Training ...... Epoch : 6\n"
     ]
    },
    {
     "name": "stderr",
     "output_type": "stream",
     "text": [
      "0it [00:02, ?it/s]\n"
     ]
    },
    {
     "name": "stdout",
     "output_type": "stream",
     "text": [
      "Training ...... Epoch : 7\n"
     ]
    },
    {
     "name": "stderr",
     "output_type": "stream",
     "text": [
      "0it [00:02, ?it/s]\n"
     ]
    },
    {
     "name": "stdout",
     "output_type": "stream",
     "text": [
      "Training ...... Epoch : 8\n"
     ]
    },
    {
     "name": "stderr",
     "output_type": "stream",
     "text": [
      "0it [00:02, ?it/s]\n"
     ]
    },
    {
     "name": "stdout",
     "output_type": "stream",
     "text": [
      "Training ...... Epoch : 9\n"
     ]
    },
    {
     "name": "stderr",
     "output_type": "stream",
     "text": [
      "0it [00:02, ?it/s]\n"
     ]
    },
    {
     "name": "stdout",
     "output_type": "stream",
     "text": [
      "Training ...... Epoch : 10\n"
     ]
    },
    {
     "name": "stderr",
     "output_type": "stream",
     "text": [
      "0it [00:02, ?it/s]\n"
     ]
    },
    {
     "name": "stdout",
     "output_type": "stream",
     "text": [
      "Training ...... Epoch : 1\n"
     ]
    },
    {
     "name": "stderr",
     "output_type": "stream",
     "text": [
      "0it [00:02, ?it/s]\n"
     ]
    },
    {
     "name": "stdout",
     "output_type": "stream",
     "text": [
      "Training ...... Epoch : 2\n"
     ]
    },
    {
     "name": "stderr",
     "output_type": "stream",
     "text": [
      "0it [00:02, ?it/s]\n"
     ]
    },
    {
     "name": "stdout",
     "output_type": "stream",
     "text": [
      "Training ...... Epoch : 3\n"
     ]
    },
    {
     "name": "stderr",
     "output_type": "stream",
     "text": [
      "0it [00:02, ?it/s]\n"
     ]
    },
    {
     "name": "stdout",
     "output_type": "stream",
     "text": [
      "Training ...... Epoch : 4\n"
     ]
    },
    {
     "name": "stderr",
     "output_type": "stream",
     "text": [
      "0it [00:02, ?it/s]\n"
     ]
    },
    {
     "name": "stdout",
     "output_type": "stream",
     "text": [
      "Training ...... Epoch : 5\n"
     ]
    },
    {
     "name": "stderr",
     "output_type": "stream",
     "text": [
      "0it [00:02, ?it/s]\n"
     ]
    },
    {
     "name": "stdout",
     "output_type": "stream",
     "text": [
      "Training ...... Epoch : 6\n"
     ]
    },
    {
     "name": "stderr",
     "output_type": "stream",
     "text": [
      "0it [00:02, ?it/s]\n"
     ]
    },
    {
     "name": "stdout",
     "output_type": "stream",
     "text": [
      "Training ...... Epoch : 7\n"
     ]
    },
    {
     "name": "stderr",
     "output_type": "stream",
     "text": [
      "0it [00:02, ?it/s]\n"
     ]
    },
    {
     "name": "stdout",
     "output_type": "stream",
     "text": [
      "Training ...... Epoch : 8\n"
     ]
    },
    {
     "name": "stderr",
     "output_type": "stream",
     "text": [
      "0it [00:02, ?it/s]\n"
     ]
    },
    {
     "name": "stdout",
     "output_type": "stream",
     "text": [
      "Training ...... Epoch : 9\n"
     ]
    },
    {
     "name": "stderr",
     "output_type": "stream",
     "text": [
      "0it [00:02, ?it/s]\n"
     ]
    },
    {
     "name": "stdout",
     "output_type": "stream",
     "text": [
      "Training ...... Epoch : 10\n"
     ]
    },
    {
     "name": "stderr",
     "output_type": "stream",
     "text": [
      "0it [00:02, ?it/s]\n"
     ]
    },
    {
     "name": "stdout",
     "output_type": "stream",
     "text": [
      "Training ...... Epoch : 1\n"
     ]
    },
    {
     "name": "stderr",
     "output_type": "stream",
     "text": [
      "0it [00:02, ?it/s]\n"
     ]
    },
    {
     "name": "stdout",
     "output_type": "stream",
     "text": [
      "Training ...... Epoch : 2\n"
     ]
    },
    {
     "name": "stderr",
     "output_type": "stream",
     "text": [
      "0it [00:02, ?it/s]\n"
     ]
    },
    {
     "name": "stdout",
     "output_type": "stream",
     "text": [
      "Training ...... Epoch : 3\n"
     ]
    },
    {
     "name": "stderr",
     "output_type": "stream",
     "text": [
      "0it [00:02, ?it/s]\n"
     ]
    },
    {
     "name": "stdout",
     "output_type": "stream",
     "text": [
      "Training ...... Epoch : 4\n"
     ]
    },
    {
     "name": "stderr",
     "output_type": "stream",
     "text": [
      "0it [00:02, ?it/s]\n"
     ]
    },
    {
     "name": "stdout",
     "output_type": "stream",
     "text": [
      "Training ...... Epoch : 5\n"
     ]
    },
    {
     "name": "stderr",
     "output_type": "stream",
     "text": [
      "0it [00:02, ?it/s]\n"
     ]
    },
    {
     "name": "stdout",
     "output_type": "stream",
     "text": [
      "Training ...... Epoch : 6\n"
     ]
    },
    {
     "name": "stderr",
     "output_type": "stream",
     "text": [
      "0it [00:02, ?it/s]\n"
     ]
    },
    {
     "name": "stdout",
     "output_type": "stream",
     "text": [
      "Training ...... Epoch : 7\n"
     ]
    },
    {
     "name": "stderr",
     "output_type": "stream",
     "text": [
      "0it [00:02, ?it/s]\n"
     ]
    },
    {
     "name": "stdout",
     "output_type": "stream",
     "text": [
      "Training ...... Epoch : 8\n"
     ]
    },
    {
     "name": "stderr",
     "output_type": "stream",
     "text": [
      "0it [00:02, ?it/s]\n"
     ]
    },
    {
     "name": "stdout",
     "output_type": "stream",
     "text": [
      "Training ...... Epoch : 9\n"
     ]
    },
    {
     "name": "stderr",
     "output_type": "stream",
     "text": [
      "0it [00:02, ?it/s]\n"
     ]
    },
    {
     "name": "stdout",
     "output_type": "stream",
     "text": [
      "Training ...... Epoch : 10\n"
     ]
    },
    {
     "name": "stderr",
     "output_type": "stream",
     "text": [
      "0it [00:02, ?it/s]\n"
     ]
    },
    {
     "name": "stdout",
     "output_type": "stream",
     "text": [
      "Training ...... Epoch : 1\n"
     ]
    },
    {
     "name": "stderr",
     "output_type": "stream",
     "text": [
      "0it [00:02, ?it/s]\n"
     ]
    },
    {
     "name": "stdout",
     "output_type": "stream",
     "text": [
      "Training ...... Epoch : 2\n"
     ]
    },
    {
     "name": "stderr",
     "output_type": "stream",
     "text": [
      "0it [00:02, ?it/s]\n"
     ]
    },
    {
     "name": "stdout",
     "output_type": "stream",
     "text": [
      "Training ...... Epoch : 3\n"
     ]
    },
    {
     "name": "stderr",
     "output_type": "stream",
     "text": [
      "0it [00:02, ?it/s]\n"
     ]
    },
    {
     "name": "stdout",
     "output_type": "stream",
     "text": [
      "Training ...... Epoch : 4\n"
     ]
    },
    {
     "name": "stderr",
     "output_type": "stream",
     "text": [
      "0it [00:02, ?it/s]\n"
     ]
    },
    {
     "name": "stdout",
     "output_type": "stream",
     "text": [
      "Training ...... Epoch : 5\n"
     ]
    },
    {
     "name": "stderr",
     "output_type": "stream",
     "text": [
      "0it [00:02, ?it/s]\n"
     ]
    },
    {
     "name": "stdout",
     "output_type": "stream",
     "text": [
      "Training ...... Epoch : 6\n"
     ]
    },
    {
     "name": "stderr",
     "output_type": "stream",
     "text": [
      "0it [00:02, ?it/s]\n"
     ]
    },
    {
     "name": "stdout",
     "output_type": "stream",
     "text": [
      "Training ...... Epoch : 7\n"
     ]
    },
    {
     "name": "stderr",
     "output_type": "stream",
     "text": [
      "0it [00:02, ?it/s]\n"
     ]
    },
    {
     "name": "stdout",
     "output_type": "stream",
     "text": [
      "Training ...... Epoch : 8\n"
     ]
    },
    {
     "name": "stderr",
     "output_type": "stream",
     "text": [
      "0it [00:02, ?it/s]\n"
     ]
    },
    {
     "name": "stdout",
     "output_type": "stream",
     "text": [
      "Training ...... Epoch : 9\n"
     ]
    },
    {
     "name": "stderr",
     "output_type": "stream",
     "text": [
      "0it [00:02, ?it/s]\n"
     ]
    },
    {
     "name": "stdout",
     "output_type": "stream",
     "text": [
      "Training ...... Epoch : 10\n"
     ]
    },
    {
     "name": "stderr",
     "output_type": "stream",
     "text": [
      "0it [00:02, ?it/s]\n"
     ]
    },
    {
     "name": "stdout",
     "output_type": "stream",
     "text": [
      "Training ...... Epoch : 1\n"
     ]
    },
    {
     "name": "stderr",
     "output_type": "stream",
     "text": [
      "0it [00:02, ?it/s]\n"
     ]
    },
    {
     "name": "stdout",
     "output_type": "stream",
     "text": [
      "Training ...... Epoch : 2\n"
     ]
    },
    {
     "name": "stderr",
     "output_type": "stream",
     "text": [
      "0it [00:02, ?it/s]\n"
     ]
    },
    {
     "name": "stdout",
     "output_type": "stream",
     "text": [
      "Training ...... Epoch : 3\n"
     ]
    },
    {
     "name": "stderr",
     "output_type": "stream",
     "text": [
      "0it [00:02, ?it/s]\n"
     ]
    },
    {
     "name": "stdout",
     "output_type": "stream",
     "text": [
      "Training ...... Epoch : 4\n"
     ]
    },
    {
     "name": "stderr",
     "output_type": "stream",
     "text": [
      "0it [00:02, ?it/s]\n"
     ]
    },
    {
     "name": "stdout",
     "output_type": "stream",
     "text": [
      "Training ...... Epoch : 5\n"
     ]
    },
    {
     "name": "stderr",
     "output_type": "stream",
     "text": [
      "0it [00:02, ?it/s]\n"
     ]
    },
    {
     "name": "stdout",
     "output_type": "stream",
     "text": [
      "Training ...... Epoch : 6\n"
     ]
    },
    {
     "name": "stderr",
     "output_type": "stream",
     "text": [
      "0it [00:02, ?it/s]\n"
     ]
    },
    {
     "name": "stdout",
     "output_type": "stream",
     "text": [
      "Training ...... Epoch : 7\n"
     ]
    },
    {
     "name": "stderr",
     "output_type": "stream",
     "text": [
      "0it [00:02, ?it/s]\n"
     ]
    },
    {
     "name": "stdout",
     "output_type": "stream",
     "text": [
      "Training ...... Epoch : 8\n"
     ]
    },
    {
     "name": "stderr",
     "output_type": "stream",
     "text": [
      "0it [00:02, ?it/s]\n"
     ]
    },
    {
     "name": "stdout",
     "output_type": "stream",
     "text": [
      "Training ...... Epoch : 9\n"
     ]
    },
    {
     "name": "stderr",
     "output_type": "stream",
     "text": [
      "0it [00:02, ?it/s]\n"
     ]
    },
    {
     "name": "stdout",
     "output_type": "stream",
     "text": [
      "Training ...... Epoch : 10\n"
     ]
    },
    {
     "name": "stderr",
     "output_type": "stream",
     "text": [
      "0it [00:02, ?it/s]\n"
     ]
    },
    {
     "name": "stdout",
     "output_type": "stream",
     "text": [
      "Training ...... Epoch : 1\n"
     ]
    },
    {
     "name": "stderr",
     "output_type": "stream",
     "text": [
      "0it [00:02, ?it/s]\n"
     ]
    },
    {
     "name": "stdout",
     "output_type": "stream",
     "text": [
      "Training ...... Epoch : 2\n"
     ]
    },
    {
     "name": "stderr",
     "output_type": "stream",
     "text": [
      "0it [00:02, ?it/s]\n"
     ]
    },
    {
     "name": "stdout",
     "output_type": "stream",
     "text": [
      "Training ...... Epoch : 3\n"
     ]
    },
    {
     "name": "stderr",
     "output_type": "stream",
     "text": [
      "0it [00:02, ?it/s]\n"
     ]
    },
    {
     "name": "stdout",
     "output_type": "stream",
     "text": [
      "Training ...... Epoch : 4\n"
     ]
    },
    {
     "name": "stderr",
     "output_type": "stream",
     "text": [
      "0it [00:02, ?it/s]\n"
     ]
    },
    {
     "name": "stdout",
     "output_type": "stream",
     "text": [
      "Training ...... Epoch : 5\n"
     ]
    },
    {
     "name": "stderr",
     "output_type": "stream",
     "text": [
      "0it [00:02, ?it/s]\n"
     ]
    },
    {
     "name": "stdout",
     "output_type": "stream",
     "text": [
      "Training ...... Epoch : 6\n"
     ]
    },
    {
     "name": "stderr",
     "output_type": "stream",
     "text": [
      "0it [00:02, ?it/s]\n"
     ]
    },
    {
     "name": "stdout",
     "output_type": "stream",
     "text": [
      "Training ...... Epoch : 7\n"
     ]
    },
    {
     "name": "stderr",
     "output_type": "stream",
     "text": [
      "0it [00:02, ?it/s]\n"
     ]
    },
    {
     "name": "stdout",
     "output_type": "stream",
     "text": [
      "Training ...... Epoch : 8\n"
     ]
    },
    {
     "name": "stderr",
     "output_type": "stream",
     "text": [
      "0it [00:02, ?it/s]\n"
     ]
    },
    {
     "name": "stdout",
     "output_type": "stream",
     "text": [
      "Training ...... Epoch : 9\n"
     ]
    },
    {
     "name": "stderr",
     "output_type": "stream",
     "text": [
      "0it [00:02, ?it/s]\n"
     ]
    },
    {
     "name": "stdout",
     "output_type": "stream",
     "text": [
      "Training ...... Epoch : 10\n"
     ]
    },
    {
     "name": "stderr",
     "output_type": "stream",
     "text": [
      "0it [00:02, ?it/s]\n"
     ]
    },
    {
     "name": "stdout",
     "output_type": "stream",
     "text": [
      "Training ...... Epoch : 1\n"
     ]
    },
    {
     "name": "stderr",
     "output_type": "stream",
     "text": [
      "0it [00:02, ?it/s]\n"
     ]
    },
    {
     "name": "stdout",
     "output_type": "stream",
     "text": [
      "Training ...... Epoch : 2\n"
     ]
    },
    {
     "name": "stderr",
     "output_type": "stream",
     "text": [
      "0it [00:02, ?it/s]\n"
     ]
    },
    {
     "name": "stdout",
     "output_type": "stream",
     "text": [
      "Training ...... Epoch : 3\n"
     ]
    },
    {
     "name": "stderr",
     "output_type": "stream",
     "text": [
      "0it [00:02, ?it/s]\n"
     ]
    },
    {
     "name": "stdout",
     "output_type": "stream",
     "text": [
      "Training ...... Epoch : 4\n"
     ]
    },
    {
     "name": "stderr",
     "output_type": "stream",
     "text": [
      "0it [00:02, ?it/s]\n"
     ]
    },
    {
     "name": "stdout",
     "output_type": "stream",
     "text": [
      "Training ...... Epoch : 5\n"
     ]
    },
    {
     "name": "stderr",
     "output_type": "stream",
     "text": [
      "0it [00:02, ?it/s]\n"
     ]
    },
    {
     "name": "stdout",
     "output_type": "stream",
     "text": [
      "Training ...... Epoch : 6\n"
     ]
    },
    {
     "name": "stderr",
     "output_type": "stream",
     "text": [
      "0it [00:02, ?it/s]\n"
     ]
    },
    {
     "name": "stdout",
     "output_type": "stream",
     "text": [
      "Training ...... Epoch : 7\n"
     ]
    },
    {
     "name": "stderr",
     "output_type": "stream",
     "text": [
      "0it [00:02, ?it/s]\n"
     ]
    },
    {
     "name": "stdout",
     "output_type": "stream",
     "text": [
      "Training ...... Epoch : 8\n"
     ]
    },
    {
     "name": "stderr",
     "output_type": "stream",
     "text": [
      "0it [00:02, ?it/s]\n"
     ]
    },
    {
     "name": "stdout",
     "output_type": "stream",
     "text": [
      "Training ...... Epoch : 9\n"
     ]
    },
    {
     "name": "stderr",
     "output_type": "stream",
     "text": [
      "0it [00:02, ?it/s]\n"
     ]
    },
    {
     "name": "stdout",
     "output_type": "stream",
     "text": [
      "Training ...... Epoch : 10\n"
     ]
    },
    {
     "name": "stderr",
     "output_type": "stream",
     "text": [
      "0it [00:02, ?it/s]\n"
     ]
    },
    {
     "name": "stdout",
     "output_type": "stream",
     "text": [
      "Training ...... Epoch : 1\n"
     ]
    },
    {
     "name": "stderr",
     "output_type": "stream",
     "text": [
      "0it [00:02, ?it/s]\n"
     ]
    },
    {
     "name": "stdout",
     "output_type": "stream",
     "text": [
      "Training ...... Epoch : 2\n"
     ]
    },
    {
     "name": "stderr",
     "output_type": "stream",
     "text": [
      "0it [00:02, ?it/s]\n"
     ]
    },
    {
     "name": "stdout",
     "output_type": "stream",
     "text": [
      "Training ...... Epoch : 3\n"
     ]
    },
    {
     "name": "stderr",
     "output_type": "stream",
     "text": [
      "0it [00:02, ?it/s]\n"
     ]
    },
    {
     "name": "stdout",
     "output_type": "stream",
     "text": [
      "Training ...... Epoch : 4\n"
     ]
    },
    {
     "name": "stderr",
     "output_type": "stream",
     "text": [
      "0it [00:02, ?it/s]\n"
     ]
    },
    {
     "name": "stdout",
     "output_type": "stream",
     "text": [
      "Training ...... Epoch : 5\n"
     ]
    },
    {
     "name": "stderr",
     "output_type": "stream",
     "text": [
      "0it [00:02, ?it/s]\n"
     ]
    },
    {
     "name": "stdout",
     "output_type": "stream",
     "text": [
      "Training ...... Epoch : 6\n"
     ]
    },
    {
     "name": "stderr",
     "output_type": "stream",
     "text": [
      "0it [00:02, ?it/s]\n"
     ]
    },
    {
     "name": "stdout",
     "output_type": "stream",
     "text": [
      "Training ...... Epoch : 7\n"
     ]
    },
    {
     "name": "stderr",
     "output_type": "stream",
     "text": [
      "0it [00:02, ?it/s]\n"
     ]
    },
    {
     "name": "stdout",
     "output_type": "stream",
     "text": [
      "Training ...... Epoch : 8\n"
     ]
    },
    {
     "name": "stderr",
     "output_type": "stream",
     "text": [
      "0it [00:02, ?it/s]\n"
     ]
    },
    {
     "name": "stdout",
     "output_type": "stream",
     "text": [
      "Training ...... Epoch : 9\n"
     ]
    },
    {
     "name": "stderr",
     "output_type": "stream",
     "text": [
      "0it [00:02, ?it/s]\n"
     ]
    },
    {
     "name": "stdout",
     "output_type": "stream",
     "text": [
      "Training ...... Epoch : 10\n"
     ]
    },
    {
     "name": "stderr",
     "output_type": "stream",
     "text": [
      "0it [00:02, ?it/s]\n"
     ]
    },
    {
     "name": "stdout",
     "output_type": "stream",
     "text": [
      "Training ...... Epoch : 1\n"
     ]
    },
    {
     "name": "stderr",
     "output_type": "stream",
     "text": [
      "0it [00:02, ?it/s]\n"
     ]
    },
    {
     "name": "stdout",
     "output_type": "stream",
     "text": [
      "Training ...... Epoch : 2\n"
     ]
    },
    {
     "name": "stderr",
     "output_type": "stream",
     "text": [
      "0it [00:02, ?it/s]\n"
     ]
    },
    {
     "name": "stdout",
     "output_type": "stream",
     "text": [
      "Training ...... Epoch : 3\n"
     ]
    },
    {
     "name": "stderr",
     "output_type": "stream",
     "text": [
      "0it [00:02, ?it/s]\n"
     ]
    },
    {
     "name": "stdout",
     "output_type": "stream",
     "text": [
      "Training ...... Epoch : 4\n"
     ]
    },
    {
     "name": "stderr",
     "output_type": "stream",
     "text": [
      "0it [00:02, ?it/s]\n"
     ]
    },
    {
     "name": "stdout",
     "output_type": "stream",
     "text": [
      "Training ...... Epoch : 5\n"
     ]
    },
    {
     "name": "stderr",
     "output_type": "stream",
     "text": [
      "0it [00:02, ?it/s]\n"
     ]
    },
    {
     "name": "stdout",
     "output_type": "stream",
     "text": [
      "Training ...... Epoch : 6\n"
     ]
    },
    {
     "name": "stderr",
     "output_type": "stream",
     "text": [
      "0it [00:02, ?it/s]\n"
     ]
    },
    {
     "name": "stdout",
     "output_type": "stream",
     "text": [
      "Training ...... Epoch : 7\n"
     ]
    },
    {
     "name": "stderr",
     "output_type": "stream",
     "text": [
      "0it [00:02, ?it/s]\n"
     ]
    },
    {
     "name": "stdout",
     "output_type": "stream",
     "text": [
      "Training ...... Epoch : 8\n"
     ]
    },
    {
     "name": "stderr",
     "output_type": "stream",
     "text": [
      "0it [00:02, ?it/s]\n"
     ]
    },
    {
     "name": "stdout",
     "output_type": "stream",
     "text": [
      "Training ...... Epoch : 9\n"
     ]
    },
    {
     "name": "stderr",
     "output_type": "stream",
     "text": [
      "0it [00:02, ?it/s]\n"
     ]
    },
    {
     "name": "stdout",
     "output_type": "stream",
     "text": [
      "Training ...... Epoch : 10\n"
     ]
    },
    {
     "name": "stderr",
     "output_type": "stream",
     "text": [
      "0it [00:02, ?it/s]\n"
     ]
    },
    {
     "name": "stdout",
     "output_type": "stream",
     "text": [
      "Training ...... Epoch : 1\n"
     ]
    },
    {
     "name": "stderr",
     "output_type": "stream",
     "text": [
      "0it [00:02, ?it/s]\n"
     ]
    },
    {
     "name": "stdout",
     "output_type": "stream",
     "text": [
      "Training ...... Epoch : 2\n"
     ]
    },
    {
     "name": "stderr",
     "output_type": "stream",
     "text": [
      "0it [00:02, ?it/s]\n"
     ]
    },
    {
     "name": "stdout",
     "output_type": "stream",
     "text": [
      "Training ...... Epoch : 3\n"
     ]
    },
    {
     "name": "stderr",
     "output_type": "stream",
     "text": [
      "0it [00:02, ?it/s]\n"
     ]
    },
    {
     "name": "stdout",
     "output_type": "stream",
     "text": [
      "Training ...... Epoch : 4\n"
     ]
    },
    {
     "name": "stderr",
     "output_type": "stream",
     "text": [
      "0it [00:02, ?it/s]\n"
     ]
    },
    {
     "name": "stdout",
     "output_type": "stream",
     "text": [
      "Training ...... Epoch : 5\n"
     ]
    },
    {
     "name": "stderr",
     "output_type": "stream",
     "text": [
      "0it [00:02, ?it/s]\n"
     ]
    },
    {
     "name": "stdout",
     "output_type": "stream",
     "text": [
      "Training ...... Epoch : 6\n"
     ]
    },
    {
     "name": "stderr",
     "output_type": "stream",
     "text": [
      "0it [00:02, ?it/s]\n"
     ]
    },
    {
     "name": "stdout",
     "output_type": "stream",
     "text": [
      "Training ...... Epoch : 7\n"
     ]
    },
    {
     "name": "stderr",
     "output_type": "stream",
     "text": [
      "0it [00:02, ?it/s]\n"
     ]
    },
    {
     "name": "stdout",
     "output_type": "stream",
     "text": [
      "Training ...... Epoch : 8\n"
     ]
    },
    {
     "name": "stderr",
     "output_type": "stream",
     "text": [
      "0it [00:02, ?it/s]\n"
     ]
    },
    {
     "name": "stdout",
     "output_type": "stream",
     "text": [
      "Training ...... Epoch : 9\n"
     ]
    },
    {
     "name": "stderr",
     "output_type": "stream",
     "text": [
      "0it [00:02, ?it/s]\n"
     ]
    },
    {
     "name": "stdout",
     "output_type": "stream",
     "text": [
      "Training ...... Epoch : 10\n"
     ]
    },
    {
     "name": "stderr",
     "output_type": "stream",
     "text": [
      "0it [00:02, ?it/s]\n"
     ]
    },
    {
     "name": "stdout",
     "output_type": "stream",
     "text": [
      "Training ...... Epoch : 1\n"
     ]
    },
    {
     "name": "stderr",
     "output_type": "stream",
     "text": [
      "0it [00:02, ?it/s]\n"
     ]
    },
    {
     "name": "stdout",
     "output_type": "stream",
     "text": [
      "Training ...... Epoch : 2\n"
     ]
    },
    {
     "name": "stderr",
     "output_type": "stream",
     "text": [
      "0it [00:02, ?it/s]\n"
     ]
    },
    {
     "name": "stdout",
     "output_type": "stream",
     "text": [
      "Training ...... Epoch : 3\n"
     ]
    },
    {
     "name": "stderr",
     "output_type": "stream",
     "text": [
      "0it [00:02, ?it/s]\n"
     ]
    },
    {
     "name": "stdout",
     "output_type": "stream",
     "text": [
      "Training ...... Epoch : 4\n"
     ]
    },
    {
     "name": "stderr",
     "output_type": "stream",
     "text": [
      "0it [00:02, ?it/s]\n"
     ]
    },
    {
     "name": "stdout",
     "output_type": "stream",
     "text": [
      "Training ...... Epoch : 5\n"
     ]
    },
    {
     "name": "stderr",
     "output_type": "stream",
     "text": [
      "0it [00:02, ?it/s]\n"
     ]
    },
    {
     "name": "stdout",
     "output_type": "stream",
     "text": [
      "Training ...... Epoch : 6\n"
     ]
    },
    {
     "name": "stderr",
     "output_type": "stream",
     "text": [
      "0it [00:02, ?it/s]\n"
     ]
    },
    {
     "name": "stdout",
     "output_type": "stream",
     "text": [
      "Training ...... Epoch : 7\n"
     ]
    },
    {
     "name": "stderr",
     "output_type": "stream",
     "text": [
      "0it [00:02, ?it/s]\n"
     ]
    },
    {
     "name": "stdout",
     "output_type": "stream",
     "text": [
      "Training ...... Epoch : 8\n"
     ]
    },
    {
     "name": "stderr",
     "output_type": "stream",
     "text": [
      "0it [00:02, ?it/s]\n"
     ]
    },
    {
     "name": "stdout",
     "output_type": "stream",
     "text": [
      "Training ...... Epoch : 9\n"
     ]
    },
    {
     "name": "stderr",
     "output_type": "stream",
     "text": [
      "0it [00:02, ?it/s]\n"
     ]
    },
    {
     "name": "stdout",
     "output_type": "stream",
     "text": [
      "Training ...... Epoch : 10\n"
     ]
    },
    {
     "name": "stderr",
     "output_type": "stream",
     "text": [
      "0it [00:02, ?it/s]\n"
     ]
    },
    {
     "name": "stdout",
     "output_type": "stream",
     "text": [
      "Training ...... Epoch : 1\n"
     ]
    },
    {
     "name": "stderr",
     "output_type": "stream",
     "text": [
      "0it [00:02, ?it/s]\n"
     ]
    },
    {
     "name": "stdout",
     "output_type": "stream",
     "text": [
      "Training ...... Epoch : 2\n"
     ]
    },
    {
     "name": "stderr",
     "output_type": "stream",
     "text": [
      "0it [00:02, ?it/s]\n"
     ]
    },
    {
     "name": "stdout",
     "output_type": "stream",
     "text": [
      "Training ...... Epoch : 3\n"
     ]
    },
    {
     "name": "stderr",
     "output_type": "stream",
     "text": [
      "0it [00:02, ?it/s]\n"
     ]
    },
    {
     "name": "stdout",
     "output_type": "stream",
     "text": [
      "Training ...... Epoch : 4\n"
     ]
    },
    {
     "name": "stderr",
     "output_type": "stream",
     "text": [
      "0it [00:02, ?it/s]\n"
     ]
    },
    {
     "name": "stdout",
     "output_type": "stream",
     "text": [
      "Training ...... Epoch : 5\n"
     ]
    },
    {
     "name": "stderr",
     "output_type": "stream",
     "text": [
      "0it [00:02, ?it/s]\n"
     ]
    },
    {
     "name": "stdout",
     "output_type": "stream",
     "text": [
      "Training ...... Epoch : 6\n"
     ]
    },
    {
     "name": "stderr",
     "output_type": "stream",
     "text": [
      "0it [00:02, ?it/s]\n"
     ]
    },
    {
     "name": "stdout",
     "output_type": "stream",
     "text": [
      "Training ...... Epoch : 7\n"
     ]
    },
    {
     "name": "stderr",
     "output_type": "stream",
     "text": [
      "0it [00:02, ?it/s]\n"
     ]
    },
    {
     "name": "stdout",
     "output_type": "stream",
     "text": [
      "Training ...... Epoch : 8\n"
     ]
    },
    {
     "name": "stderr",
     "output_type": "stream",
     "text": [
      "0it [00:02, ?it/s]\n"
     ]
    },
    {
     "name": "stdout",
     "output_type": "stream",
     "text": [
      "Training ...... Epoch : 9\n"
     ]
    },
    {
     "name": "stderr",
     "output_type": "stream",
     "text": [
      "0it [00:02, ?it/s]\n"
     ]
    },
    {
     "name": "stdout",
     "output_type": "stream",
     "text": [
      "Training ...... Epoch : 10\n"
     ]
    },
    {
     "name": "stderr",
     "output_type": "stream",
     "text": [
      "0it [00:02, ?it/s]\n"
     ]
    },
    {
     "name": "stdout",
     "output_type": "stream",
     "text": [
      "Training reduced model Done ......\n"
     ]
    },
    {
     "data": {
      "image/png": "[encoded data removed]",
      "text/plain": [
       "<Figure size 600x1200 with 2 Axes>"
      ]
     },
     "metadata": {},
     "output_type": "display_data"
    },
    {
     "data": {
      "image/png": "[encoded data removed]",
      "text/plain": [
       "<Figure size 600x1800 with 3 Axes>"
      ]
     },
     "metadata": {},
     "output_type": "display_data"
    }
   ],
   "source": [
    "class set_args:\n",
    "    def __init__(self):\n",
    "        self.seed = 5\n",
    "        self.state = 'train'\n",
    "        self.epochs = 50 # training epochs\n",
    "        self.batch_size = 80\n",
    "        self.dataset = 'MNIST'#'MNIST'#'CIFAR10' \n",
    "        self.split_class= [0]\n",
    "\n",
    "        #Load different model if TRUE\n",
    "        self.load_different_model = False\n",
    "        self.load_training_checkpoint = 50 #30,#200\n",
    "        self.load_rd_training_checkpoint = 10\n",
    "\n",
    "        self.sample_dir = 'Result'\n",
    "        self.checkpoint_dir = 'Result'\n",
    "        self.M = [0]\n",
    "        self.I = [0]\n",
    "\n",
    "        #Reduce training sample\n",
    "        self.rd = 0.05\n",
    "        self.training_anchor_num = 4000 #training_anchor_num=200, testing_anchor_num=2500\n",
    "        self.testing_anchor_num = 10\n",
    "        \n",
    "\n",
    "        self.save_weight_dir = 'Result/CheckpointsMNIST/'\n",
    "\n",
    "        \n",
    "    \n",
    "directory_init()\n",
    "\n",
    "args = set_args()\n",
    "seed_everything(args.seed) \n",
    "\n",
    "\"\"\"Merge both these\"\"\"\n",
    "model_config = set_config(args, custom_dataset=args.dataset) \n",
    "\n",
    "model, sampler, trainer = model_init(args, model_config)\n",
    "\n",
    "\"\"\"Handle these afterward\"\"\"\n",
    "#h_info_sampledImgs = sampler.load_h_information()\n",
    "#xt_info_sampledImgs = sampler.load_xt_information()\n",
    "\n",
    "\n",
    "\n",
    "expriment1 = Experiment_1(args, model_config, model, sampler, trainer)\n",
    "expriment1.plot_sim()\n",
    "\n",
    "df_anchor = expriment1.df_anchor\n",
    "\n",
    "print(\"Experiment 1 Done ......\")\n",
    "\n",
    "exp2 = Experiment_2(args, model_config, df_anchor)\n",
    "train_mean_anchor = exp2.anchor_train_mean_df\n",
    "exp2.plot_sim()\n",
    "\n",
    "print(\"experiment 2 Done ......\")\n",
    "\n",
    "# FID\n",
    "\n",
    "block_idx = InceptionV3.BLOCK_INDEX_BY_DIM[2048]\n",
    "InceptionV3_model = InceptionV3([block_idx])\n",
    "InceptionV3_model=InceptionV3_model.cuda()\n",
    "\n",
    "# create indices\n",
    "reduced_sort_idx = create_reduce_idx(args, train_mean_anchor)\n",
    "\n",
    "for stage in range((5)):\n",
    "    for rd_mode in ['HIHE', 'Other', 'Random']:\n",
    "        train_new(args, reduced_sort_idx, model_config, stage, rd_mode)\n",
    "print(\"Training reduced model Done ......\")"
   ]
  },
  {
   "cell_type": "code",
   "execution_count": null,
   "metadata": {},
   "outputs": [],
   "source": []
  },
  {
   "cell_type": "code",
   "execution_count": null,
   "metadata": {},
   "outputs": [],
   "source": []
  },
  {
   "cell_type": "code",
   "execution_count": null,
   "metadata": {},
   "outputs": [
    {
     "name": "stdout",
     "output_type": "stream",
     "text": [
      "Config : haha\n"
     ]
    },
    {
     "name": "stderr",
     "output_type": "stream",
     "text": [
      "C:\\Users\\user\\AppData\\Local\\Temp\\ipykernel_29360\\741910041.py:10: FutureWarning: You are using `torch.load` with `weights_only=False` (the current default value), which uses the default pickle module implicitly. It is possible to construct malicious pickle data which will execute arbitrary code during unpickling (See https://github.com/pytorch/pytorch/blob/main/SECURITY.md#untrusted-models for more details). In a future release, the default value for `weights_only` will be flipped to `True`. This limits the functions that could be executed during unpickling. Arbitrary objects will no longer be allowed to be loaded via this mode unless they are explicitly allowlisted by the user via `torch.serialization.add_safe_globals`. We recommend you start setting `weights_only=True` for any use case where you don't have full control of the loaded file. Please open an issue on GitHub for any issues related to this experimental feature.\n",
      "  ckpt = torch.load(os.path.join(\n"
     ]
    },
    {
     "name": "stdout",
     "output_type": "stream",
     "text": [
      "model load weight done.\n",
      "Timestep 999 add to h space information and xt information.\n",
      "Timestep 998 add to h space information and xt information.\n",
      "Timestep 997 add to h space information and xt information.\n",
      "Timestep 996 add to h space information and xt information.\n",
      "Timestep 995 add to h space information and xt information.\n",
      "Timestep 994 add to h space information and xt information.\n",
      "Timestep 993 add to h space information and xt information.\n",
      "Timestep 992 add to h space information and xt information.\n",
      "Timestep 991 add to h space information and xt information.\n",
      "Timestep 990 add to h space information and xt information.\n",
      "Timestep 989 add to h space information and xt information.\n",
      "Timestep 988 add to h space information and xt information.\n",
      "Timestep 987 add to h space information and xt information.\n",
      "Timestep 986 add to h space information and xt information.\n",
      "Timestep 985 add to h space information and xt information.\n",
      "Timestep 984 add to h space information and xt information.\n",
      "Timestep 983 add to h space information and xt information.\n",
      "Timestep 982 add to h space information and xt information.\n",
      "Timestep 981 add to h space information and xt information.\n",
      "Timestep 980 add to h space information and xt information.\n",
      "Timestep 979 add to h space information and xt information.\n",
      "Timestep 978 add to h space information and xt information.\n",
      "Timestep 977 add to h space information and xt information.\n",
      "Timestep 976 add to h space information and xt information.\n",
      "Timestep 975 add to h space information and xt information.\n",
      "Timestep 974 add to h space information and xt information.\n",
      "Timestep 973 add to h space information and xt information.\n",
      "Timestep 972 add to h space information and xt information.\n",
      "Timestep 971 add to h space information and xt information.\n",
      "Timestep 970 add to h space information and xt information.\n",
      "Timestep 969 add to h space information and xt information.\n",
      "Timestep 968 add to h space information and xt information.\n",
      "Timestep 967 add to h space information and xt information.\n",
      "Timestep 966 add to h space information and xt information.\n",
      "Timestep 965 add to h space information and xt information.\n",
      "Timestep 964 add to h space information and xt information.\n",
      "Timestep 963 add to h space information and xt information.\n",
      "Timestep 962 add to h space information and xt information.\n",
      "Timestep 961 add to h space information and xt information.\n",
      "Timestep 960 add to h space information and xt information.\n",
      "Timestep 959 add to h space information and xt information.\n",
      "Timestep 958 add to h space information and xt information.\n",
      "Timestep 957 add to h space information and xt information.\n",
      "Timestep 956 add to h space information and xt information.\n",
      "Timestep 955 add to h space information and xt information.\n",
      "Timestep 954 add to h space information and xt information.\n",
      "Timestep 953 add to h space information and xt information.\n",
      "Timestep 952 add to h space information and xt information.\n",
      "Timestep 951 add to h space information and xt information.\n",
      "Timestep 950 add to h space information and xt information.\n",
      "Timestep 949 add to h space information and xt information.\n",
      "Timestep 948 add to h space information and xt information.\n",
      "Timestep 947 add to h space information and xt information.\n",
      "Timestep 946 add to h space information and xt information.\n",
      "Timestep 945 add to h space information and xt information.\n",
      "Timestep 944 add to h space information and xt information.\n",
      "Timestep 943 add to h space information and xt information.\n",
      "Timestep 942 add to h space information and xt information.\n",
      "Timestep 941 add to h space information and xt information.\n",
      "Timestep 940 add to h space information and xt information.\n",
      "Timestep 939 add to h space information and xt information.\n",
      "Timestep 938 add to h space information and xt information.\n",
      "Timestep 937 add to h space information and xt information.\n",
      "Timestep 936 add to h space information and xt information.\n",
      "Timestep 935 add to h space information and xt information.\n",
      "Timestep 934 add to h space information and xt information.\n",
      "Timestep 933 add to h space information and xt information.\n",
      "Timestep 932 add to h space information and xt information.\n",
      "Timestep 931 add to h space information and xt information.\n",
      "Timestep 930 add to h space information and xt information.\n",
      "Timestep 929 add to h space information and xt information.\n",
      "Timestep 928 add to h space information and xt information.\n",
      "Timestep 927 add to h space information and xt information.\n",
      "Timestep 926 add to h space information and xt information.\n",
      "Timestep 925 add to h space information and xt information.\n",
      "Timestep 924 add to h space information and xt information.\n",
      "Timestep 923 add to h space information and xt information.\n",
      "Timestep 922 add to h space information and xt information.\n",
      "Timestep 921 add to h space information and xt information.\n",
      "Timestep 920 add to h space information and xt information.\n",
      "Timestep 919 add to h space information and xt information.\n",
      "Timestep 918 add to h space information and xt information.\n",
      "Timestep 917 add to h space information and xt information.\n",
      "Timestep 916 add to h space information and xt information.\n",
      "Timestep 915 add to h space information and xt information.\n",
      "Timestep 914 add to h space information and xt information.\n",
      "Timestep 913 add to h space information and xt information.\n",
      "Timestep 912 add to h space information and xt information.\n",
      "Timestep 911 add to h space information and xt information.\n",
      "Timestep 910 add to h space information and xt information.\n",
      "Timestep 909 add to h space information and xt information.\n",
      "Timestep 908 add to h space information and xt information.\n",
      "Timestep 907 add to h space information and xt information.\n",
      "Timestep 906 add to h space information and xt information.\n",
      "Timestep 905 add to h space information and xt information.\n",
      "Timestep 904 add to h space information and xt information.\n",
      "Timestep 903 add to h space information and xt information.\n",
      "Timestep 902 add to h space information and xt information.\n",
      "Timestep 901 add to h space information and xt information.\n",
      "Timestep 900 add to h space information and xt information.\n",
      "Timestep 899 add to h space information and xt information.\n",
      "Timestep 898 add to h space information and xt information.\n",
      "Timestep 897 add to h space information and xt information.\n",
      "Timestep 896 add to h space information and xt information.\n",
      "Timestep 895 add to h space information and xt information.\n",
      "Timestep 894 add to h space information and xt information.\n",
      "Timestep 893 add to h space information and xt information.\n",
      "Timestep 892 add to h space information and xt information.\n",
      "Timestep 891 add to h space information and xt information.\n",
      "Timestep 890 add to h space information and xt information.\n",
      "Timestep 889 add to h space information and xt information.\n",
      "Timestep 888 add to h space information and xt information.\n",
      "Timestep 887 add to h space information and xt information.\n",
      "Timestep 886 add to h space information and xt information.\n",
      "Timestep 885 add to h space information and xt information.\n",
      "Timestep 884 add to h space information and xt information.\n",
      "Timestep 883 add to h space information and xt information.\n",
      "Timestep 882 add to h space information and xt information.\n",
      "Timestep 881 add to h space information and xt information.\n",
      "Timestep 880 add to h space information and xt information.\n",
      "Timestep 879 add to h space information and xt information.\n",
      "Timestep 878 add to h space information and xt information.\n",
      "Timestep 877 add to h space information and xt information.\n",
      "Timestep 876 add to h space information and xt information.\n",
      "Timestep 875 add to h space information and xt information.\n",
      "Timestep 874 add to h space information and xt information.\n",
      "Timestep 873 add to h space information and xt information.\n",
      "Timestep 872 add to h space information and xt information.\n",
      "Timestep 871 add to h space information and xt information.\n",
      "Timestep 870 add to h space information and xt information.\n",
      "Timestep 869 add to h space information and xt information.\n",
      "Timestep 868 add to h space information and xt information.\n",
      "Timestep 867 add to h space information and xt information.\n",
      "Timestep 866 add to h space information and xt information.\n",
      "Timestep 865 add to h space information and xt information.\n",
      "Timestep 864 add to h space information and xt information.\n",
      "Timestep 863 add to h space information and xt information.\n",
      "Timestep 862 add to h space information and xt information.\n",
      "Timestep 861 add to h space information and xt information.\n",
      "Timestep 860 add to h space information and xt information.\n",
      "Timestep 859 add to h space information and xt information.\n",
      "Timestep 858 add to h space information and xt information.\n",
      "Timestep 857 add to h space information and xt information.\n",
      "Timestep 856 add to h space information and xt information.\n",
      "Timestep 855 add to h space information and xt information.\n",
      "Timestep 854 add to h space information and xt information.\n",
      "Timestep 853 add to h space information and xt information.\n",
      "Timestep 852 add to h space information and xt information.\n",
      "Timestep 851 add to h space information and xt information.\n",
      "Timestep 850 add to h space information and xt information.\n",
      "Timestep 849 add to h space information and xt information.\n",
      "Timestep 848 add to h space information and xt information.\n",
      "Timestep 847 add to h space information and xt information.\n",
      "Timestep 846 add to h space information and xt information.\n",
      "Timestep 845 add to h space information and xt information.\n",
      "Timestep 844 add to h space information and xt information.\n",
      "Timestep 843 add to h space information and xt information.\n",
      "Timestep 842 add to h space information and xt information.\n",
      "Timestep 841 add to h space information and xt information.\n",
      "Timestep 840 add to h space information and xt information.\n",
      "Timestep 839 add to h space information and xt information.\n",
      "Timestep 838 add to h space information and xt information.\n",
      "Timestep 837 add to h space information and xt information.\n",
      "Timestep 836 add to h space information and xt information.\n",
      "Timestep 835 add to h space information and xt information.\n",
      "Timestep 834 add to h space information and xt information.\n",
      "Timestep 833 add to h space information and xt information.\n",
      "Timestep 832 add to h space information and xt information.\n",
      "Timestep 831 add to h space information and xt information.\n",
      "Timestep 830 add to h space information and xt information.\n",
      "Timestep 829 add to h space information and xt information.\n",
      "Timestep 828 add to h space information and xt information.\n",
      "Timestep 827 add to h space information and xt information.\n",
      "Timestep 826 add to h space information and xt information.\n",
      "Timestep 825 add to h space information and xt information.\n",
      "Timestep 824 add to h space information and xt information.\n",
      "Timestep 823 add to h space information and xt information.\n",
      "Timestep 822 add to h space information and xt information.\n",
      "Timestep 821 add to h space information and xt information.\n",
      "Timestep 820 add to h space information and xt information.\n",
      "Timestep 819 add to h space information and xt information.\n",
      "Timestep 818 add to h space information and xt information.\n",
      "Timestep 817 add to h space information and xt information.\n",
      "Timestep 816 add to h space information and xt information.\n",
      "Timestep 815 add to h space information and xt information.\n",
      "Timestep 814 add to h space information and xt information.\n",
      "Timestep 813 add to h space information and xt information.\n",
      "Timestep 812 add to h space information and xt information.\n",
      "Timestep 811 add to h space information and xt information.\n",
      "Timestep 810 add to h space information and xt information.\n",
      "Timestep 809 add to h space information and xt information.\n",
      "Timestep 808 add to h space information and xt information.\n",
      "Timestep 807 add to h space information and xt information.\n",
      "Timestep 806 add to h space information and xt information.\n",
      "Timestep 805 add to h space information and xt information.\n",
      "Timestep 804 add to h space information and xt information.\n",
      "Timestep 803 add to h space information and xt information.\n",
      "Timestep 802 add to h space information and xt information.\n",
      "Timestep 801 add to h space information and xt information.\n",
      "Timestep 800 add to h space information and xt information.\n",
      "Timestep 799 add to h space information and xt information.\n",
      "Timestep 798 add to h space information and xt information.\n",
      "Timestep 797 add to h space information and xt information.\n",
      "Timestep 796 add to h space information and xt information.\n",
      "Timestep 795 add to h space information and xt information.\n",
      "Timestep 794 add to h space information and xt information.\n",
      "Timestep 793 add to h space information and xt information.\n",
      "Timestep 792 add to h space information and xt information.\n",
      "Timestep 791 add to h space information and xt information.\n",
      "Timestep 790 add to h space information and xt information.\n",
      "Timestep 789 add to h space information and xt information.\n",
      "Timestep 788 add to h space information and xt information.\n",
      "Timestep 787 add to h space information and xt information.\n",
      "Timestep 786 add to h space information and xt information.\n",
      "Timestep 785 add to h space information and xt information.\n",
      "Timestep 784 add to h space information and xt information.\n",
      "Timestep 783 add to h space information and xt information.\n",
      "Timestep 782 add to h space information and xt information.\n",
      "Timestep 781 add to h space information and xt information.\n",
      "Timestep 780 add to h space information and xt information.\n",
      "Timestep 779 add to h space information and xt information.\n",
      "Timestep 778 add to h space information and xt information.\n",
      "Timestep 777 add to h space information and xt information.\n",
      "Timestep 776 add to h space information and xt information.\n",
      "Timestep 775 add to h space information and xt information.\n",
      "Timestep 774 add to h space information and xt information.\n",
      "Timestep 773 add to h space information and xt information.\n",
      "Timestep 772 add to h space information and xt information.\n",
      "Timestep 771 add to h space information and xt information.\n",
      "Timestep 770 add to h space information and xt information.\n",
      "Timestep 769 add to h space information and xt information.\n",
      "Timestep 768 add to h space information and xt information.\n",
      "Timestep 767 add to h space information and xt information.\n",
      "Timestep 766 add to h space information and xt information.\n",
      "Timestep 765 add to h space information and xt information.\n",
      "Timestep 764 add to h space information and xt information.\n",
      "Timestep 763 add to h space information and xt information.\n",
      "Timestep 762 add to h space information and xt information.\n",
      "Timestep 761 add to h space information and xt information.\n",
      "Timestep 760 add to h space information and xt information.\n",
      "Timestep 759 add to h space information and xt information.\n",
      "Timestep 758 add to h space information and xt information.\n",
      "Timestep 757 add to h space information and xt information.\n",
      "Timestep 756 add to h space information and xt information.\n",
      "Timestep 755 add to h space information and xt information.\n",
      "Timestep 754 add to h space information and xt information.\n",
      "Timestep 753 add to h space information and xt information.\n",
      "Timestep 752 add to h space information and xt information.\n",
      "Timestep 751 add to h space information and xt information.\n",
      "Timestep 750 add to h space information and xt information.\n",
      "Timestep 749 add to h space information and xt information.\n",
      "Timestep 748 add to h space information and xt information.\n",
      "Timestep 747 add to h space information and xt information.\n",
      "Timestep 746 add to h space information and xt information.\n",
      "Timestep 745 add to h space information and xt information.\n",
      "Timestep 744 add to h space information and xt information.\n",
      "Timestep 743 add to h space information and xt information.\n",
      "Timestep 742 add to h space information and xt information.\n",
      "Timestep 741 add to h space information and xt information.\n",
      "Timestep 740 add to h space information and xt information.\n",
      "Timestep 739 add to h space information and xt information.\n",
      "Timestep 738 add to h space information and xt information.\n",
      "Timestep 737 add to h space information and xt information.\n",
      "Timestep 736 add to h space information and xt information.\n",
      "Timestep 735 add to h space information and xt information.\n",
      "Timestep 734 add to h space information and xt information.\n",
      "Timestep 733 add to h space information and xt information.\n",
      "Timestep 732 add to h space information and xt information.\n",
      "Timestep 731 add to h space information and xt information.\n",
      "Timestep 730 add to h space information and xt information.\n",
      "Timestep 729 add to h space information and xt information.\n",
      "Timestep 728 add to h space information and xt information.\n",
      "Timestep 727 add to h space information and xt information.\n",
      "Timestep 726 add to h space information and xt information.\n",
      "Timestep 725 add to h space information and xt information.\n",
      "Timestep 724 add to h space information and xt information.\n",
      "Timestep 723 add to h space information and xt information.\n",
      "Timestep 722 add to h space information and xt information.\n",
      "Timestep 721 add to h space information and xt information.\n",
      "Timestep 720 add to h space information and xt information.\n",
      "Timestep 719 add to h space information and xt information.\n",
      "Timestep 718 add to h space information and xt information.\n",
      "Timestep 717 add to h space information and xt information.\n",
      "Timestep 716 add to h space information and xt information.\n",
      "Timestep 715 add to h space information and xt information.\n",
      "Timestep 714 add to h space information and xt information.\n",
      "Timestep 713 add to h space information and xt information.\n",
      "Timestep 712 add to h space information and xt information.\n",
      "Timestep 711 add to h space information and xt information.\n",
      "Timestep 710 add to h space information and xt information.\n",
      "Timestep 709 add to h space information and xt information.\n",
      "Timestep 708 add to h space information and xt information.\n",
      "Timestep 707 add to h space information and xt information.\n",
      "Timestep 706 add to h space information and xt information.\n",
      "Timestep 705 add to h space information and xt information.\n",
      "Timestep 704 add to h space information and xt information.\n",
      "Timestep 703 add to h space information and xt information.\n",
      "Timestep 702 add to h space information and xt information.\n",
      "Timestep 701 add to h space information and xt information.\n",
      "Timestep 700 add to h space information and xt information.\n",
      "Timestep 699 add to h space information and xt information.\n",
      "Timestep 698 add to h space information and xt information.\n",
      "Timestep 697 add to h space information and xt information.\n",
      "Timestep 696 add to h space information and xt information.\n",
      "Timestep 695 add to h space information and xt information.\n",
      "Timestep 694 add to h space information and xt information.\n",
      "Timestep 693 add to h space information and xt information.\n",
      "Timestep 692 add to h space information and xt information.\n",
      "Timestep 691 add to h space information and xt information.\n",
      "Timestep 690 add to h space information and xt information.\n",
      "Timestep 689 add to h space information and xt information.\n",
      "Timestep 688 add to h space information and xt information.\n",
      "Timestep 687 add to h space information and xt information.\n",
      "Timestep 686 add to h space information and xt information.\n",
      "Timestep 685 add to h space information and xt information.\n",
      "Timestep 684 add to h space information and xt information.\n",
      "Timestep 683 add to h space information and xt information.\n",
      "Timestep 682 add to h space information and xt information.\n",
      "Timestep 681 add to h space information and xt information.\n",
      "Timestep 680 add to h space information and xt information.\n",
      "Timestep 679 add to h space information and xt information.\n",
      "Timestep 678 add to h space information and xt information.\n",
      "Timestep 677 add to h space information and xt information.\n",
      "Timestep 676 add to h space information and xt information.\n",
      "Timestep 675 add to h space information and xt information.\n",
      "Timestep 674 add to h space information and xt information.\n",
      "Timestep 673 add to h space information and xt information.\n",
      "Timestep 672 add to h space information and xt information.\n",
      "Timestep 671 add to h space information and xt information.\n",
      "Timestep 670 add to h space information and xt information.\n",
      "Timestep 669 add to h space information and xt information.\n",
      "Timestep 668 add to h space information and xt information.\n",
      "Timestep 667 add to h space information and xt information.\n",
      "Timestep 666 add to h space information and xt information.\n",
      "Timestep 665 add to h space information and xt information.\n",
      "Timestep 664 add to h space information and xt information.\n",
      "Timestep 663 add to h space information and xt information.\n",
      "Timestep 662 add to h space information and xt information.\n",
      "Timestep 661 add to h space information and xt information.\n",
      "Timestep 660 add to h space information and xt information.\n",
      "Timestep 659 add to h space information and xt information.\n",
      "Timestep 658 add to h space information and xt information.\n",
      "Timestep 657 add to h space information and xt information.\n",
      "Timestep 656 add to h space information and xt information.\n",
      "Timestep 655 add to h space information and xt information.\n",
      "Timestep 654 add to h space information and xt information.\n",
      "Timestep 653 add to h space information and xt information.\n",
      "Timestep 652 add to h space information and xt information.\n",
      "Timestep 651 add to h space information and xt information.\n",
      "Timestep 650 add to h space information and xt information.\n",
      "Timestep 649 add to h space information and xt information.\n",
      "Timestep 648 add to h space information and xt information.\n",
      "Timestep 647 add to h space information and xt information.\n",
      "Timestep 646 add to h space information and xt information.\n",
      "Timestep 645 add to h space information and xt information.\n",
      "Timestep 644 add to h space information and xt information.\n",
      "Timestep 643 add to h space information and xt information.\n",
      "Timestep 642 add to h space information and xt information.\n",
      "Timestep 641 add to h space information and xt information.\n",
      "Timestep 640 add to h space information and xt information.\n",
      "Timestep 639 add to h space information and xt information.\n",
      "Timestep 638 add to h space information and xt information.\n",
      "Timestep 637 add to h space information and xt information.\n",
      "Timestep 636 add to h space information and xt information.\n",
      "Timestep 635 add to h space information and xt information.\n",
      "Timestep 634 add to h space information and xt information.\n",
      "Timestep 633 add to h space information and xt information.\n",
      "Timestep 632 add to h space information and xt information.\n",
      "Timestep 631 add to h space information and xt information.\n",
      "Timestep 630 add to h space information and xt information.\n",
      "Timestep 629 add to h space information and xt information.\n",
      "Timestep 628 add to h space information and xt information.\n",
      "Timestep 627 add to h space information and xt information.\n",
      "Timestep 626 add to h space information and xt information.\n",
      "Timestep 625 add to h space information and xt information.\n",
      "Timestep 624 add to h space information and xt information.\n",
      "Timestep 623 add to h space information and xt information.\n",
      "Timestep 622 add to h space information and xt information.\n",
      "Timestep 621 add to h space information and xt information.\n",
      "Timestep 620 add to h space information and xt information.\n",
      "Timestep 619 add to h space information and xt information.\n",
      "Timestep 618 add to h space information and xt information.\n",
      "Timestep 617 add to h space information and xt information.\n",
      "Timestep 616 add to h space information and xt information.\n",
      "Timestep 615 add to h space information and xt information.\n",
      "Timestep 614 add to h space information and xt information.\n",
      "Timestep 613 add to h space information and xt information.\n",
      "Timestep 612 add to h space information and xt information.\n",
      "Timestep 611 add to h space information and xt information.\n",
      "Timestep 610 add to h space information and xt information.\n",
      "Timestep 609 add to h space information and xt information.\n",
      "Timestep 608 add to h space information and xt information.\n",
      "Timestep 607 add to h space information and xt information.\n",
      "Timestep 606 add to h space information and xt information.\n",
      "Timestep 605 add to h space information and xt information.\n",
      "Timestep 604 add to h space information and xt information.\n",
      "Timestep 603 add to h space information and xt information.\n",
      "Timestep 602 add to h space information and xt information.\n",
      "Timestep 601 add to h space information and xt information.\n",
      "Timestep 600 add to h space information and xt information.\n",
      "Timestep 599 add to h space information and xt information.\n",
      "Timestep 598 add to h space information and xt information.\n",
      "Timestep 597 add to h space information and xt information.\n",
      "Timestep 596 add to h space information and xt information.\n",
      "Timestep 595 add to h space information and xt information.\n",
      "Timestep 594 add to h space information and xt information.\n",
      "Timestep 593 add to h space information and xt information.\n",
      "Timestep 592 add to h space information and xt information.\n",
      "Timestep 591 add to h space information and xt information.\n",
      "Timestep 590 add to h space information and xt information.\n",
      "Timestep 589 add to h space information and xt information.\n",
      "Timestep 588 add to h space information and xt information.\n",
      "Timestep 587 add to h space information and xt information.\n",
      "Timestep 586 add to h space information and xt information.\n",
      "Timestep 585 add to h space information and xt information.\n",
      "Timestep 584 add to h space information and xt information.\n",
      "Timestep 583 add to h space information and xt information.\n",
      "Timestep 582 add to h space information and xt information.\n",
      "Timestep 581 add to h space information and xt information.\n",
      "Timestep 580 add to h space information and xt information.\n",
      "Timestep 579 add to h space information and xt information.\n",
      "Timestep 578 add to h space information and xt information.\n",
      "Timestep 577 add to h space information and xt information.\n",
      "Timestep 576 add to h space information and xt information.\n",
      "Timestep 575 add to h space information and xt information.\n",
      "Timestep 574 add to h space information and xt information.\n",
      "Timestep 573 add to h space information and xt information.\n",
      "Timestep 572 add to h space information and xt information.\n",
      "Timestep 571 add to h space information and xt information.\n",
      "Timestep 570 add to h space information and xt information.\n",
      "Timestep 569 add to h space information and xt information.\n",
      "Timestep 568 add to h space information and xt information.\n",
      "Timestep 567 add to h space information and xt information.\n",
      "Timestep 566 add to h space information and xt information.\n",
      "Timestep 565 add to h space information and xt information.\n",
      "Timestep 564 add to h space information and xt information.\n",
      "Timestep 563 add to h space information and xt information.\n",
      "Timestep 562 add to h space information and xt information.\n",
      "Timestep 561 add to h space information and xt information.\n",
      "Timestep 560 add to h space information and xt information.\n",
      "Timestep 559 add to h space information and xt information.\n",
      "Timestep 558 add to h space information and xt information.\n",
      "Timestep 557 add to h space information and xt information.\n",
      "Timestep 556 add to h space information and xt information.\n",
      "Timestep 555 add to h space information and xt information.\n",
      "Timestep 554 add to h space information and xt information.\n",
      "Timestep 553 add to h space information and xt information.\n",
      "Timestep 552 add to h space information and xt information.\n",
      "Timestep 551 add to h space information and xt information.\n",
      "Timestep 550 add to h space information and xt information.\n",
      "Timestep 549 add to h space information and xt information.\n",
      "Timestep 548 add to h space information and xt information.\n",
      "Timestep 547 add to h space information and xt information.\n",
      "Timestep 546 add to h space information and xt information.\n",
      "Timestep 545 add to h space information and xt information.\n",
      "Timestep 544 add to h space information and xt information.\n",
      "Timestep 543 add to h space information and xt information.\n",
      "Timestep 542 add to h space information and xt information.\n",
      "Timestep 541 add to h space information and xt information.\n",
      "Timestep 540 add to h space information and xt information.\n",
      "Timestep 539 add to h space information and xt information.\n",
      "Timestep 538 add to h space information and xt information.\n",
      "Timestep 537 add to h space information and xt information.\n",
      "Timestep 536 add to h space information and xt information.\n",
      "Timestep 535 add to h space information and xt information.\n",
      "Timestep 534 add to h space information and xt information.\n",
      "Timestep 533 add to h space information and xt information.\n",
      "Timestep 532 add to h space information and xt information.\n",
      "Timestep 531 add to h space information and xt information.\n",
      "Timestep 530 add to h space information and xt information.\n",
      "Timestep 529 add to h space information and xt information.\n",
      "Timestep 528 add to h space information and xt information.\n",
      "Timestep 527 add to h space information and xt information.\n",
      "Timestep 526 add to h space information and xt information.\n",
      "Timestep 525 add to h space information and xt information.\n",
      "Timestep 524 add to h space information and xt information.\n",
      "Timestep 523 add to h space information and xt information.\n",
      "Timestep 522 add to h space information and xt information.\n",
      "Timestep 521 add to h space information and xt information.\n",
      "Timestep 520 add to h space information and xt information.\n",
      "Timestep 519 add to h space information and xt information.\n",
      "Timestep 518 add to h space information and xt information.\n",
      "Timestep 517 add to h space information and xt information.\n",
      "Timestep 516 add to h space information and xt information.\n",
      "Timestep 515 add to h space information and xt information.\n",
      "Timestep 514 add to h space information and xt information.\n",
      "Timestep 513 add to h space information and xt information.\n",
      "Timestep 512 add to h space information and xt information.\n",
      "Timestep 511 add to h space information and xt information.\n",
      "Timestep 510 add to h space information and xt information.\n",
      "Timestep 509 add to h space information and xt information.\n",
      "Timestep 508 add to h space information and xt information.\n",
      "Timestep 507 add to h space information and xt information.\n",
      "Timestep 506 add to h space information and xt information.\n",
      "Timestep 505 add to h space information and xt information.\n",
      "Timestep 504 add to h space information and xt information.\n",
      "Timestep 503 add to h space information and xt information.\n",
      "Timestep 502 add to h space information and xt information.\n",
      "Timestep 501 add to h space information and xt information.\n",
      "Timestep 500 add to h space information and xt information.\n",
      "Timestep 499 add to h space information and xt information.\n",
      "Timestep 498 add to h space information and xt information.\n",
      "Timestep 497 add to h space information and xt information.\n",
      "Timestep 496 add to h space information and xt information.\n",
      "Timestep 495 add to h space information and xt information.\n",
      "Timestep 494 add to h space information and xt information.\n",
      "Timestep 493 add to h space information and xt information.\n",
      "Timestep 492 add to h space information and xt information.\n",
      "Timestep 491 add to h space information and xt information.\n",
      "Timestep 490 add to h space information and xt information.\n",
      "Timestep 489 add to h space information and xt information.\n",
      "Timestep 488 add to h space information and xt information.\n",
      "Timestep 487 add to h space information and xt information.\n",
      "Timestep 486 add to h space information and xt information.\n",
      "Timestep 485 add to h space information and xt information.\n",
      "Timestep 484 add to h space information and xt information.\n",
      "Timestep 483 add to h space information and xt information.\n",
      "Timestep 482 add to h space information and xt information.\n",
      "Timestep 481 add to h space information and xt information.\n",
      "Timestep 480 add to h space information and xt information.\n",
      "Timestep 479 add to h space information and xt information.\n",
      "Timestep 478 add to h space information and xt information.\n",
      "Timestep 477 add to h space information and xt information.\n",
      "Timestep 476 add to h space information and xt information.\n",
      "Timestep 475 add to h space information and xt information.\n",
      "Timestep 474 add to h space information and xt information.\n",
      "Timestep 473 add to h space information and xt information.\n",
      "Timestep 472 add to h space information and xt information.\n",
      "Timestep 471 add to h space information and xt information.\n",
      "Timestep 470 add to h space information and xt information.\n",
      "Timestep 469 add to h space information and xt information.\n",
      "Timestep 468 add to h space information and xt information.\n",
      "Timestep 467 add to h space information and xt information.\n",
      "Timestep 466 add to h space information and xt information.\n",
      "Timestep 465 add to h space information and xt information.\n",
      "Timestep 464 add to h space information and xt information.\n",
      "Timestep 463 add to h space information and xt information.\n",
      "Timestep 462 add to h space information and xt information.\n",
      "Timestep 461 add to h space information and xt information.\n",
      "Timestep 460 add to h space information and xt information.\n",
      "Timestep 459 add to h space information and xt information.\n",
      "Timestep 458 add to h space information and xt information.\n",
      "Timestep 457 add to h space information and xt information.\n",
      "Timestep 456 add to h space information and xt information.\n",
      "Timestep 455 add to h space information and xt information.\n",
      "Timestep 454 add to h space information and xt information.\n",
      "Timestep 453 add to h space information and xt information.\n",
      "Timestep 452 add to h space information and xt information.\n",
      "Timestep 451 add to h space information and xt information.\n",
      "Timestep 450 add to h space information and xt information.\n",
      "Timestep 449 add to h space information and xt information.\n",
      "Timestep 448 add to h space information and xt information.\n",
      "Timestep 447 add to h space information and xt information.\n",
      "Timestep 446 add to h space information and xt information.\n",
      "Timestep 445 add to h space information and xt information.\n",
      "Timestep 444 add to h space information and xt information.\n",
      "Timestep 443 add to h space information and xt information.\n",
      "Timestep 442 add to h space information and xt information.\n",
      "Timestep 441 add to h space information and xt information.\n",
      "Timestep 440 add to h space information and xt information.\n",
      "Timestep 439 add to h space information and xt information.\n",
      "Timestep 438 add to h space information and xt information.\n",
      "Timestep 437 add to h space information and xt information.\n",
      "Timestep 436 add to h space information and xt information.\n",
      "Timestep 435 add to h space information and xt information.\n",
      "Timestep 434 add to h space information and xt information.\n",
      "Timestep 433 add to h space information and xt information.\n",
      "Timestep 432 add to h space information and xt information.\n",
      "Timestep 431 add to h space information and xt information.\n",
      "Timestep 430 add to h space information and xt information.\n",
      "Timestep 429 add to h space information and xt information.\n",
      "Timestep 428 add to h space information and xt information.\n",
      "Timestep 427 add to h space information and xt information.\n",
      "Timestep 426 add to h space information and xt information.\n",
      "Timestep 425 add to h space information and xt information.\n",
      "Timestep 424 add to h space information and xt information.\n",
      "Timestep 423 add to h space information and xt information.\n",
      "Timestep 422 add to h space information and xt information.\n",
      "Timestep 421 add to h space information and xt information.\n",
      "Timestep 420 add to h space information and xt information.\n",
      "Timestep 419 add to h space information and xt information.\n",
      "Timestep 418 add to h space information and xt information.\n",
      "Timestep 417 add to h space information and xt information.\n",
      "Timestep 416 add to h space information and xt information.\n",
      "Timestep 415 add to h space information and xt information.\n",
      "Timestep 414 add to h space information and xt information.\n",
      "Timestep 413 add to h space information and xt information.\n",
      "Timestep 412 add to h space information and xt information.\n",
      "Timestep 411 add to h space information and xt information.\n",
      "Timestep 410 add to h space information and xt information.\n",
      "Timestep 409 add to h space information and xt information.\n",
      "Timestep 408 add to h space information and xt information.\n",
      "Timestep 407 add to h space information and xt information.\n",
      "Timestep 406 add to h space information and xt information.\n",
      "Timestep 405 add to h space information and xt information.\n",
      "Timestep 404 add to h space information and xt information.\n",
      "Timestep 403 add to h space information and xt information.\n",
      "Timestep 402 add to h space information and xt information.\n",
      "Timestep 401 add to h space information and xt information.\n",
      "Timestep 400 add to h space information and xt information.\n",
      "Timestep 399 add to h space information and xt information.\n",
      "Timestep 398 add to h space information and xt information.\n",
      "Timestep 397 add to h space information and xt information.\n",
      "Timestep 396 add to h space information and xt information.\n",
      "Timestep 395 add to h space information and xt information.\n",
      "Timestep 394 add to h space information and xt information.\n",
      "Timestep 393 add to h space information and xt information.\n",
      "Timestep 392 add to h space information and xt information.\n",
      "Timestep 391 add to h space information and xt information.\n",
      "Timestep 390 add to h space information and xt information.\n",
      "Timestep 389 add to h space information and xt information.\n",
      "Timestep 388 add to h space information and xt information.\n",
      "Timestep 387 add to h space information and xt information.\n",
      "Timestep 386 add to h space information and xt information.\n",
      "Timestep 385 add to h space information and xt information.\n",
      "Timestep 384 add to h space information and xt information.\n",
      "Timestep 383 add to h space information and xt information.\n",
      "Timestep 382 add to h space information and xt information.\n",
      "Timestep 381 add to h space information and xt information.\n",
      "Timestep 380 add to h space information and xt information.\n",
      "Timestep 379 add to h space information and xt information.\n",
      "Timestep 378 add to h space information and xt information.\n",
      "Timestep 377 add to h space information and xt information.\n",
      "Timestep 376 add to h space information and xt information.\n",
      "Timestep 375 add to h space information and xt information.\n",
      "Timestep 374 add to h space information and xt information.\n",
      "Timestep 373 add to h space information and xt information.\n",
      "Timestep 372 add to h space information and xt information.\n",
      "Timestep 371 add to h space information and xt information.\n",
      "Timestep 370 add to h space information and xt information.\n",
      "Timestep 369 add to h space information and xt information.\n",
      "Timestep 368 add to h space information and xt information.\n",
      "Timestep 367 add to h space information and xt information.\n",
      "Timestep 366 add to h space information and xt information.\n",
      "Timestep 365 add to h space information and xt information.\n",
      "Timestep 364 add to h space information and xt information.\n",
      "Timestep 363 add to h space information and xt information.\n",
      "Timestep 362 add to h space information and xt information.\n",
      "Timestep 361 add to h space information and xt information.\n",
      "Timestep 360 add to h space information and xt information.\n",
      "Timestep 359 add to h space information and xt information.\n",
      "Timestep 358 add to h space information and xt information.\n",
      "Timestep 357 add to h space information and xt information.\n",
      "Timestep 356 add to h space information and xt information.\n",
      "Timestep 355 add to h space information and xt information.\n",
      "Timestep 354 add to h space information and xt information.\n",
      "Timestep 353 add to h space information and xt information.\n",
      "Timestep 352 add to h space information and xt information.\n",
      "Timestep 351 add to h space information and xt information.\n",
      "Timestep 350 add to h space information and xt information.\n",
      "Timestep 349 add to h space information and xt information.\n",
      "Timestep 348 add to h space information and xt information.\n",
      "Timestep 347 add to h space information and xt information.\n",
      "Timestep 346 add to h space information and xt information.\n",
      "Timestep 345 add to h space information and xt information.\n",
      "Timestep 344 add to h space information and xt information.\n",
      "Timestep 343 add to h space information and xt information.\n",
      "Timestep 342 add to h space information and xt information.\n",
      "Timestep 341 add to h space information and xt information.\n",
      "Timestep 340 add to h space information and xt information.\n",
      "Timestep 339 add to h space information and xt information.\n",
      "Timestep 338 add to h space information and xt information.\n",
      "Timestep 337 add to h space information and xt information.\n",
      "Timestep 336 add to h space information and xt information.\n",
      "Timestep 335 add to h space information and xt information.\n",
      "Timestep 334 add to h space information and xt information.\n",
      "Timestep 333 add to h space information and xt information.\n",
      "Timestep 332 add to h space information and xt information.\n",
      "Timestep 331 add to h space information and xt information.\n",
      "Timestep 330 add to h space information and xt information.\n",
      "Timestep 329 add to h space information and xt information.\n",
      "Timestep 328 add to h space information and xt information.\n",
      "Timestep 327 add to h space information and xt information.\n",
      "Timestep 326 add to h space information and xt information.\n",
      "Timestep 325 add to h space information and xt information.\n",
      "Timestep 324 add to h space information and xt information.\n",
      "Timestep 323 add to h space information and xt information.\n",
      "Timestep 322 add to h space information and xt information.\n",
      "Timestep 321 add to h space information and xt information.\n",
      "Timestep 320 add to h space information and xt information.\n",
      "Timestep 319 add to h space information and xt information.\n",
      "Timestep 318 add to h space information and xt information.\n",
      "Timestep 317 add to h space information and xt information.\n",
      "Timestep 316 add to h space information and xt information.\n",
      "Timestep 315 add to h space information and xt information.\n",
      "Timestep 314 add to h space information and xt information.\n",
      "Timestep 313 add to h space information and xt information.\n",
      "Timestep 312 add to h space information and xt information.\n",
      "Timestep 311 add to h space information and xt information.\n",
      "Timestep 310 add to h space information and xt information.\n",
      "Timestep 309 add to h space information and xt information.\n",
      "Timestep 308 add to h space information and xt information.\n",
      "Timestep 307 add to h space information and xt information.\n",
      "Timestep 306 add to h space information and xt information.\n",
      "Timestep 305 add to h space information and xt information.\n",
      "Timestep 304 add to h space information and xt information.\n",
      "Timestep 303 add to h space information and xt information.\n",
      "Timestep 302 add to h space information and xt information.\n",
      "Timestep 301 add to h space information and xt information.\n",
      "Timestep 300 add to h space information and xt information.\n",
      "Timestep 299 add to h space information and xt information.\n",
      "Timestep 298 add to h space information and xt information.\n",
      "Timestep 297 add to h space information and xt information.\n",
      "Timestep 296 add to h space information and xt information.\n",
      "Timestep 295 add to h space information and xt information.\n",
      "Timestep 294 add to h space information and xt information.\n",
      "Timestep 293 add to h space information and xt information.\n",
      "Timestep 292 add to h space information and xt information.\n",
      "Timestep 291 add to h space information and xt information.\n",
      "Timestep 290 add to h space information and xt information.\n",
      "Timestep 289 add to h space information and xt information.\n",
      "Timestep 288 add to h space information and xt information.\n",
      "Timestep 287 add to h space information and xt information.\n",
      "Timestep 286 add to h space information and xt information.\n",
      "Timestep 285 add to h space information and xt information.\n",
      "Timestep 284 add to h space information and xt information.\n",
      "Timestep 283 add to h space information and xt information.\n",
      "Timestep 282 add to h space information and xt information.\n",
      "Timestep 281 add to h space information and xt information.\n",
      "Timestep 280 add to h space information and xt information.\n",
      "Timestep 279 add to h space information and xt information.\n",
      "Timestep 278 add to h space information and xt information.\n",
      "Timestep 277 add to h space information and xt information.\n",
      "Timestep 276 add to h space information and xt information.\n",
      "Timestep 275 add to h space information and xt information.\n",
      "Timestep 274 add to h space information and xt information.\n",
      "Timestep 273 add to h space information and xt information.\n",
      "Timestep 272 add to h space information and xt information.\n",
      "Timestep 271 add to h space information and xt information.\n",
      "Timestep 270 add to h space information and xt information.\n",
      "Timestep 269 add to h space information and xt information.\n",
      "Timestep 268 add to h space information and xt information.\n",
      "Timestep 267 add to h space information and xt information.\n",
      "Timestep 266 add to h space information and xt information.\n",
      "Timestep 265 add to h space information and xt information.\n",
      "Timestep 264 add to h space information and xt information.\n",
      "Timestep 263 add to h space information and xt information.\n",
      "Timestep 262 add to h space information and xt information.\n",
      "Timestep 261 add to h space information and xt information.\n",
      "Timestep 260 add to h space information and xt information.\n",
      "Timestep 259 add to h space information and xt information.\n",
      "Timestep 258 add to h space information and xt information.\n",
      "Timestep 257 add to h space information and xt information.\n",
      "Timestep 256 add to h space information and xt information.\n",
      "Timestep 255 add to h space information and xt information.\n",
      "Timestep 254 add to h space information and xt information.\n",
      "Timestep 253 add to h space information and xt information.\n",
      "Timestep 252 add to h space information and xt information.\n",
      "Timestep 251 add to h space information and xt information.\n",
      "Timestep 250 add to h space information and xt information.\n",
      "Timestep 249 add to h space information and xt information.\n",
      "Timestep 248 add to h space information and xt information.\n",
      "Timestep 247 add to h space information and xt information.\n",
      "Timestep 246 add to h space information and xt information.\n",
      "Timestep 245 add to h space information and xt information.\n",
      "Timestep 244 add to h space information and xt information.\n",
      "Timestep 243 add to h space information and xt information.\n",
      "Timestep 242 add to h space information and xt information.\n",
      "Timestep 241 add to h space information and xt information.\n",
      "Timestep 240 add to h space information and xt information.\n",
      "Timestep 239 add to h space information and xt information.\n",
      "Timestep 238 add to h space information and xt information.\n",
      "Timestep 237 add to h space information and xt information.\n",
      "Timestep 236 add to h space information and xt information.\n",
      "Timestep 235 add to h space information and xt information.\n",
      "Timestep 234 add to h space information and xt information.\n",
      "Timestep 233 add to h space information and xt information.\n",
      "Timestep 232 add to h space information and xt information.\n",
      "Timestep 231 add to h space information and xt information.\n",
      "Timestep 230 add to h space information and xt information.\n",
      "Timestep 229 add to h space information and xt information.\n",
      "Timestep 228 add to h space information and xt information.\n",
      "Timestep 227 add to h space information and xt information.\n",
      "Timestep 226 add to h space information and xt information.\n",
      "Timestep 225 add to h space information and xt information.\n",
      "Timestep 224 add to h space information and xt information.\n",
      "Timestep 223 add to h space information and xt information.\n",
      "Timestep 222 add to h space information and xt information.\n",
      "Timestep 221 add to h space information and xt information.\n",
      "Timestep 220 add to h space information and xt information.\n",
      "Timestep 219 add to h space information and xt information.\n",
      "Timestep 218 add to h space information and xt information.\n",
      "Timestep 217 add to h space information and xt information.\n",
      "Timestep 216 add to h space information and xt information.\n",
      "Timestep 215 add to h space information and xt information.\n",
      "Timestep 214 add to h space information and xt information.\n",
      "Timestep 213 add to h space information and xt information.\n",
      "Timestep 212 add to h space information and xt information.\n",
      "Timestep 211 add to h space information and xt information.\n",
      "Timestep 210 add to h space information and xt information.\n",
      "Timestep 209 add to h space information and xt information.\n",
      "Timestep 208 add to h space information and xt information.\n",
      "Timestep 207 add to h space information and xt information.\n",
      "Timestep 206 add to h space information and xt information.\n",
      "Timestep 205 add to h space information and xt information.\n",
      "Timestep 204 add to h space information and xt information.\n",
      "Timestep 203 add to h space information and xt information.\n",
      "Timestep 202 add to h space information and xt information.\n",
      "Timestep 201 add to h space information and xt information.\n",
      "Timestep 200 add to h space information and xt information.\n",
      "Timestep 199 add to h space information and xt information.\n",
      "Timestep 198 add to h space information and xt information.\n",
      "Timestep 197 add to h space information and xt information.\n",
      "Timestep 196 add to h space information and xt information.\n",
      "Timestep 195 add to h space information and xt information.\n",
      "Timestep 194 add to h space information and xt information.\n",
      "Timestep 193 add to h space information and xt information.\n",
      "Timestep 192 add to h space information and xt information.\n",
      "Timestep 191 add to h space information and xt information.\n",
      "Timestep 190 add to h space information and xt information.\n",
      "Timestep 189 add to h space information and xt information.\n",
      "Timestep 188 add to h space information and xt information.\n",
      "Timestep 187 add to h space information and xt information.\n",
      "Timestep 186 add to h space information and xt information.\n",
      "Timestep 185 add to h space information and xt information.\n",
      "Timestep 184 add to h space information and xt information.\n",
      "Timestep 183 add to h space information and xt information.\n",
      "Timestep 182 add to h space information and xt information.\n",
      "Timestep 181 add to h space information and xt information.\n",
      "Timestep 180 add to h space information and xt information.\n",
      "Timestep 179 add to h space information and xt information.\n",
      "Timestep 178 add to h space information and xt information.\n",
      "Timestep 177 add to h space information and xt information.\n",
      "Timestep 176 add to h space information and xt information.\n",
      "Timestep 175 add to h space information and xt information.\n",
      "Timestep 174 add to h space information and xt information.\n",
      "Timestep 173 add to h space information and xt information.\n",
      "Timestep 172 add to h space information and xt information.\n",
      "Timestep 171 add to h space information and xt information.\n",
      "Timestep 170 add to h space information and xt information.\n",
      "Timestep 169 add to h space information and xt information.\n",
      "Timestep 168 add to h space information and xt information.\n",
      "Timestep 167 add to h space information and xt information.\n",
      "Timestep 166 add to h space information and xt information.\n",
      "Timestep 165 add to h space information and xt information.\n",
      "Timestep 164 add to h space information and xt information.\n",
      "Timestep 163 add to h space information and xt information.\n",
      "Timestep 162 add to h space information and xt information.\n",
      "Timestep 161 add to h space information and xt information.\n",
      "Timestep 160 add to h space information and xt information.\n",
      "Timestep 159 add to h space information and xt information.\n",
      "Timestep 158 add to h space information and xt information.\n",
      "Timestep 157 add to h space information and xt information.\n",
      "Timestep 156 add to h space information and xt information.\n",
      "Timestep 155 add to h space information and xt information.\n",
      "Timestep 154 add to h space information and xt information.\n",
      "Timestep 153 add to h space information and xt information.\n",
      "Timestep 152 add to h space information and xt information.\n",
      "Timestep 151 add to h space information and xt information.\n",
      "Timestep 150 add to h space information and xt information.\n",
      "Timestep 149 add to h space information and xt information.\n",
      "Timestep 148 add to h space information and xt information.\n",
      "Timestep 147 add to h space information and xt information.\n",
      "Timestep 146 add to h space information and xt information.\n",
      "Timestep 145 add to h space information and xt information.\n",
      "Timestep 144 add to h space information and xt information.\n",
      "Timestep 143 add to h space information and xt information.\n",
      "Timestep 142 add to h space information and xt information.\n",
      "Timestep 141 add to h space information and xt information.\n",
      "Timestep 140 add to h space information and xt information.\n",
      "Timestep 139 add to h space information and xt information.\n",
      "Timestep 138 add to h space information and xt information.\n",
      "Timestep 137 add to h space information and xt information.\n",
      "Timestep 136 add to h space information and xt information.\n",
      "Timestep 135 add to h space information and xt information.\n",
      "Timestep 134 add to h space information and xt information.\n",
      "Timestep 133 add to h space information and xt information.\n",
      "Timestep 132 add to h space information and xt information.\n",
      "Timestep 131 add to h space information and xt information.\n",
      "Timestep 130 add to h space information and xt information.\n",
      "Timestep 129 add to h space information and xt information.\n",
      "Timestep 128 add to h space information and xt information.\n",
      "Timestep 127 add to h space information and xt information.\n",
      "Timestep 126 add to h space information and xt information.\n",
      "Timestep 125 add to h space information and xt information.\n",
      "Timestep 124 add to h space information and xt information.\n",
      "Timestep 123 add to h space information and xt information.\n",
      "Timestep 122 add to h space information and xt information.\n",
      "Timestep 121 add to h space information and xt information.\n",
      "Timestep 120 add to h space information and xt information.\n",
      "Timestep 119 add to h space information and xt information.\n",
      "Timestep 118 add to h space information and xt information.\n",
      "Timestep 117 add to h space information and xt information.\n",
      "Timestep 116 add to h space information and xt information.\n",
      "Timestep 115 add to h space information and xt information.\n",
      "Timestep 114 add to h space information and xt information.\n",
      "Timestep 113 add to h space information and xt information.\n",
      "Timestep 112 add to h space information and xt information.\n",
      "Timestep 111 add to h space information and xt information.\n",
      "Timestep 110 add to h space information and xt information.\n",
      "Timestep 109 add to h space information and xt information.\n",
      "Timestep 108 add to h space information and xt information.\n",
      "Timestep 107 add to h space information and xt information.\n",
      "Timestep 106 add to h space information and xt information.\n",
      "Timestep 105 add to h space information and xt information.\n",
      "Timestep 104 add to h space information and xt information.\n",
      "Timestep 103 add to h space information and xt information.\n",
      "Timestep 102 add to h space information and xt information.\n",
      "Timestep 101 add to h space information and xt information.\n",
      "Timestep 100 add to h space information and xt information.\n",
      "Timestep 99 add to h space information and xt information.\n",
      "Timestep 98 add to h space information and xt information.\n",
      "Timestep 97 add to h space information and xt information.\n",
      "Timestep 96 add to h space information and xt information.\n",
      "Timestep 95 add to h space information and xt information.\n",
      "Timestep 94 add to h space information and xt information.\n",
      "Timestep 93 add to h space information and xt information.\n",
      "Timestep 92 add to h space information and xt information.\n",
      "Timestep 91 add to h space information and xt information.\n",
      "Timestep 90 add to h space information and xt information.\n",
      "Timestep 89 add to h space information and xt information.\n",
      "Timestep 88 add to h space information and xt information.\n",
      "Timestep 87 add to h space information and xt information.\n",
      "Timestep 86 add to h space information and xt information.\n",
      "Timestep 85 add to h space information and xt information.\n",
      "Timestep 84 add to h space information and xt information.\n",
      "Timestep 83 add to h space information and xt information.\n",
      "Timestep 82 add to h space information and xt information.\n",
      "Timestep 81 add to h space information and xt information.\n",
      "Timestep 80 add to h space information and xt information.\n",
      "Timestep 79 add to h space information and xt information.\n",
      "Timestep 78 add to h space information and xt information.\n",
      "Timestep 77 add to h space information and xt information.\n",
      "Timestep 76 add to h space information and xt information.\n",
      "Timestep 75 add to h space information and xt information.\n",
      "Timestep 74 add to h space information and xt information.\n",
      "Timestep 73 add to h space information and xt information.\n",
      "Timestep 72 add to h space information and xt information.\n",
      "Timestep 71 add to h space information and xt information.\n",
      "Timestep 70 add to h space information and xt information.\n",
      "Timestep 69 add to h space information and xt information.\n",
      "Timestep 68 add to h space information and xt information.\n",
      "Timestep 67 add to h space information and xt information.\n",
      "Timestep 66 add to h space information and xt information.\n",
      "Timestep 65 add to h space information and xt information.\n",
      "Timestep 64 add to h space information and xt information.\n",
      "Timestep 63 add to h space information and xt information.\n",
      "Timestep 62 add to h space information and xt information.\n",
      "Timestep 61 add to h space information and xt information.\n",
      "Timestep 60 add to h space information and xt information.\n",
      "Timestep 59 add to h space information and xt information.\n",
      "Timestep 58 add to h space information and xt information.\n",
      "Timestep 57 add to h space information and xt information.\n",
      "Timestep 56 add to h space information and xt information.\n",
      "Timestep 55 add to h space information and xt information.\n",
      "Timestep 54 add to h space information and xt information.\n",
      "Timestep 53 add to h space information and xt information.\n",
      "Timestep 52 add to h space information and xt information.\n",
      "Timestep 51 add to h space information and xt information.\n",
      "Timestep 50 add to h space information and xt information.\n",
      "Timestep 49 add to h space information and xt information.\n",
      "Timestep 48 add to h space information and xt information.\n",
      "Timestep 47 add to h space information and xt information.\n",
      "Timestep 46 add to h space information and xt information.\n",
      "Timestep 45 add to h space information and xt information.\n",
      "Timestep 44 add to h space information and xt information.\n",
      "Timestep 43 add to h space information and xt information.\n",
      "Timestep 42 add to h space information and xt information.\n",
      "Timestep 41 add to h space information and xt information.\n",
      "Timestep 40 add to h space information and xt information.\n",
      "Timestep 39 add to h space information and xt information.\n",
      "Timestep 38 add to h space information and xt information.\n",
      "Timestep 37 add to h space information and xt information.\n",
      "Timestep 36 add to h space information and xt information.\n",
      "Timestep 35 add to h space information and xt information.\n",
      "Timestep 34 add to h space information and xt information.\n",
      "Timestep 33 add to h space information and xt information.\n",
      "Timestep 32 add to h space information and xt information.\n",
      "Timestep 31 add to h space information and xt information.\n",
      "Timestep 30 add to h space information and xt information.\n",
      "Timestep 29 add to h space information and xt information.\n",
      "Timestep 28 add to h space information and xt information.\n",
      "Timestep 27 add to h space information and xt information.\n",
      "Timestep 26 add to h space information and xt information.\n",
      "Timestep 25 add to h space information and xt information.\n",
      "Timestep 24 add to h space information and xt information.\n",
      "Timestep 23 add to h space information and xt information.\n",
      "Timestep 22 add to h space information and xt information.\n",
      "Timestep 21 add to h space information and xt information.\n",
      "Timestep 20 add to h space information and xt information.\n",
      "Timestep 19 add to h space information and xt information.\n",
      "Timestep 18 add to h space information and xt information.\n",
      "Timestep 17 add to h space information and xt information.\n",
      "Timestep 16 add to h space information and xt information.\n",
      "Timestep 15 add to h space information and xt information.\n",
      "Timestep 14 add to h space information and xt information.\n",
      "Timestep 13 add to h space information and xt information.\n",
      "Timestep 12 add to h space information and xt information.\n",
      "Timestep 11 add to h space information and xt information.\n",
      "Timestep 10 add to h space information and xt information.\n",
      "Timestep 9 add to h space information and xt information.\n",
      "Timestep 8 add to h space information and xt information.\n",
      "Timestep 7 add to h space information and xt information.\n",
      "Timestep 6 add to h space information and xt information.\n",
      "Timestep 5 add to h space information and xt information.\n",
      "Timestep 4 add to h space information and xt information.\n",
      "Timestep 3 add to h space information and xt information.\n",
      "Timestep 2 add to h space information and xt information.\n",
      "Timestep 1 add to h space information and xt information.\n",
      "Timestep 0 add to h space information and xt information.\n"
     ]
    }
   ],
   "source": [
    "args.load_different_model = True\n",
    "args.load_rd_training_checkpoint = 285\n",
    "modelConfig = set_config(args)\n",
    "with torch.no_grad():\n",
    "    device = torch.device(modelConfig[\"device\"])\n",
    "    model = UNet(T=modelConfig[\"T\"], ch=modelConfig[\"channel\"], ch_mult=modelConfig[\"channel_mult\"], attn=modelConfig[\"attn\"],\n",
    "                    num_res_blocks=modelConfig[\"num_res_blocks\"], dropout=0.)\n",
    "\n",
    "    \"\"\"Modify in different enviornment\"\"\"\n",
    "    ckpt = torch.load(os.path.join(\n",
    "        modelConfig[\"save_weight_dir\"], modelConfig[\"test_load_weight\"]), map_location=device)\n",
    "    model.load_state_dict(ckpt)\n",
    "    print(\"model load weight done.\")\n",
    "    model.eval()\n",
    "    sampler = GaussianDiffusionSampler(\n",
    "        model, modelConfig[\"beta_1\"], modelConfig[\"beta_T\"], modelConfig[\"T\"]).to(device)\n",
    "\n",
    "\n",
    "args.load_different_model = False\n",
    "\n",
    "\"\"\"\n",
    "Some bugs need to be fixed here :\n",
    "sampling time became longer after training process.\n",
    "after gc.collect() still doesn't work.\n",
    "\"\"\"\n",
    "with torch.no_grad():\n",
    "    model.eval()\n",
    "    noisyImage = torch.randn(\n",
    "    size=[model_config[\"batch_size\"], 3, 32, 32], device=\"cuda\")\n",
    "    saveNoisy = torch.clamp(noisyImage * 0.5 + 0.5, 0, 1)\n",
    "    sampledImgs = sampler(noisyImage)\n",
    "\n"
   ]
  },
  {
   "cell_type": "code",
   "execution_count": 5,
   "metadata": {},
   "outputs": [
    {
     "name": "stdout",
     "output_type": "stream",
     "text": [
      "torch.Size([80, 3, 32, 32])\n"
     ]
    }
   ],
   "source": [
    "#rd_model, rd_sampler, rd_trainer = model_init(args, model_config, rd=True)\n",
    "#fake = generate_sameple_img(args, model_config, rd_model, rd_sampler)\n",
    "\n",
    "\n",
    "\"\"\"\n",
    "with torch.no_grad():\n",
    "    model.eval()\n",
    "    noisyImage = torch.randn(\n",
    "    size=[model_config[\"batch_size\"], 3, 32, 32], device=\"cuda\")\n",
    "    saveNoisy = torch.clamp(noisyImage * 0.5 + 0.5, 0, 1)\n",
    "    sampledImgs = rd_sampler(noisyImage)\n",
    "\"\"\"\n",
    "fake = sampledImgs\n",
    "\n",
    "fid_dt_train = CUSTOM_DATASET(args, split=True)\n",
    "fid_train_dataset, _ = fid_dt_train.load_dataset(custom_trasform=True)\n",
    "\n",
    "dt_loader = DataLoader(fid_train_dataset, batch_size=fake.shape[0], shuffle=False)\n",
    "\n",
    "for dt, i in dt_loader:\n",
    "    print(dt.shape)\n",
    "    break\n",
    "\n",
    "real = dt\n",
    "fretchet_dist = calculate_fretchet(real,fake,InceptionV3_model) "
   ]
  },
  {
   "cell_type": "code",
   "execution_count": 6,
   "metadata": {},
   "outputs": [
    {
     "data": {
      "text/plain": [
       "69.63400291726376"
      ]
     },
     "execution_count": 6,
     "metadata": {},
     "output_type": "execute_result"
    }
   ],
   "source": [
    "fretchet_dist"
   ]
  },
  {
   "cell_type": "code",
   "execution_count": 27,
   "metadata": {},
   "outputs": [],
   "source": [
    "reduced_percentile = 0.2\n",
    "\n",
    "dt_train = CUSTOM_DATASET(args, split=True)\n",
    "train_dataset, _ = dt_train.load_dataset(custom_trasform=True)\n",
    "\n",
    "# Align the number of each group dataset\n",
    "HIHE_len = len(reduced_sort_idx) * 0.5\n",
    "\n",
    "for reduce_mode in ['HIHE', 'Other', 'Random']:\n",
    "    if reduce_mode == 'HIHE':\n",
    "        reduced_data_h = Subset(train_dataset, list(reduced_sort_idx[:int(HIHE_len*(1 - reduced_percentile))]))\n",
    "    if reduce_mode == 'Other':\n",
    "        reduced_data_o = Subset(train_dataset, list(reduced_sort_idx[int(HIHE_len * (1 + reduced_percentile)):]))\n",
    "    if reduce_mode == 'Random':\n",
    "        random_indices = np.random.choice(len(reduced_sort_idx), int(HIHE_len*(1 - reduced_percentile)), replace=False)\n",
    "        random_indices_arr = reduced_sort_idx[random_indices]\n",
    "        reduced_data = Subset(train_dataset, random_indices_arr)"
   ]
  },
  {
   "cell_type": "code",
   "execution_count": 30,
   "metadata": {},
   "outputs": [
    {
     "data": {
      "text/plain": [
       "80"
      ]
     },
     "execution_count": 30,
     "metadata": {},
     "output_type": "execute_result"
    }
   ],
   "source": [
    "len(reduced_data_h)"
   ]
  },
  {
   "cell_type": "code",
   "execution_count": 25,
   "metadata": {},
   "outputs": [
    {
     "data": {
      "text/plain": [
       "array([114, 180, 169, 151,  37,  39,  83,  12, 113,  23,  62, 194,  34,\n",
       "        15,  59,  36,  61, 188, 165, 181, 125,  79, 115,  97,  35, 145,\n",
       "       179,  40, 174, 197,   0, 127,  26,  67, 160, 116,  20, 178, 130,\n",
       "       168, 193, 141, 152, 129, 161,  90, 106, 128, 118,  10,  88, 173,\n",
       "       119, 184,  38,   3,  19, 195, 147,  69,   9,  16,  91,  63,  64,\n",
       "        99,  56,  30, 122,   2, 144, 171, 200, 103,  66, 157,  53,  14,\n",
       "        45, 199, 196, 162, 166, 187, 107, 183,  11, 126,  75, 111, 139,\n",
       "       154,  52,  32, 163, 153,  24, 143, 150, 137,   4,  50,  73, 189,\n",
       "        33,  22,   5,  41, 123, 190,  95,  44,  54, 136,  27, 135,  48,\n",
       "        77, 149, 132,  21,  57, 176,  55, 105,   1, 191,  94,  93, 175,\n",
       "        47,  84, 172, 164, 110,  96, 170,  70,  72, 134, 198, 159,   8,\n",
       "       131, 155,  18, 108,  29, 121,  68, 102,  92,  82,  81, 177, 146,\n",
       "       192, 109,  31,  51,  74, 186, 182,  25,  87, 117, 138,  85,  46,\n",
       "        71, 124, 158, 167,  49, 133,  13,  89, 156,  43,  28,  17, 148,\n",
       "        76, 101,   6,  80,  98,  60,  78, 104, 142,  86, 120,  42, 185,\n",
       "         7,  58,  65, 140, 100, 112], dtype=int64)"
      ]
     },
     "execution_count": 25,
     "metadata": {},
     "output_type": "execute_result"
    }
   ],
   "source": [
    "reduced_sort_idx"
   ]
  }
 ],
 "metadata": {
  "kernelspec": {
   "display_name": "Python 3",
   "language": "python",
   "name": "python3"
  },
  "language_info": {
   "codemirror_mode": {
    "name": "ipython",
    "version": 3
   },
   "file_extension": ".py",
   "mimetype": "text/x-python",
   "name": "python",
   "nbconvert_exporter": "python",
   "pygments_lexer": "ipython3",
   "version": "3.10.14"
  }
 },
 "nbformat": 4,
 "nbformat_minor": 2
}
